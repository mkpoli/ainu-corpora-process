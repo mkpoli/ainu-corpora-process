{
 "cells": [
  {
   "cell_type": "code",
   "execution_count": 13,
   "metadata": {},
   "outputs": [
    {
     "data": {
      "text/plain": [
       "'VERB'"
      ]
     },
     "execution_count": 13,
     "metadata": {},
     "output_type": "execute_result"
    }
   ],
   "source": [
    "UPOS_XPOS_MAP = {\n",
    "    \"VERB\": [\"vi\", \"vd\", \"vc\", \"v\", \"verb\"],\n",
    "    \"NOUN\": [\"n\", \"nl\", \"nmlz\", \"noun\"],\n",
    "    \"PRON\": [\"pron\", \"int\"],\n",
    "    \"PROPN\": [\"propn\"],\n",
    "    \"DET\": [\"adn\", \"determiner\"],\n",
    "    \"ADV\": [\"adv\"],\n",
    "    \"CCONJ\": [\"cconj\"],\n",
    "    \"SCONJ\": [\"cconj\", \"sconj\", \"padv\"],\n",
    "    \"POST\": [\"post\"],\n",
    "    \"AUX\": [\"auxv\", \"cop\"],\n",
    "    \"PART\": [\"sfp\", \"pers\"],\n",
    "    \"INTJ\": [\"intj\"],\n",
    "    \"ADP\": [\"advp\", \"postp\", \"parti\"],\n",
    "    \"NUM\": [\"num\"],\n",
    "    \"PUNCT\": [\"punct\"],\n",
    "}\n",
    "\n",
    "\n",
    "def generate_upos_from_xpos(xpos: str) -> str:\n",
    "    \"\"\"Generate UPOS from XPOS using the reverse mapping.\"\"\"\n",
    "    reverse_map = {x: upos for upos, xposes in UPOS_XPOS_MAP.items() for x in xposes}\n",
    "    return reverse_map.get(xpos, \"_\")\n",
    "\n",
    "generate_upos_from_xpos(\"vi\")"
   ]
  },
  {
   "cell_type": "code",
   "execution_count": 16,
   "metadata": {},
   "outputs": [
    {
     "data": {
      "application/vnd.jupyter.widget-view+json": {
       "model_id": "433a8b2f86c843e180e90d364f3bff10",
       "version_major": 2,
       "version_minor": 0
      },
      "text/plain": [
       "  0%|          | 0/53 [00:00<?, ?it/s]"
      ]
     },
     "metadata": {},
     "output_type": "display_data"
    }
   ],
   "source": [
    "import pickle\n",
    "from typing import List, Dict\n",
    "from pathlib import Path\n",
    "from tqdm.notebook import tqdm\n",
    "\n",
    "def create_conllu_entry(\n",
    "    token_id: int, form: str, pos_tags: List[str], glosses: List[str]\n",
    ") -> str:\n",
    "    \"\"\"Create a CoNLL-U format line for a token.\"\"\"\n",
    "    # Fields: ID FORM LEMMA UPOS XPOS FEATS HEAD DEPREL DEPS MISC\n",
    "\n",
    "    # Use first POS tag as UPOS if available, otherwise '_'\n",
    "    upos = generate_upos_from_xpos(pos_tags[0]) if pos_tags else \"_\"\n",
    "\n",
    "    # Join all POS tags for XPOS\n",
    "    xpos = \"|\".join(pos_tags) if pos_tags else \"_\"\n",
    "\n",
    "    # Join glosses for MISC field\n",
    "    misc = \"Gloss=\" + \"|\".join(glosses) if glosses else \"_\"\n",
    "\n",
    "    lemma = form # TODO:\n",
    "    # Use '_' for fields we don't have information for\n",
    "    return f\"{token_id}\\t{form}\\t{lemma}\\t{upos}\\t{xpos}\\t_\\t_\\t_\\t_\\t{misc}\"\n",
    "\n",
    "\n",
    "def sentence_to_conllu(sentence: Dict) -> str:\n",
    "    \"\"\"Convert a sentence dict to CoNLL-U format string.\"\"\"\n",
    "    # Add sentence metadata\n",
    "    lines = [\n",
    "        \"# text = \" + sentence[\"sentence\"],\n",
    "        \"# translation = \" + sentence[\"translation\"],\n",
    "    ]\n",
    "\n",
    "    # Add token entries\n",
    "    for idx, (word, pos_tags, glosses) in enumerate(\n",
    "        zip(sentence[\"words\"], sentence[\"part_of_speech\"], sentence[\"glosses\"]), start=1\n",
    "    ):\n",
    "        lines.append(create_conllu_entry(idx, word, pos_tags, glosses))\n",
    "\n",
    "    return \"\\n\".join(lines) + \"\\n\"\n",
    "\n",
    "\n",
    "with open(\"output/annotated_translated_tokenized_corpus_by_book.pkl\", \"rb\") as f:\n",
    "    sentences_by_book = pickle.load(f)\n",
    "\n",
    "# Create output directory if it doesn't exist\n",
    "output_dir = Path(\"output/conllu\")\n",
    "output_dir.mkdir(parents=True, exist_ok=True)\n",
    "\n",
    "# Process each book\n",
    "for book_title, sentences in tqdm(list(sentences_by_book.items())):\n",
    "    # Create sanitized filename\n",
    "    filename = \"\".join(c for c in book_title if c.isalnum() or c in (\" \", \"-\"))\n",
    "    filename = filename.replace(\" \", \"_\") + \".conllu\"\n",
    "\n",
    "    # Write CoNLL-U file\n",
    "    with open(output_dir / filename, \"w\", encoding=\"utf-8\") as f:\n",
    "        for sentence in sentences:\n",
    "            f.write(sentence_to_conllu(sentence))\n",
    "            f.write(\"\\n\")  # Add blank line between sentences\n",
    "\n",
    "    # break"
   ]
  }
 ],
 "metadata": {
  "kernelspec": {
   "display_name": ".venv",
   "language": "python",
   "name": "python3"
  },
  "language_info": {
   "codemirror_mode": {
    "name": "ipython",
    "version": 3
   },
   "file_extension": ".py",
   "mimetype": "text/x-python",
   "name": "python",
   "nbconvert_exporter": "python",
   "pygments_lexer": "ipython3",
   "version": "3.12.7"
  }
 },
 "nbformat": 4,
 "nbformat_minor": 2
}
