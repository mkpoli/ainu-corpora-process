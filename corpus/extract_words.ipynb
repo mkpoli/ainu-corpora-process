{
 "cells": [
  {
   "cell_type": "code",
   "execution_count": 13,
   "metadata": {},
   "outputs": [],
   "source": [
    "import pickle\n",
    "\n",
    "from utils.corpus import RawSentence\n",
    "\n",
    "with open(\"output/annotated_translated_tokenized_corpus_by_book.pkl\", \"rb\") as file:\n",
    "    corpus: dict[str, list[RawSentence]] = pickle.load(file)\n",
    "\n",
    "combined_words = [\n",
    "    word\n",
    "    for _, sentences in corpus.items()\n",
    "    for sentence in sentences\n",
    "    for word in sentence[\"words\"]\n",
    "]\n",
    "\n",
    "SAKHALIN_BOOKS = {\n",
    "    \"からふとのアイヌご（入門）\",\n",
    "    \"カラフトのアイヌ語（中級）\",\n",
    "    \"カラフトのアイヌ語（初級）\",\n",
    "    \"ニューエクスプレス・スペシャル 日本語の隣人たち I+II\",\n",
    "    \"ピウスツキ記念碑\",\n",
    "    \"千徳太郎治のピウスツキ宛書簡\",\n",
    "    \"浅井タケ昔話全集I,II\",\n",
    "}\n",
    "\n",
    "MODERN_WORDS = {\"アイヌタイムズ\", \"プラハ宣言\", \"ウポポイ館内展示\", \"萱野茂の国会演説\"}\n",
    "\n",
    "combined_words_hokkaido_traditional = [\n",
    "    word\n",
    "    for book, sentences in corpus.items()\n",
    "    for sentence in sentences\n",
    "    for word in sentence[\"words\"]\n",
    "    if book not in SAKHALIN_BOOKS and book not in MODERN_WORDS\n",
    "]\n",
    "\n",
    "for book, sentences in corpus.items():\n",
    "    flattened_words = [word for sentence in sentences for word in sentence[\"words\"]]"
   ]
  },
  {
   "cell_type": "code",
   "execution_count": 14,
   "metadata": {},
   "outputs": [],
   "source": [
    "from collections import Counter\n",
    "\n",
    "word_counts = Counter(combined_words)\n",
    "\n",
    "with open(\"output/ainu_words_all.tsv\", \"w\") as f:\n",
    "    for word, count in word_counts.most_common():\n",
    "        f.write(f\"{word}\\t{count}\\n\")\n",
    "with open(\"output/ainu_words_hokkaido_traditional.tsv\", \"w\") as f:\n",
    "    for word, count in word_counts.most_common():\n",
    "        f.write(f\"{word}\\t{count}\\n\")\n"
   ]
  },
  {
   "cell_type": "code",
   "execution_count": 15,
   "metadata": {},
   "outputs": [],
   "source": [
    "from pathlib import Path\n",
    "WORDS_BY_BOOK_DIR = Path('output') / 'words_by_book'\n",
    "WORDS_BY_BOOK_DIR.mkdir(parents=True, exist_ok=True)\n",
    "\n",
    "for book, sentences in corpus.items():\n",
    "    flattened_words = [word for sentence in sentences for word in sentence[\"words\"]]\n",
    "    word_counts = Counter(flattened_words)\n",
    "    with open(WORDS_BY_BOOK_DIR / f\"{book}.tsv\", \"w\") as f:\n",
    "        for word, count in word_counts.most_common():\n",
    "            f.write(f\"{word}\\t{count}\\n\")\n"
   ]
  }
 ],
 "metadata": {
  "kernelspec": {
   "display_name": ".venv",
   "language": "python",
   "name": "python3"
  },
  "language_info": {
   "codemirror_mode": {
    "name": "ipython",
    "version": 3
   },
   "file_extension": ".py",
   "mimetype": "text/x-python",
   "name": "python",
   "nbconvert_exporter": "python",
   "pygments_lexer": "ipython3",
   "version": "3.12.7"
  }
 },
 "nbformat": 4,
 "nbformat_minor": 2
}
