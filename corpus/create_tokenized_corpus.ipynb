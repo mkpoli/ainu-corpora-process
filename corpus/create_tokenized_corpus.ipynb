{
 "cells": [
  {
   "cell_type": "code",
   "execution_count": 1,
   "metadata": {},
   "outputs": [],
   "source": [
    "# !huggingface-cli login"
   ]
  },
  {
   "cell_type": "code",
   "execution_count": 2,
   "metadata": {},
   "outputs": [
    {
     "data": {
      "application/vnd.jupyter.widget-view+json": {
       "model_id": "b06e4cfdf8d746388d486a665ce79546",
       "version_major": 2,
       "version_minor": 0
      },
      "text/plain": [
       "README.md:   0%|          | 0.00/1.87k [00:00<?, ?B/s]"
      ]
     },
     "metadata": {},
     "output_type": "display_data"
    },
    {
     "name": "stderr",
     "output_type": "stream",
     "text": [
      "Using the latest cached version of the dataset since aynumosir/ainu-corpora couldn't be found on the Hugging Face Hub\n",
      "Found the latest cached dataset configuration 'default' at /home/mkpoli/.cache/huggingface/datasets/aynumosir___ainu-corpora/default/0.0.0/81c26c21bbd662ae55371f334e0796a99c8b3d61 (last modified on Sat Dec 28 16:27:18 2024).\n"
     ]
    }
   ],
   "source": [
    "from typing import cast\n",
    "import datasets\n",
    "\n",
    "dataset = cast(datasets.DatasetDict, datasets.load_dataset(\"aynumosir/ainu-corpora\"))"
   ]
  },
  {
   "cell_type": "code",
   "execution_count": 3,
   "metadata": {},
   "outputs": [
    {
     "data": {
      "text/plain": [
       "dict_keys(['アイヌ語アーカイブ', 'アイヌ語アーカイブ音声資料', 'アイヌ民族文化センター研究紀要', 'アイヌ神謡集', 'アイヌ語鵡川方言日本語‐アイヌ語辞典', '平取町アイヌ口承文芸', 'アイヌタイムズ', 'AA研アイヌ語資料', 'アイヌ語口承文芸コーパス', 'アイヌ語會話字典', '鍋沢元蔵筆録ノート', 'しずないのアイヌご（入門）', 'カムイユカㇻを聞いてアイヌ語を学ぶ', '浅井タケ昔話全集I,II', '北海道立アイヌ民族文化研究センター紀要', 'アイヌ語・アイヌ文化研究の課題', '幌別のアイヌ語（中級）', 'アイヌ語音声資料', '千歳のアイヌ語（中級）', '千徳太郎治のピウスツキ宛書簡', 'からふとのアイヌご（入門）', '石狩川のアイヌ語（中級）', '十勝のアイヌ語（中級）', '沙流のアイヌ語（中級）', 'アイヌ口承文芸テキスト集', '美幌のアイヌ語（中級）', 'いしかりがわのアイヌご（入門）', '千歳のアイヌ語（初級）', '幌別のアイヌ語（初級）', '十勝のアイヌ語（初級）', 'ニューエクスプレスプラス アイヌ語', 'アイヌ語ラジオ講座テキスト', '白沢ナベと小田イトの会話', 'びほろのあいぬご（入門）', 'カラフトのアイヌ語（初級）', 'アイヌ語復興に関わる諸問題', 'とかちのアイヌご（入門）', '第27回アイヌ語弁論大会', 'アコㇿイタㇰ', '美幌のアイヌ語（初級）', 'プラハ宣言', 'さるのアイヌご（入門）', 'ほろべつのアイヌご（入門）', '石狩川のアイヌ語（初級）', '沙流のアイヌ語（初級）', 'カラフトのアイヌ語（中級）', 'ウポポイ館内展示', '静内のアイヌ語（中級）', '静内のアイヌ語（初級）', 'ニューエクスプレス・スペシャル 日本語の隣人たち I+II', '萱野茂の国会演説', 'ちとせのアイヌご（入門）', 'ピウスツキ記念碑'])"
      ]
     },
     "execution_count": 3,
     "metadata": {},
     "output_type": "execute_result"
    }
   ],
   "source": [
    "import json\n",
    "\n",
    "from collections import defaultdict\n",
    "from itertools import chain\n",
    "from typing import cast, TypedDict\n",
    "from utils.tokenize import tokenize\n",
    "\n",
    "\n",
    "class Text(TypedDict):\n",
    "    book: str\n",
    "    title: str\n",
    "    url: str\n",
    "    pronoun: str\n",
    "    author: str\n",
    "    dialect: str\n",
    "    text: str\n",
    "    translation: str\n",
    "    label: str\n",
    "\n",
    "\n",
    "class CorpusItem(TypedDict):\n",
    "    translation: str\n",
    "    sentence: str\n",
    "    words: list[str]\n",
    "    part_of_speech: list[str]\n",
    "\n",
    "sentences_by_book = defaultdict(list)\n",
    "\n",
    "with open(\"../dictionary/output/combined_part_of_speech.json\", \"r\") as f:\n",
    "    part_of_speech = json.load(f)\n",
    "\n",
    "for text in chain(dataset[\"test\"], dataset[\"train\"]):\n",
    "    text = cast(Text, text)\n",
    "    words = tokenize(text[\"text\"])\n",
    "    sentences_by_book[text[\"book\"]].append(\n",
    "        {\n",
    "            \"translation\": text[\"translation\"],\n",
    "            \"sentence\": text[\"text\"],\n",
    "            \"words\": words,\n",
    "            \"part_of_speech\": [\n",
    "                part_of_speech.get(w, []) for w in words\n",
    "            ],\n",
    "        }\n",
    "    )\n",
    "\n",
    "sentences_by_book.keys()"
   ]
  },
  {
   "cell_type": "code",
   "execution_count": 4,
   "metadata": {},
   "outputs": [
    {
     "name": "stdout",
     "output_type": "stream",
     "text": [
      "176935\n"
     ]
    }
   ],
   "source": [
    "sentences = print(sum(len(v) for v in sentences_by_book.values()))"
   ]
  },
  {
   "cell_type": "code",
   "execution_count": 5,
   "metadata": {},
   "outputs": [
    {
     "name": "stdout",
     "output_type": "stream",
     "text": [
      "sentence:  ponno ne kusu ci=koykokanu wa un=kore yan.\n",
      "translation:  少しですので、私のアイヌ語にお耳を傾けてくださいますようお願い申し上げる次第です。\n",
      "words:  ['ponno', 'ne', 'kusu', 'ci=', 'koykokanu', 'wa', 'un=', 'kore', 'yan']\n",
      "part of speech:  [[], ['determiner', 'pron', 'verb', 'parti', 'pronoun'], ['parti', 'adv'], ['prefix', 'verb'], [], ['parti'], ['prefix'], ['verb'], ['parti']]\n",
      "----------------------------------------------------------------------------------------------------\n",
      "sentence:  ne hi or ta nispa utar ku=koramkor hi ene oka hi aynumosir un aynu utar ka koeturenno sisam mosir ta oka aynu ka ene ne yakka aynu néno aynuitak ani ukoytak pa wa ratci oka apunno oka kuni kosanniyo wa un=kore yan\n",
      "translation:  そこで、私が先生方にお願いしたいということは、北海道にいるアイヌたち、それと一緒に、各地にいるアイヌたちがどのようにしたらアイヌ民族らしくアイヌ語で会話を交わし、静かに豊かに暮らしていけるかを先生方に考えてほしいと私は思い、\n",
      "words:  ['ne', 'hi', 'or', 'ta', 'nispa', 'utar', 'ku=', 'koramkor', 'hi', 'ene', 'oka', 'hi', 'aynumosir', 'un', 'aynu', 'utar', 'ka', 'koeturenno', 'sisam', 'mosir', 'ta', 'oka', 'aynu', 'ka', 'ene', 'ne', 'yakka', 'aynu', 'néno', 'aynuitak', 'ani', 'ukoytak', 'pa', 'wa', 'ratci', 'oka', 'apunno', 'oka', 'kuni', 'kosanniyo', 'wa', 'un=', 'kore', 'yan']\n",
      "part of speech:  [['determiner', 'pron', 'verb', 'parti', 'pronoun'], ['noun'], ['noun'], ['parti', 'verb'], ['noun'], ['noun'], ['prefix'], [], ['noun'], ['adv'], ['verb', 'noun', 'pron'], ['noun'], [], ['parti', 'verb'], ['noun'], ['noun'], ['parti', 'noun'], [], ['noun'], ['noun'], ['parti', 'verb'], ['verb', 'noun', 'pron'], ['noun'], ['parti', 'noun'], ['adv'], ['determiner', 'pron', 'verb', 'parti', 'pronoun'], ['parti'], ['noun'], [], [], ['postpadv', 'verb', 'noun', 'parti'], [], ['noun', 'adv', 'verb', 'auxverb', 'suffix', 'root'], ['parti'], [], ['verb', 'noun', 'pron'], ['adv'], ['verb', 'noun', 'pron'], ['noun'], [], ['parti'], ['prefix'], ['verb'], ['parti']]\n",
      "----------------------------------------------------------------------------------------------------\n",
      "sentence:  teeta anakne aynumosir mosir so ka ta aynu patek an hi ta anakne uwepeker koraci sinne yuk ne ciki sípe ne ciki nep pakno oka p ne kusu nep a=e rusuy nep a=konrusuy somo ki no aynu patek oka hi ne a korka ne usike un sísam ne manu p upas horutke ekannayukar ek pa ruwe ne.\n",
      "translation:  ずっと昔、アイヌ民族の静かな大地、北海道にアイヌ民族だけが暮らしていた時代、アイヌの昔話と全く同じに、シカであってもシャケであってもたくさんいたので、何を食べたいとも、何を欲しいとも思わず、アイヌ民族だけで暮らしていたが、そのところへ和人という違う民族が雪なだれのように移住してきたのであります。\n",
      "words:  ['teeta', 'anakne', 'aynumosir', 'mosir', 'so', 'ka', 'ta', 'aynu', 'patek', 'an', 'hi', 'ta', 'anakne', 'uwepeker', 'koraci', 'sinne', 'yuk', 'ne', 'ciki', 'sípe', 'ne', 'ciki', 'nep', 'pakno', 'oka', 'p', 'ne', 'kusu', 'nep', 'a=', 'e', 'rusuy', 'nep', 'a=', 'konrusuy', 'somo', 'ki', 'no', 'aynu', 'patek', 'oka', 'hi', 'ne', 'a', 'korka', 'ne', 'usike', 'un', 'sísam', 'ne', 'manu', 'p', 'upas', 'horutke', 'ekannayukar', 'ek', 'pa', 'ruwe', 'ne']\n",
      "part of speech:  [['noun'], ['parti'], [], ['noun'], ['parti', 'noun'], ['parti', 'noun'], ['parti', 'verb'], ['noun'], ['adv'], ['parti', 'verb', 'root'], ['noun'], ['parti', 'verb'], ['parti'], ['noun'], ['adv'], [], ['noun'], ['determiner', 'pron', 'verb', 'parti', 'pronoun'], ['parti'], [], ['determiner', 'pron', 'verb', 'parti', 'pronoun'], ['parti'], ['noun'], ['adv'], ['verb', 'noun', 'pron'], ['suffix'], ['determiner', 'pron', 'verb', 'parti', 'pronoun'], ['parti', 'adv'], ['noun'], ['prefix', 'verb'], ['interj', 'verb', 'root'], ['parti'], ['noun'], ['prefix', 'verb'], [], ['adv'], ['verb'], ['suffix'], ['noun'], ['adv'], ['verb', 'noun', 'pron'], ['noun'], ['determiner', 'pron', 'verb', 'parti', 'pronoun'], ['auxverb', 'verb'], ['parti'], ['determiner', 'pron', 'verb', 'parti', 'pronoun'], [], ['parti', 'verb'], [], ['determiner', 'pron', 'verb', 'parti', 'pronoun'], [], ['suffix'], ['noun'], [], [], ['verb'], ['noun', 'adv', 'verb', 'auxverb', 'suffix', 'root'], ['verb', 'noun'], ['determiner', 'pron', 'verb', 'parti', 'pronoun']]\n",
      "----------------------------------------------------------------------------------------------------\n",
      "sentence:  heino　u kor turesi\n",
      "translation:  の妹が\n",
      "words:  ['heino', 'u', 'kor', 'turesi']\n",
      "part of speech:  [[], [], ['parti', 'verb'], ['noun']]\n",
      "----------------------------------------------------------------------------------------------------\n",
      "sentence:  iyonnuppa ye a ye a\n",
      "translation:  告げ口して何度も言って\n",
      "words:  ['iyonnuppa', 'ye', 'a', 'ye', 'a']\n",
      "part of speech:  [[], ['verb', 'noun'], ['auxverb', 'verb'], ['verb', 'noun'], ['auxverb', 'verb']]\n",
      "----------------------------------------------------------------------------------------------------\n",
      "sentence:  paye=an ayne\n",
      "translation:  行くうちに\n",
      "words:  ['paye', '=an', 'ayne']\n",
      "part of speech:  [['verb'], ['verb', 'suffix'], ['adv']]\n",
      "----------------------------------------------------------------------------------------------------\n",
      "sentence:  soyne=an akusu nani nea ekimne ru kari ekimun si... hoyupu=an rusuy wa\n",
      "translation:  私が外に出てみると、すぐその山へ続く道から、山の方へ私は走りたくて\n",
      "words:  ['soyne', '=an', 'akusu', 'nani', 'nea', 'ekimne', 'ru', 'kari', 'ekimun', 'si', 'hoyupu', '=an', 'rusuy', 'wa']\n",
      "part of speech:  [['verb'], ['verb', 'suffix'], ['conj'], ['adv'], ['adnom'], ['adv', 'verb'], ['noun'], [], [], ['noun', 'root'], ['verb'], ['verb', 'suffix'], ['parti'], ['parti']]\n",
      "----------------------------------------------------------------------------------------------------\n",
      "sentence:  rewsi uci... un... cise or pakno poka paye=an wa inkanrusuy=’an kus,\n",
      "translation:  泊まり小屋のところまででも行って様子を見たいと思ったので、\n",
      "words:  ['rewsi', 'uci', 'un', 'cise', 'or', 'pakno', 'poka', 'paye', '=an', 'wa', 'inkanrusuy', '=’an', 'kus']\n",
      "part of speech:  [[], [], ['parti', 'verb'], ['noun'], ['noun'], ['adv'], ['parti'], ['verb'], ['verb', 'suffix'], ['parti'], [], [], ['verb']]\n",
      "----------------------------------------------------------------------------------------------------\n",
      "sentence:  tu aynu oka hine\n",
      "translation:  二人の人間がいて\n",
      "words:  ['tu', 'aynu', 'oka', 'hine']\n",
      "part of speech:  [['num'], ['noun'], ['verb', 'noun', 'pron'], ['parti', 'conj']]\n",
      "----------------------------------------------------------------------------------------------------\n",
      "sentence:  Neun poka neun poka ku=sapaha ku=noynoye kor ku=ye kor k=an\n",
      "translation:  なんとか私は頭をひねりながら話しています\n",
      "words:  ['neun', 'poka', 'neun', 'poka', 'ku=', 'sapaha', 'ku=', 'noynoye', 'kor', 'ku=', 'ye', 'kor', 'k=', 'an']\n",
      "part of speech:  [['adv'], ['parti'], ['adv'], ['parti'], ['prefix'], ['noun'], ['prefix'], [], ['parti', 'verb'], ['prefix'], ['verb', 'noun'], ['parti', 'verb'], [], ['parti', 'verb', 'root']]\n",
      "----------------------------------------------------------------------------------------------------\n",
      "sentence:  Siraoi wano basu k=o wa Tomakomai ta ku=ran.\n",
      "translation:  私は白老からバスに乗って苫小牧で下りました\n",
      "words:  ['siraoi', 'wano', 'basu', 'k=', 'o', 'wa', 'tomakomai', 'ta', 'ku=', 'ran']\n",
      "part of speech:  [[], ['parti'], [], [], ['verb'], ['parti'], [], ['parti', 'verb'], ['prefix'], ['verb']]\n",
      "----------------------------------------------------------------------------------------------------\n",
      "sentence:  E=sini ka somo ki no e=arikiki siri?\n",
      "translation:  あなたは休みもしないで働いていたのですか？\n",
      "words:  ['e=', 'sini', 'ka', 'somo', 'ki', 'no', 'e=', 'arikiki', 'siri']\n",
      "part of speech:  [['prefix'], [], ['parti', 'noun'], ['adv'], ['verb'], ['suffix'], ['prefix'], ['verb'], ['noun']]\n",
      "----------------------------------------------------------------------------------------------------\n"
     ]
    }
   ],
   "source": [
    "for sentence in (\n",
    "    sentences_by_book[\"萱野茂の国会演説\"][0:3]\n",
    "    + sentences_by_book[\"平取町アイヌ口承文芸\"][-3:]\n",
    "    + sentences_by_book[\"AA研アイヌ語資料\"][55 : 55 + 3]\n",
    "    + sentences_by_book[\"沙流のアイヌ語（中級）\"][10:13]\n",
    "):\n",
    "    print(\"sentence: \", sentence[\"sentence\"])\n",
    "    print(\"translation: \", sentence[\"translation\"])\n",
    "    print(\"words: \", sentence[\"words\"])\n",
    "    print(\"part of speech: \", sentence[\"part_of_speech\"])\n",
    "    print(\"-\" * 100)"
   ]
  },
  {
   "cell_type": "code",
   "execution_count": 6,
   "metadata": {},
   "outputs": [],
   "source": [
    "import pickle\n",
    "\n",
    "with open(\"output/annotated_translated_tokenized_corpus_by_book.pkl\", \"wb\") as f:\n",
    "    pickle.dump(sentences_by_book, f)"
   ]
  }
 ],
 "metadata": {
  "kernelspec": {
   "display_name": ".venv",
   "language": "python",
   "name": "python3"
  },
  "language_info": {
   "codemirror_mode": {
    "name": "ipython",
    "version": 3
   },
   "file_extension": ".py",
   "mimetype": "text/x-python",
   "name": "python",
   "nbconvert_exporter": "python",
   "pygments_lexer": "ipython3",
   "version": "3.12.7"
  }
 },
 "nbformat": 4,
 "nbformat_minor": 2
}
