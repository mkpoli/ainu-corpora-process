{
 "cells": [
  {
   "cell_type": "code",
   "execution_count": 1,
   "metadata": {},
   "outputs": [],
   "source": [
    "%load_ext autoreload\n",
    "%autoreload 2"
   ]
  },
  {
   "cell_type": "code",
   "execution_count": 2,
   "metadata": {},
   "outputs": [],
   "source": [
    "# !huggingface-cli login"
   ]
  },
  {
   "cell_type": "code",
   "execution_count": 3,
   "metadata": {},
   "outputs": [
    {
     "name": "stderr",
     "output_type": "stream",
     "text": [
      "Using the latest cached version of the dataset since aynumosir/ainu-corpora couldn't be found on the Hugging Face Hub\n",
      "Found the latest cached dataset configuration 'default' at /home/mkpoli/.cache/huggingface/datasets/aynumosir___ainu-corpora/default/0.0.0/81c26c21bbd662ae55371f334e0796a99c8b3d61 (last modified on Sat Dec 28 16:27:18 2024).\n"
     ]
    }
   ],
   "source": [
    "from typing import cast\n",
    "import datasets\n",
    "\n",
    "dataset = cast(datasets.DatasetDict, datasets.load_dataset(\"aynumosir/ainu-corpora\"))"
   ]
  },
  {
   "cell_type": "code",
   "execution_count": 4,
   "metadata": {},
   "outputs": [
    {
     "data": {
      "application/vnd.jupyter.widget-view+json": {
       "model_id": "f392a855a1f44b298695fd7ca09269d8",
       "version_major": 2,
       "version_minor": 0
      },
      "text/plain": [
       "  0%|          | 0/176935 [00:00<?, ?it/s]"
      ]
     },
     "metadata": {},
     "output_type": "display_data"
    },
    {
     "data": {
      "text/plain": [
       "dict_keys(['アイヌ語アーカイブ', 'アイヌ語アーカイブ音声資料', 'アイヌ民族文化センター研究紀要', 'アイヌ神謡集', 'アイヌ語鵡川方言日本語‐アイヌ語辞典', '平取町アイヌ口承文芸', 'アイヌタイムズ', 'AA研アイヌ語資料', 'アイヌ語口承文芸コーパス', 'アイヌ語會話字典', '鍋沢元蔵筆録ノート', 'しずないのアイヌご（入門）', 'カムイユカㇻを聞いてアイヌ語を学ぶ', '浅井タケ昔話全集I,II', '北海道立アイヌ民族文化研究センター紀要', 'アイヌ語・アイヌ文化研究の課題', '幌別のアイヌ語（中級）', 'アイヌ語音声資料', '千歳のアイヌ語（中級）', '千徳太郎治のピウスツキ宛書簡', 'からふとのアイヌご（入門）', '石狩川のアイヌ語（中級）', '十勝のアイヌ語（中級）', '沙流のアイヌ語（中級）', 'アイヌ口承文芸テキスト集', '美幌のアイヌ語（中級）', 'いしかりがわのアイヌご（入門）', '千歳のアイヌ語（初級）', '幌別のアイヌ語（初級）', '十勝のアイヌ語（初級）', 'ニューエクスプレスプラス アイヌ語', 'アイヌ語ラジオ講座テキスト', '白沢ナベと小田イトの会話', 'びほろのあいぬご（入門）', 'カラフトのアイヌ語（初級）', 'アイヌ語復興に関わる諸問題', 'とかちのアイヌご（入門）', '第27回アイヌ語弁論大会', 'アコㇿイタㇰ', '美幌のアイヌ語（初級）', 'プラハ宣言', 'さるのアイヌご（入門）', 'ほろべつのアイヌご（入門）', '石狩川のアイヌ語（初級）', '沙流のアイヌ語（初級）', 'カラフトのアイヌ語（中級）', 'ウポポイ館内展示', '静内のアイヌ語（中級）', '静内のアイヌ語（初級）', 'ニューエクスプレス・スペシャル 日本語の隣人たち I+II', '萱野茂の国会演説', 'ちとせのアイヌご（入門）', 'ピウスツキ記念碑'])"
      ]
     },
     "execution_count": 4,
     "metadata": {},
     "output_type": "execute_result"
    }
   ],
   "source": [
    "import json\n",
    "\n",
    "from collections import defaultdict\n",
    "from itertools import chain\n",
    "from typing import cast, TypedDict\n",
    "from utils.corpus import CorpusItem\n",
    "from utils.lemmatize import lemmatize\n",
    "from utils.tokenize import tokenize\n",
    "from tqdm.notebook import tqdm\n",
    "\n",
    "class Text(TypedDict):\n",
    "    book: str\n",
    "    title: str\n",
    "    url: str\n",
    "    pronoun: str\n",
    "    author: str\n",
    "    dialect: str\n",
    "    text: str\n",
    "    translation: str\n",
    "    label: str\n",
    "\n",
    "sentences_by_book: defaultdict[str, list[CorpusItem]] = defaultdict(list)\n",
    "\n",
    "with open(\"../dictionary/output/combined_part_of_speech.json\", \"r\") as f:\n",
    "    part_of_speech = json.load(f)\n",
    "\n",
    "with open(\"../dictionary/output/combined_glosses.json\", \"r\") as f:\n",
    "    glosses = json.load(f)\n",
    "\n",
    "data = list(chain(dataset[\"test\"], dataset[\"train\"]))\n",
    "\n",
    "for text in tqdm(data):\n",
    "    text = cast(Text, text)\n",
    "    words = tokenize(text[\"text\"])\n",
    "\n",
    "    poses: list[list[str]] = [part_of_speech.get(w, []) for w in words]\n",
    "\n",
    "    lemmatized: list[list[tuple[str, dict[str, str]]]] = [\n",
    "        [lemmatize(w, p) for p in ps] for w, ps in zip(words, poses) for p in ps\n",
    "    ]\n",
    "\n",
    "    sentences_by_book[text[\"book\"]].append(\n",
    "        {\n",
    "            \"translation\": text[\"translation\"],\n",
    "            \"sentence\": text[\"text\"],\n",
    "            \"words\": words,\n",
    "            \"lemmas\": [[lemma for lemma, _ in lemmas] for lemmas in lemmatized],\n",
    "            \"features\": [\n",
    "                [features for _, features in lemmas] for lemmas in lemmatized\n",
    "            ],\n",
    "            \"part_of_speech\": poses,\n",
    "            \"glosses\": [glosses.get(w, []) for w in words],\n",
    "        }\n",
    "    )\n",
    "\n",
    "sentences_by_book.keys()"
   ]
  },
  {
   "cell_type": "code",
   "execution_count": 5,
   "metadata": {},
   "outputs": [
    {
     "name": "stdout",
     "output_type": "stream",
     "text": [
      "176935\n"
     ]
    }
   ],
   "source": [
    "sentences = print(sum(len(v) for v in sentences_by_book.values()))"
   ]
  },
  {
   "cell_type": "code",
   "execution_count": 6,
   "metadata": {},
   "outputs": [
    {
     "name": "stdout",
     "output_type": "stream",
     "text": [
      "sentence:  ponno ne kusu ci=koykokanu wa un=kore yan.\n",
      "translation:  少しですので、私のアイヌ語にお耳を傾けてくださいますようお願い申し上げる次第です。\n",
      "words:  ['ponno', 'ne', 'kusu', 'ci=', 'koykokanu', 'wa', 'un=', 'kore', 'yan', '.']\n",
      "lemmas:  [['ne', 'ne', 'ne', 'ne', 'ne'], ['ne', 'ne', 'ne', 'ne', 'ne'], ['ne', 'ne', 'ne', 'ne', 'ne'], ['ne', 'ne', 'ne', 'ne', 'ne'], ['ne', 'ne', 'ne', 'ne', 'ne'], ['kusu', 'kusu'], ['kusu', 'kusu'], ['ci=', 'ci='], ['ci=', 'ci='], ['wa'], ['un='], ['kore'], ['yan']]\n",
      "features:  [[{}, {'Valency': '-1'}, {}, {'Valency': '0'}, {}], [{}, {'Valency': '-1'}, {}, {'Valency': '0'}, {}], [{}, {'Valency': '-1'}, {}, {'Valency': '0'}, {}], [{}, {'Valency': '-1'}, {}, {'Valency': '0'}, {}], [{}, {'Valency': '-1'}, {}, {'Valency': '0'}, {}], [{'Valency': '0'}, {'Valency': '0'}], [{'Valency': '0'}, {'Valency': '0'}], [{'Person': '1', 'Number': 'Sing', 'Clusivity': 'Ex', 'Case': 'Nom', 'Valency': '-1'}, {'Person': '1', 'Number': 'Sing', 'Clusivity': 'Ex', 'Case': 'Nom', 'Valency': '-1'}], [{'Person': '1', 'Number': 'Sing', 'Clusivity': 'Ex', 'Case': 'Nom', 'Valency': '-1'}, {'Person': '1', 'Number': 'Sing', 'Clusivity': 'Ex', 'Case': 'Nom', 'Valency': '-1'}], [{'Valency': '0'}], [{'Person': '1', 'Number': 'Plur', 'Clusivity': 'Ex', 'Case': 'Acc', 'Valency': '-1'}], [{}], [{'Valency': '0'}]]\n",
      "part of speech:  [[], ['determiner', 'pron', 'verb', 'parti', 'pronoun'], ['parti', 'adv'], ['prefix', 'verb'], [], ['parti'], ['prefix'], ['verb'], ['parti'], []]\n",
      "glosses:  [['少しわずか'], ['～に'], ['～する・したから', 'なので', '～のために', '～するために', '～だから'], ['私たちが', '神の一人称'], [], ['～のだよ', '～わ', '～のだ', '～よ'], [], ['～に～を〈動詞〉してください', '～に～を渡す'], ['～してください', '～して', '～しなさい'], []]\n",
      "----------------------------------------------------------------------------------------------------\n",
      "sentence:  ne hi or ta nispa utar ku=koramkor hi ene oka hi aynumosir un aynu utar ka koeturenno sisam mosir ta oka aynu ka ene ne yakka aynu néno aynuitak ani ukoytak pa wa ratci oka apunno oka kuni kosanniyo wa un=kore yan\n",
      "translation:  そこで、私が先生方にお願いしたいということは、北海道にいるアイヌたち、それと一緒に、各地にいるアイヌたちがどのようにしたらアイヌ民族らしくアイヌ語で会話を交わし、静かに豊かに暮らしていけるかを先生方に考えてほしいと私は思い、\n",
      "words:  ['ne', 'hi', 'or', 'ta', 'nispa', 'utar', 'ku=', 'koramkor', 'hi', 'ene', 'oka', 'hi', 'aynumosir', 'un', 'aynu', 'utar', 'ka', 'koeturenno', 'sisam', 'mosir', 'ta', 'oka', 'aynu', 'ka', 'ene', 'ne', 'yakka', 'aynu', 'néno', 'aynuitak', 'ani', 'ukoytak', 'pa', 'wa', 'ratci', 'oka', 'apunno', 'oka', 'kuni', 'kosanniyo', 'wa', 'un=', 'kore', 'yan']\n",
      "lemmas:  [['ne', 'ne', 'ne', 'ne', 'ne'], ['ne', 'ne', 'ne', 'ne', 'ne'], ['ne', 'ne', 'ne', 'ne', 'ne'], ['ne', 'ne', 'ne', 'ne', 'ne'], ['ne', 'ne', 'ne', 'ne', 'ne'], ['hi'], ['or'], ['ta', 'ta'], ['ta', 'ta'], ['nispa'], ['utar'], ['ku='], ['hi'], ['ene'], ['oka', 'oka', 'oka'], ['oka', 'oka', 'oka'], ['oka', 'oka', 'oka'], ['hi'], ['un', 'un'], ['un', 'un'], ['aynu'], ['utar'], ['ka', 'ka'], ['ka', 'ka'], ['sisam'], ['mosir'], ['ta', 'ta'], ['ta', 'ta'], ['oka', 'oka', 'oka'], ['oka', 'oka', 'oka'], ['oka', 'oka', 'oka'], ['aynu'], ['ka', 'ka'], ['ka', 'ka'], ['ene'], ['ne', 'ne', 'ne', 'ne', 'ne'], ['ne', 'ne', 'ne', 'ne', 'ne'], ['ne', 'ne', 'ne', 'ne', 'ne'], ['ne', 'ne', 'ne', 'ne', 'ne'], ['ne', 'ne', 'ne', 'ne', 'ne'], ['yakka'], ['aynu'], ['ani', 'ani', 'ani', 'ani'], ['ani', 'ani', 'ani', 'ani'], ['ani', 'ani', 'ani', 'ani'], ['ani', 'ani', 'ani', 'ani'], ['pa', 'pa', 'pa', 'pa', 'pa', 'pa'], ['pa', 'pa', 'pa', 'pa', 'pa', 'pa'], ['pa', 'pa', 'pa', 'pa', 'pa', 'pa'], ['pa', 'pa', 'pa', 'pa', 'pa', 'pa'], ['pa', 'pa', 'pa', 'pa', 'pa', 'pa'], ['pa', 'pa', 'pa', 'pa', 'pa', 'pa'], ['wa'], ['oka', 'oka', 'oka'], ['oka', 'oka', 'oka'], ['oka', 'oka', 'oka'], ['apunno'], ['oka', 'oka', 'oka'], ['oka', 'oka', 'oka'], ['oka', 'oka', 'oka'], ['kuni'], ['wa'], ['un='], ['kore'], ['yan']]\n",
      "features:  [[{}, {'Valency': '-1'}, {}, {'Valency': '0'}, {}], [{}, {'Valency': '-1'}, {}, {'Valency': '0'}, {}], [{}, {'Valency': '-1'}, {}, {'Valency': '0'}, {}], [{}, {'Valency': '-1'}, {}, {'Valency': '0'}, {}], [{}, {'Valency': '-1'}, {}, {'Valency': '0'}, {}], [{}], [{}], [{'Valency': '0'}, {}], [{'Valency': '0'}, {}], [{}], [{}], [{'Person': '1', 'Number': 'Sing', 'Case': 'Nom', 'Valency': '-1'}], [{}], [{'Valency': '0'}], [{}, {}, {'Valency': '-1'}], [{}, {}, {'Valency': '-1'}], [{}, {}, {'Valency': '-1'}], [{}], [{'Valency': '0'}, {}], [{'Valency': '0'}, {}], [{}], [{}], [{'Valency': '0'}, {}], [{'Valency': '0'}, {}], [{}], [{}], [{'Valency': '0'}, {}], [{'Valency': '0'}, {}], [{}, {}, {'Valency': '-1'}], [{}, {}, {'Valency': '-1'}], [{}, {}, {'Valency': '-1'}], [{}], [{'Valency': '0'}, {}], [{'Valency': '0'}, {}], [{'Valency': '0'}], [{}, {'Valency': '-1'}, {}, {'Valency': '0'}, {}], [{}, {'Valency': '-1'}, {}, {'Valency': '0'}, {}], [{}, {'Valency': '-1'}, {}, {'Valency': '0'}, {}], [{}, {'Valency': '-1'}, {}, {'Valency': '0'}, {}], [{}, {'Valency': '-1'}, {}, {'Valency': '0'}, {}], [{'Valency': '0'}], [{}], [{}, {}, {}, {'Valency': '0'}], [{}, {}, {}, {'Valency': '0'}], [{}, {}, {}, {'Valency': '0'}], [{}, {}, {}, {'Valency': '0'}], [{}, {'Valency': '0'}, {}, {}, {}, {'Valency': '-1'}], [{}, {'Valency': '0'}, {}, {}, {}, {'Valency': '-1'}], [{}, {'Valency': '0'}, {}, {}, {}, {'Valency': '-1'}], [{}, {'Valency': '0'}, {}, {}, {}, {'Valency': '-1'}], [{}, {'Valency': '0'}, {}, {}, {}, {'Valency': '-1'}], [{}, {'Valency': '0'}, {}, {}, {}, {'Valency': '-1'}], [{'Valency': '0'}], [{}, {}, {'Valency': '-1'}], [{}, {}, {'Valency': '-1'}], [{}, {}, {'Valency': '-1'}], [{'Valency': '0'}], [{}, {}, {'Valency': '-1'}], [{}, {}, {'Valency': '-1'}], [{}, {}, {'Valency': '-1'}], [{}], [{'Valency': '0'}], [{'Person': '1', 'Number': 'Plur', 'Clusivity': 'Ex', 'Case': 'Acc', 'Valency': '-1'}], [{}], [{'Valency': '0'}]]\n",
      "part of speech:  [['determiner', 'pron', 'verb', 'parti', 'pronoun'], ['noun'], ['noun'], ['parti', 'verb'], ['noun'], ['noun'], ['prefix'], [], ['noun'], ['adv'], ['verb', 'noun', 'pron'], ['noun'], [], ['parti', 'verb'], ['noun'], ['noun'], ['parti', 'noun'], [], ['noun'], ['noun'], ['parti', 'verb'], ['verb', 'noun', 'pron'], ['noun'], ['parti', 'noun'], ['adv'], ['determiner', 'pron', 'verb', 'parti', 'pronoun'], ['parti'], ['noun'], [], [], ['postpadv', 'verb', 'noun', 'parti'], [], ['noun', 'adv', 'verb', 'auxverb', 'suffix', 'root'], ['parti'], [], ['verb', 'noun', 'pron'], ['adv'], ['verb', 'noun', 'pron'], ['noun'], [], ['parti'], ['prefix'], ['verb'], ['parti']]\n",
      "glosses:  [['～に'], ['時', 'こと'], ['場所として扱えない名詞の後に置いて場所を表す名詞句を作る', '強調する', '～の所', '場所をあらわす名詞の後に置いて', '所属形 oro ですでに言及した場所を示す'], ['掘る', '汲む', '～を採る'], ['金持ち', '主人', '紳士', '裕福な人', '長者', '～さん', '旦那'], [], ['私が'], ['相談する', '頼み事をする', '女を口説く'], ['時', 'こと'], ['このように'], ['彼ら'], ['時', 'こと'], ['人間の世界', '地上の世界'], ['他動詞'], ['父親', '人間', '人物', 'お父さん', '男子', '長者', 'アイヌ民族', '男'], [], ['～も', '～までも'], [], ['日本人', '日本語', '日本国', '日本'], ['大地', '土地', '世界', '国', '島', '～界', '国土'], ['掘る', '汲む', '～を採る'], ['彼ら'], ['父親', '人間', '人物', 'お父さん', '男子', '長者', 'アイヌ民族', '男'], ['～も', '～までも'], ['このように'], ['～に'], ['～でも', '～しても'], ['父親', '人間', '人物', 'お父さん', '男子', '長者', 'アイヌ民族', '男'], [], [], ['彼女', '彼'], ['言葉を交わす話し合う'], ['～の上手'], ['～のだよ', '～わ', '～のだ', '～よ'], ['静かである落ち着く穏やかだ'], ['彼ら'], ['穏かに', '静かに', '無事に'], ['彼ら'], ['～事', '～ように'], [], ['～のだよ', '～わ', '～のだ', '～よ'], [], ['～に～を〈動詞〉してください', '～に～を渡す'], ['～してください', '～して', '～しなさい']]\n",
      "----------------------------------------------------------------------------------------------------\n",
      "sentence:  teeta anakne aynumosir mosir so ka ta aynu patek an hi ta anakne uwepeker koraci sinne yuk ne ciki sípe ne ciki nep pakno oka p ne kusu nep a=e rusuy nep a=konrusuy somo ki no aynu patek oka hi ne a korka ne usike un sísam ne manu p upas horutke ekannayukar ek pa ruwe ne.\n",
      "translation:  ずっと昔、アイヌ民族の静かな大地、北海道にアイヌ民族だけが暮らしていた時代、アイヌの昔話と全く同じに、シカであってもシャケであってもたくさんいたので、何を食べたいとも、何を欲しいとも思わず、アイヌ民族だけで暮らしていたが、そのところへ和人という違う民族が雪なだれのように移住してきたのであります。\n",
      "words:  ['teeta', 'anakne', 'aynumosir', 'mosir', 'so', 'ka', 'ta', 'aynu', 'patek', 'an', 'hi', 'ta', 'anakne', 'uwepeker', 'koraci', 'sinne', 'yuk', 'ne', 'ciki', 'sípe', 'ne', 'ciki', 'nep', 'pakno', 'oka', 'p', 'ne', 'kusu', 'nep', 'a=', 'e', 'rusuy', 'nep', 'a=', 'konrusuy', 'somo', 'ki', 'no', 'aynu', 'patek', 'oka', 'hi', 'ne', 'a', 'korka', 'ne', 'usike', 'un', 'sísam', 'ne', 'manu', 'p', 'upas', 'horutke', 'ekannayukar', 'ek', 'pa', 'ruwe', 'ne', '.']\n",
      "lemmas:  [['teeta'], ['anakne'], ['mosir'], ['so', 'so'], ['so', 'so'], ['ka', 'ka'], ['ka', 'ka'], ['ta', 'ta'], ['ta', 'ta'], ['aynu'], ['patek'], ['an', 'an', 'an'], ['an', 'an', 'an'], ['an', 'an', 'an'], ['hi'], ['ta', 'ta'], ['ta', 'ta'], ['anakne'], ['uwepeker'], ['koraci'], ['yuk'], ['ne', 'ne', 'ne', 'ne', 'ne'], ['ne', 'ne', 'ne', 'ne', 'ne'], ['ne', 'ne', 'ne', 'ne', 'ne'], ['ne', 'ne', 'ne', 'ne', 'ne'], ['ne', 'ne', 'ne', 'ne', 'ne'], ['ciki'], ['ne', 'ne', 'ne', 'ne', 'ne'], ['ne', 'ne', 'ne', 'ne', 'ne'], ['ne', 'ne', 'ne', 'ne', 'ne'], ['ne', 'ne', 'ne', 'ne', 'ne'], ['ne', 'ne', 'ne', 'ne', 'ne'], ['ciki'], ['nep'], ['pakno'], ['oka', 'oka', 'oka'], ['oka', 'oka', 'oka'], ['oka', 'oka', 'oka'], ['p'], ['ne', 'ne', 'ne', 'ne', 'ne'], ['ne', 'ne', 'ne', 'ne', 'ne'], ['ne', 'ne', 'ne', 'ne', 'ne'], ['ne', 'ne', 'ne', 'ne', 'ne'], ['ne', 'ne', 'ne', 'ne', 'ne'], ['kusu', 'kusu'], ['kusu', 'kusu'], ['nep'], ['a=', 'a='], ['a=', 'a='], ['e', 'e', 'e'], ['e', 'e', 'e'], ['e', 'e', 'e'], ['rusuy'], ['nep'], ['a=', 'a='], ['a=', 'a='], ['somo'], ['ki'], ['no'], ['aynu'], ['patek'], ['oka', 'oka', 'oka'], ['oka', 'oka', 'oka'], ['oka', 'oka', 'oka'], ['hi'], ['ne', 'ne', 'ne', 'ne', 'ne'], ['ne', 'ne', 'ne', 'ne', 'ne'], ['ne', 'ne', 'ne', 'ne', 'ne'], ['ne', 'ne', 'ne', 'ne', 'ne'], ['ne', 'ne', 'ne', 'ne', 'ne'], ['a', 'a'], ['a', 'a'], ['korka'], ['ne', 'ne', 'ne', 'ne', 'ne'], ['ne', 'ne', 'ne', 'ne', 'ne'], ['ne', 'ne', 'ne', 'ne', 'ne'], ['ne', 'ne', 'ne', 'ne', 'ne'], ['ne', 'ne', 'ne', 'ne', 'ne'], ['un', 'un'], ['un', 'un'], ['ne', 'ne', 'ne', 'ne', 'ne'], ['ne', 'ne', 'ne', 'ne', 'ne'], ['ne', 'ne', 'ne', 'ne', 'ne'], ['ne', 'ne', 'ne', 'ne', 'ne'], ['ne', 'ne', 'ne', 'ne', 'ne'], ['p'], ['upas'], ['ek'], ['pa', 'pa', 'pa', 'pa', 'pa', 'pa'], ['pa', 'pa', 'pa', 'pa', 'pa', 'pa'], ['pa', 'pa', 'pa', 'pa', 'pa', 'pa'], ['pa', 'pa', 'pa', 'pa', 'pa', 'pa'], ['pa', 'pa', 'pa', 'pa', 'pa', 'pa'], ['pa', 'pa', 'pa', 'pa', 'pa', 'pa'], ['ruwe', 'ruwe'], ['ruwe', 'ruwe'], ['ne', 'ne', 'ne', 'ne', 'ne'], ['ne', 'ne', 'ne', 'ne', 'ne'], ['ne', 'ne', 'ne', 'ne', 'ne'], ['ne', 'ne', 'ne', 'ne', 'ne'], ['ne', 'ne', 'ne', 'ne', 'ne']]\n",
      "features:  [[{}], [{'Valency': '0'}], [{}], [{'Valency': '0'}, {}], [{'Valency': '0'}, {}], [{'Valency': '0'}, {}], [{'Valency': '0'}, {}], [{'Valency': '0'}, {}], [{'Valency': '0'}, {}], [{}], [{'Valency': '0'}], [{'Valency': '0'}, {}, {'Valency': '-1'}], [{'Valency': '0'}, {}, {'Valency': '-1'}], [{'Valency': '0'}, {}, {'Valency': '-1'}], [{}], [{'Valency': '0'}, {}], [{'Valency': '0'}, {}], [{'Valency': '0'}], [{}], [{'Valency': '0'}], [{}], [{}, {'Valency': '-1'}, {}, {'Valency': '0'}, {}], [{}, {'Valency': '-1'}, {}, {'Valency': '0'}, {}], [{}, {'Valency': '-1'}, {}, {'Valency': '0'}, {}], [{}, {'Valency': '-1'}, {}, {'Valency': '0'}, {}], [{}, {'Valency': '-1'}, {}, {'Valency': '0'}, {}], [{'Valency': '0'}], [{}, {'Valency': '-1'}, {}, {'Valency': '0'}, {}], [{}, {'Valency': '-1'}, {}, {'Valency': '0'}, {}], [{}, {'Valency': '-1'}, {}, {'Valency': '0'}, {}], [{}, {'Valency': '-1'}, {}, {'Valency': '0'}, {}], [{}, {'Valency': '-1'}, {}, {'Valency': '0'}, {}], [{'Valency': '0'}], [{}], [{'Valency': '0'}], [{}, {}, {'Valency': '-1'}], [{}, {}, {'Valency': '-1'}], [{}, {}, {'Valency': '-1'}], [{}], [{}, {'Valency': '-1'}, {}, {'Valency': '0'}, {}], [{}, {'Valency': '-1'}, {}, {'Valency': '0'}, {}], [{}, {'Valency': '-1'}, {}, {'Valency': '0'}, {}], [{}, {'Valency': '-1'}, {}, {'Valency': '0'}, {}], [{}, {'Valency': '-1'}, {}, {'Valency': '0'}, {}], [{'Valency': '0'}, {'Valency': '0'}], [{'Valency': '0'}, {'Valency': '0'}], [{}], [{'Person': '4', 'Number': 'Plur', 'Clusivity': 'In', 'Case': 'Erg', 'Valency': '-1'}, {'Person': '4', 'Number': 'Plur', 'Clusivity': 'In', 'Case': 'Erg', 'Valency': '-1'}], [{'Person': '4', 'Number': 'Plur', 'Clusivity': 'In', 'Case': 'Erg', 'Valency': '-1'}, {'Person': '4', 'Number': 'Plur', 'Clusivity': 'In', 'Case': 'Erg', 'Valency': '-1'}], [{}, {}, {'Valency': '-1'}], [{}, {}, {'Valency': '-1'}], [{}, {}, {'Valency': '-1'}], [{'Valency': '0'}], [{}], [{'Person': '4', 'Number': 'Plur', 'Clusivity': 'In', 'Case': 'Erg', 'Valency': '-1'}, {'Person': '4', 'Number': 'Plur', 'Clusivity': 'In', 'Case': 'Erg', 'Valency': '-1'}], [{'Person': '4', 'Number': 'Plur', 'Clusivity': 'In', 'Case': 'Erg', 'Valency': '-1'}, {'Person': '4', 'Number': 'Plur', 'Clusivity': 'In', 'Case': 'Erg', 'Valency': '-1'}], [{'Valency': '0'}], [{}], [{}], [{}], [{'Valency': '0'}], [{}, {}, {'Valency': '-1'}], [{}, {}, {'Valency': '-1'}], [{}, {}, {'Valency': '-1'}], [{}], [{}, {'Valency': '-1'}, {}, {'Valency': '0'}, {}], [{}, {'Valency': '-1'}, {}, {'Valency': '0'}, {}], [{}, {'Valency': '-1'}, {}, {'Valency': '0'}, {}], [{}, {'Valency': '-1'}, {}, {'Valency': '0'}, {}], [{}, {'Valency': '-1'}, {}, {'Valency': '0'}, {}], [{}, {}], [{}, {}], [{'Valency': '0'}], [{}, {'Valency': '-1'}, {}, {'Valency': '0'}, {}], [{}, {'Valency': '-1'}, {}, {'Valency': '0'}, {}], [{}, {'Valency': '-1'}, {}, {'Valency': '0'}, {}], [{}, {'Valency': '-1'}, {}, {'Valency': '0'}, {}], [{}, {'Valency': '-1'}, {}, {'Valency': '0'}, {}], [{'Valency': '0'}, {}], [{'Valency': '0'}, {}], [{}, {'Valency': '-1'}, {}, {'Valency': '0'}, {}], [{}, {'Valency': '-1'}, {}, {'Valency': '0'}, {}], [{}, {'Valency': '-1'}, {}, {'Valency': '0'}, {}], [{}, {'Valency': '-1'}, {}, {'Valency': '0'}, {}], [{}, {'Valency': '-1'}, {}, {'Valency': '0'}, {}], [{}], [{}], [{}], [{}, {'Valency': '0'}, {}, {}, {}, {'Valency': '-1'}], [{}, {'Valency': '0'}, {}, {}, {}, {'Valency': '-1'}], [{}, {'Valency': '0'}, {}, {}, {}, {'Valency': '-1'}], [{}, {'Valency': '0'}, {}, {}, {}, {'Valency': '-1'}], [{}, {'Valency': '0'}, {}, {}, {}, {'Valency': '-1'}], [{}, {'Valency': '0'}, {}, {}, {}, {'Valency': '-1'}], [{}, {}], [{}, {}], [{}, {'Valency': '-1'}, {}, {'Valency': '0'}, {}], [{}, {'Valency': '-1'}, {}, {'Valency': '0'}, {}], [{}, {'Valency': '-1'}, {}, {'Valency': '0'}, {}], [{}, {'Valency': '-1'}, {}, {'Valency': '0'}, {}], [{}, {'Valency': '-1'}, {}, {'Valency': '0'}, {}]]\n",
      "part of speech:  [['noun'], ['parti'], [], ['noun'], ['parti', 'noun'], ['parti', 'noun'], ['parti', 'verb'], ['noun'], ['adv'], ['parti', 'verb', 'root'], ['noun'], ['parti', 'verb'], ['parti'], ['noun'], ['adv'], [], ['noun'], ['determiner', 'pron', 'verb', 'parti', 'pronoun'], ['parti'], [], ['determiner', 'pron', 'verb', 'parti', 'pronoun'], ['parti'], ['noun'], ['adv'], ['verb', 'noun', 'pron'], ['suffix'], ['determiner', 'pron', 'verb', 'parti', 'pronoun'], ['parti', 'adv'], ['noun'], ['prefix', 'verb'], ['interj', 'verb', 'root'], ['parti'], ['noun'], ['prefix', 'verb'], [], ['adv'], ['verb'], ['suffix'], ['noun'], ['adv'], ['verb', 'noun', 'pron'], ['noun'], ['determiner', 'pron', 'verb', 'parti', 'pronoun'], ['auxverb', 'verb'], ['parti'], ['determiner', 'pron', 'verb', 'parti', 'pronoun'], [], ['parti', 'verb'], [], ['determiner', 'pron', 'verb', 'parti', 'pronoun'], [], ['suffix'], ['noun'], [], [], ['verb'], ['noun', 'adv', 'verb', 'auxverb', 'suffix', 'root'], ['verb', 'noun'], ['determiner', 'pron', 'verb', 'parti', 'pronoun'], []]\n",
      "glosses:  [['昔'], ['アナㇰネ', 'は'], ['人間の世界', '地上の世界'], ['大地', '土地', '世界', '国', '島', '～界', '国土'], ['自分自身で何かをしようとしている場合に使う', '～しようかな'], ['～も', '～までも'], ['掘る', '汲む', '～を採る'], ['父親', '人間', '人物', 'お父さん', '男子', '長者', 'アイヌ民族', '男'], ['～だけ', '～ばかり'], ['夜'], ['時', 'こと'], ['掘る', '汲む', '～を採る'], ['アナㇰネ', 'は'], ['民話', 'ウエペケレ', '昔話', '散文説話'], ['～のように'], ['～ように'], ['鹿'], ['～に'], ['列挙', '～したら'], [], ['～に'], ['列挙', '～したら'], ['何'], ['～まで', '並外れた', '～ほど', 'これほど', '～くらい'], ['彼ら'], ['もの/こと', '-p , -pe も参照'], ['～に'], ['～する・したから', 'なので', '～のために', '～するために', '～だから'], ['何'], ['あなた方が', '誰かが', '人が', '私たちが', '何かが', 'あなたが', '不定称', '一人称{{p', '二人称{{s}}/{{p}}・敬称'], ['食べる'], ['～したい'], ['何'], ['あなた方が', '誰かが', '人が', '私たちが', '何かが', 'あなたが', '不定称', '一人称{{p', '二人称{{s}}/{{p}}・敬称'], ['～が欲しい'], ['いや', '～しない', '～ない', 'いいえ'], ['～をする', '～をつくる'], ['-noを参照'], ['父親', '人間', '人物', 'お父さん', '男子', '長者', 'アイヌ民族', '男'], ['～だけ', '～ばかり'], ['彼ら'], ['時', 'こと'], ['～に'], ['煮物の汁が多い'], ['～けれども', '～が', '～けど', 'しかし'], ['～に'], [], ['他動詞'], [], ['～に'], ['～という'], ['もの/こと', '-p , -pe も参照'], ['雪'], ['崩れ落ちる'], ['そっくりに真似る'], ['来る'], ['～の上手'], ['太い'], ['～に'], []]\n",
      "----------------------------------------------------------------------------------------------------\n",
      "sentence:  heino　u kor turesi\n",
      "translation:  の妹が\n",
      "words:  ['heino', 'u', 'kor', 'turesi']\n",
      "lemmas:  [['kor', 'kor'], ['kor', 'kor'], ['turesi']]\n",
      "features:  [[{'Valency': '0'}, {}], [{'Valency': '0'}, {}], [{}]]\n",
      "part of speech:  [[], [], ['parti', 'verb'], ['noun']]\n",
      "glosses:  [[], [], ['～すると', '～したとき', '～しつつ', '～しながら'], ['turesの所属形']]\n",
      "----------------------------------------------------------------------------------------------------\n",
      "sentence:  iyonnuppa ye a ye a\n",
      "translation:  告げ口して何度も言って\n",
      "words:  ['iyonnuppa', 'ye', 'a', 'ye', 'a']\n",
      "lemmas:  [['ye', 'ye'], ['ye', 'ye'], ['a', 'a'], ['a', 'a'], ['ye', 'ye'], ['ye', 'ye'], ['a', 'a'], ['a', 'a']]\n",
      "features:  [[{}, {}], [{}, {}], [{}, {}], [{}, {}], [{}, {}], [{}, {}], [{}, {}], [{}, {}]]\n",
      "part of speech:  [[], ['verb', 'noun'], ['auxverb', 'verb'], ['verb', 'noun'], ['auxverb', 'verb']]\n",
      "glosses:  [[], ['膿'], ['煮物の汁が多い'], ['膿'], ['煮物の汁が多い']]\n",
      "----------------------------------------------------------------------------------------------------\n",
      "sentence:  paye=an ayne\n",
      "translation:  行くうちに\n",
      "words:  ['paye', '=an', 'ayne']\n",
      "lemmas:  [['paye'], ['=an', '=an'], ['=an', '=an'], ['ayne']]\n",
      "features:  [[{}], [{'Person': '4', 'Number': 'Plur', 'Clusivity': 'In', 'Case': 'Nom', 'Valency': '-1'}, {'Person': '4', 'Number': 'Plur', 'Clusivity': 'In', 'Case': 'Nom', 'Valency': '-1'}], [{'Person': '4', 'Number': 'Plur', 'Clusivity': 'In', 'Case': 'Nom', 'Valency': '-1'}, {'Person': '4', 'Number': 'Plur', 'Clusivity': 'In', 'Case': 'Nom', 'Valency': '-1'}], [{'Valency': '0'}]]\n",
      "part of speech:  [['verb'], ['verb', 'suffix'], ['adv']]\n",
      "glosses:  [['行く'], ['あなた方が', '誰かが', '人が', '私たちが', '何かが', 'あなたが', '不定称', '一人称{{p', '二人称{{s}}/{{p}}・敬称'], ['やがて', 'とうとう', 'そのうちに', 'ついに']]\n",
      "----------------------------------------------------------------------------------------------------\n",
      "sentence:  soyne=an akusu nani nea ekimne ru kari ekimun si... hoyupu=an rusuy wa\n",
      "translation:  私が外に出てみると、すぐその山へ続く道から、山の方へ私は走りたくて\n",
      "words:  ['soyne', '=an', 'akusu', 'nani', 'nea', 'ekimne', 'ru', 'kari', 'ekimun', 'si', '...', 'hoyupu', '=an', 'rusuy', 'wa']\n",
      "lemmas:  [['soyne'], ['=an', '=an'], ['=an', '=an'], ['akusu'], ['nani'], ['nea'], ['ekimne', 'ekimne'], ['ekimne', 'ekimne'], ['ru'], ['si', 'si'], ['si', 'si'], ['hoyupu'], ['=an', '=an'], ['=an', '=an'], ['rusuy'], ['wa']]\n",
      "features:  [[{}], [{'Person': '4', 'Number': 'Plur', 'Clusivity': 'In', 'Case': 'Nom', 'Valency': '-1'}, {'Person': '4', 'Number': 'Plur', 'Clusivity': 'In', 'Case': 'Nom', 'Valency': '-1'}], [{'Person': '4', 'Number': 'Plur', 'Clusivity': 'In', 'Case': 'Nom', 'Valency': '-1'}, {'Person': '4', 'Number': 'Plur', 'Clusivity': 'In', 'Case': 'Nom', 'Valency': '-1'}], [{}], [{'Valency': '0'}], [{}], [{'Valency': '0'}, {}], [{'Valency': '0'}, {}], [{}], [{}, {'Valency': '-1'}], [{}, {'Valency': '-1'}], [{}], [{'Person': '4', 'Number': 'Plur', 'Clusivity': 'In', 'Case': 'Nom', 'Valency': '-1'}, {'Person': '4', 'Number': 'Plur', 'Clusivity': 'In', 'Case': 'Nom', 'Valency': '-1'}], [{'Person': '4', 'Number': 'Plur', 'Clusivity': 'In', 'Case': 'Nom', 'Valency': '-1'}, {'Person': '4', 'Number': 'Plur', 'Clusivity': 'In', 'Case': 'Nom', 'Valency': '-1'}], [{'Valency': '0'}], [{'Valency': '0'}]]\n",
      "part of speech:  [['verb'], ['verb', 'suffix'], ['conj'], ['adv'], ['adnom'], ['adv', 'verb'], ['noun'], [], [], ['noun', 'root'], [], ['verb'], ['verb', 'suffix'], ['parti'], ['parti']]\n",
      "glosses:  [['外に出る'], ['あなた方が', '誰かが', '人が', '私たちが', '何かが', 'あなたが', '不定称', '一人称{{p', '二人称{{s}}/{{p}}・敬称'], ['～ので', '～したら', '～すると'], ['まもなく', 'すぐに'], ['例の', 'その'], ['山へ'], ['路', '道', '跡', '痕跡', '足跡'], ['～から', '～を通して'], ['山の方ヘ山行き'], ['糞', '大便', 'ウンチ'], [], ['走る'], ['あなた方が', '誰かが', '人が', '私たちが', '何かが', 'あなたが', '不定称', '一人称{{p', '二人称{{s}}/{{p}}・敬称'], ['～したい'], ['～のだよ', '～わ', '～のだ', '～よ']]\n",
      "----------------------------------------------------------------------------------------------------\n",
      "sentence:  rewsi uci... un... cise or pakno poka paye=an wa inkanrusuy=’an kus,\n",
      "translation:  泊まり小屋のところまででも行って様子を見たいと思ったので、\n",
      "words:  ['rewsi', 'uci', '...', 'un', '...', 'cise', 'or', 'pakno', 'poka', 'paye', '=an', 'wa', 'inkanrusuy', '=’an', 'kus', ',']\n",
      "lemmas:  [['un', 'un'], ['un', 'un'], ['cise'], ['or'], ['pakno'], ['poka'], ['paye'], ['=an', '=an'], ['=an', '=an'], ['wa'], ['kus']]\n",
      "features:  [[{'Valency': '0'}, {}], [{'Valency': '0'}, {}], [{}], [{}], [{'Valency': '0'}], [{'Valency': '0'}], [{}], [{'Person': '4', 'Number': 'Plur', 'Clusivity': 'In', 'Case': 'Nom', 'Valency': '-1'}, {'Person': '4', 'Number': 'Plur', 'Clusivity': 'In', 'Case': 'Nom', 'Valency': '-1'}], [{'Person': '4', 'Number': 'Plur', 'Clusivity': 'In', 'Case': 'Nom', 'Valency': '-1'}, {'Person': '4', 'Number': 'Plur', 'Clusivity': 'In', 'Case': 'Nom', 'Valency': '-1'}], [{'Valency': '0'}], [{}]]\n",
      "part of speech:  [[], [], [], ['parti', 'verb'], [], ['noun'], ['noun'], ['adv'], ['parti'], ['verb'], ['verb', 'suffix'], ['parti'], [], [], ['verb'], []]\n",
      "glosses:  [[], [], [], ['他動詞'], [], ['家'], ['場所として扱えない名詞の後に置いて場所を表す名詞句を作る', '強調する', '～の所', '場所をあらわす名詞の後に置いて', '所属形 oro ですでに言及した場所を示す'], ['～まで', '並外れた', '～ほど', 'これほど', '～くらい'], ['～さえ', '～までも', '～でも', '～すら'], ['行く'], ['あなた方が', '誰かが', '人が', '私たちが', '何かが', 'あなたが', '不定称', '一人称{{p', '二人称{{s}}/{{p}}・敬称'], ['～のだよ', '～わ', '～のだ', '～よ'], ['ようすを見たい'], [], ['～を通る'], []]\n",
      "----------------------------------------------------------------------------------------------------\n",
      "sentence:  tu aynu oka hine\n",
      "translation:  二人の人間がいて\n",
      "words:  ['tu', 'aynu', 'oka', 'hine']\n",
      "lemmas:  [['tu'], ['aynu'], ['oka', 'oka', 'oka'], ['oka', 'oka', 'oka'], ['oka', 'oka', 'oka'], ['hine', 'hine'], ['hine', 'hine']]\n",
      "features:  [[{}], [{}], [{}, {}, {'Valency': '-1'}], [{}, {}, {'Valency': '-1'}], [{}, {}, {'Valency': '-1'}], [{'Valency': '0'}, {}], [{'Valency': '0'}, {}]]\n",
      "part of speech:  [['num'], ['noun'], ['verb', 'noun', 'pron'], ['parti', 'conj']]\n",
      "glosses:  [['両方', '第二', '二つ', '多くの', '二人', '沢山の'], ['父親', '人間', '人物', 'お父さん', '男子', '長者', 'アイヌ民族', '男'], ['彼ら'], ['してから', 'しているときに', 'それから', '～したとき', '～して', 'なのに', 'そして']]\n",
      "----------------------------------------------------------------------------------------------------\n",
      "sentence:  Neun poka neun poka ku=sapaha ku=noynoye kor ku=ye kor k=an\n",
      "translation:  なんとか私は頭をひねりながら話しています\n",
      "words:  ['Neun', 'poka', 'neun', 'poka', 'ku=', 'sapaha', 'ku=', 'noynoye', 'kor', 'ku=', 'ye', 'kor', 'k=', 'an']\n",
      "lemmas:  [['poka'], ['neun'], ['poka'], ['ku='], ['sapaha'], ['ku='], ['kor', 'kor'], ['kor', 'kor'], ['ku='], ['ye', 'ye'], ['ye', 'ye'], ['kor', 'kor'], ['kor', 'kor'], ['an', 'an', 'an'], ['an', 'an', 'an'], ['an', 'an', 'an']]\n",
      "features:  [[{'Valency': '0'}], [{'Valency': '0'}], [{'Valency': '0'}], [{'Person': '1', 'Number': 'Sing', 'Case': 'Nom', 'Valency': '-1'}], [{}], [{'Person': '1', 'Number': 'Sing', 'Case': 'Nom', 'Valency': '-1'}], [{'Valency': '0'}, {}], [{'Valency': '0'}, {}], [{'Person': '1', 'Number': 'Sing', 'Case': 'Nom', 'Valency': '-1'}], [{}, {}], [{}, {}], [{'Valency': '0'}, {}], [{'Valency': '0'}, {}], [{'Valency': '0'}, {}, {'Valency': '-1'}], [{'Valency': '0'}, {}, {'Valency': '-1'}], [{'Valency': '0'}, {}, {'Valency': '-1'}]]\n",
      "part of speech:  [[], ['parti'], ['adv'], ['parti'], ['prefix'], ['noun'], ['prefix'], [], ['parti', 'verb'], ['prefix'], ['verb', 'noun'], ['parti', 'verb'], [], ['parti', 'verb', 'root']]\n",
      "glosses:  [[], ['～さえ', '～までも', '～でも', '～すら'], ['どういう', 'どうした', 'どのように'], ['～さえ', '～までも', '～でも', '～すら'], ['私が'], ['sapaの所属形'], ['私が'], [], ['～すると', '～したとき', '～しつつ', '～しながら'], ['私が'], ['膿'], ['～すると', '～したとき', '～しつつ', '～しながら'], ['参照'], ['夜']]\n",
      "----------------------------------------------------------------------------------------------------\n",
      "sentence:  Siraoi wano basu k=o wa Tomakomai ta ku=ran.\n",
      "translation:  私は白老からバスに乗って苫小牧で下りました\n",
      "words:  ['Siraoi', 'wano', 'basu', 'k=', 'o', 'wa', 'Tomakomai', 'ta', 'ku=', 'ran', '.']\n",
      "lemmas:  [['wano'], ['o'], ['wa'], ['ta', 'ta'], ['ta', 'ta'], ['ku='], ['ran']]\n",
      "features:  [[{'Valency': '0'}], [{}], [{'Valency': '0'}], [{'Valency': '0'}, {}], [{'Valency': '0'}, {}], [{'Person': '1', 'Number': 'Sing', 'Case': 'Nom', 'Valency': '-1'}], [{}]]\n",
      "part of speech:  [[], ['parti'], [], [], ['verb'], ['parti'], [], ['parti', 'verb'], ['prefix'], ['verb'], []]\n",
      "glosses:  [[], ['～から'], [], ['参照'], ['よそる'], ['～のだよ', '～わ', '～のだ', '～よ'], [], ['掘る', '汲む', '～を採る'], ['私が'], ['下りる', '落ちる', '降る'], []]\n",
      "----------------------------------------------------------------------------------------------------\n",
      "sentence:  E=sini ka somo ki no e=arikiki siri?\n",
      "translation:  あなたは休みもしないで働いていたのですか？\n",
      "words:  ['E=', 'sini', 'ka', 'somo', 'ki', 'no', 'e=', 'arikiki', 'siri', '?']\n",
      "lemmas:  [['ka', 'ka'], ['ka', 'ka'], ['somo'], ['ki'], ['no'], ['e='], ['arikiki'], ['siri']]\n",
      "features:  [[{'Valency': '0'}, {}], [{'Valency': '0'}, {}], [{'Valency': '0'}], [{}], [{}], [{'Person': '2', 'Number': 'Sing', 'Valency': '-1'}], [{}], [{}]]\n",
      "part of speech:  [[], [], ['parti', 'noun'], ['adv'], ['verb'], ['suffix'], ['prefix'], ['verb'], ['noun'], []]\n",
      "glosses:  [[], ['休む'], ['～も', '～までも'], ['いや', '～しない', '～ない', 'いいえ'], ['～をする', '～をつくる'], ['-noを参照'], ['おまえが', 'きみに', 'きみが', 'きみを'], ['よく働く', '精を出す', '努力する', 'つとめる', '一生懸命になる', '頑張る'], ['様', 'sirの所属形', '様子'], []]\n",
      "----------------------------------------------------------------------------------------------------\n"
     ]
    }
   ],
   "source": [
    "for sentence in (\n",
    "    sentences_by_book[\"萱野茂の国会演説\"][0:3]\n",
    "    + sentences_by_book[\"平取町アイヌ口承文芸\"][-3:]\n",
    "    + sentences_by_book[\"AA研アイヌ語資料\"][55 : 55 + 3]\n",
    "    + sentences_by_book[\"沙流のアイヌ語（中級）\"][10:13]\n",
    "):\n",
    "    print(\"sentence: \", sentence[\"sentence\"])\n",
    "    print(\"translation: \", sentence[\"translation\"])\n",
    "    print(\"words: \", sentence[\"words\"])\n",
    "    print(\"lemmas: \", sentence[\"lemmas\"])\n",
    "    print(\"features: \", sentence[\"features\"])\n",
    "    print(\"part of speech: \", sentence[\"part_of_speech\"])\n",
    "    print(\"glosses: \", sentence[\"glosses\"])\n",
    "    print(\"-\" * 100)"
   ]
  },
  {
   "cell_type": "code",
   "execution_count": 7,
   "metadata": {},
   "outputs": [],
   "source": [
    "import pickle\n",
    "\n",
    "with open(\"output/annotated_translated_tokenized_corpus_by_book.pkl\", \"wb\") as f:\n",
    "    pickle.dump(sentences_by_book, f)"
   ]
  },
  {
   "cell_type": "markdown",
   "metadata": {},
   "source": [
    "## Extract words"
   ]
  },
  {
   "cell_type": "code",
   "execution_count": 8,
   "metadata": {},
   "outputs": [],
   "source": [
    "import pickle\n",
    "import regex as re\n",
    "from utils.corpus import CorpusItem\n",
    "\n",
    "with open(\"output/annotated_translated_tokenized_corpus_by_book.pkl\", \"rb\") as file:\n",
    "    corpus: dict[str, list[CorpusItem]] = pickle.load(file)"
   ]
  },
  {
   "cell_type": "code",
   "execution_count": 9,
   "metadata": {},
   "outputs": [],
   "source": [
    "# Create dictionary of words by book\n",
    "from utils.tokenize import is_word\n",
    "words_by_book = {}\n",
    "for book, sentences in corpus.items():\n",
    "    words_by_book[book] = [\n",
    "        word\n",
    "        for sentence in sentences\n",
    "        for word in sentence[\"words\"]\n",
    "        if is_word(word)\n",
    "    ]\n",
    "\n",
    "# Create combined words from all books\n",
    "combined_words = [\n",
    "    word\n",
    "    for words in words_by_book.values()\n",
    "    for word in words\n",
    "]\n",
    "\n",
    "SAKHALIN_BOOKS = {\n",
    "    \"からふとのアイヌご（入門）\",\n",
    "    \"カラフトのアイヌ語（中級）\", \n",
    "    \"カラフトのアイヌ語（初級）\",\n",
    "    \"ニューエクスプレス・スペシャル 日本語の隣人たち I+II\",\n",
    "    \"ピウスツキ記念碑\",\n",
    "    \"千徳太郎治のピウスツキ宛書簡\",\n",
    "    \"浅井タケ昔話全集I,II\",\n",
    "    \"アイヌ語・アイヌ文化研究の課題\",\n",
    "}\n",
    "\n",
    "MODERN_WORDS = {\"アイヌタイムズ\", \"プラハ宣言\", \"ウポポイ館内展示\", \"萱野茂の国会演説\"}\n",
    "\n",
    "# Create combined words from traditional Hokkaido books only\n",
    "combined_words_hokkaido_traditional = [\n",
    "    word\n",
    "    for book, words in words_by_book.items()\n",
    "    for word in words\n",
    "    if book not in SAKHALIN_BOOKS and book not in MODERN_WORDS\n",
    "]"
   ]
  },
  {
   "cell_type": "code",
   "execution_count": 10,
   "metadata": {},
   "outputs": [],
   "source": [
    "from collections import Counter\n",
    "\n",
    "word_counts = Counter(combined_words)\n",
    "\n",
    "with open(\"output/ainu_words_all.tsv\", \"w\") as f:\n",
    "    for word, count in word_counts.most_common():\n",
    "        f.write(f\"{word}\\t{count}\\n\")\n",
    "with open(\"output/ainu_words_hokkaido_traditional.tsv\", \"w\") as f:\n",
    "    for word, count in word_counts.most_common():\n",
    "        f.write(f\"{word}\\t{count}\\n\")"
   ]
  },
  {
   "cell_type": "code",
   "execution_count": 11,
   "metadata": {},
   "outputs": [],
   "source": [
    "from pathlib import Path\n",
    "\n",
    "WORDS_BY_BOOK_DIR = Path(\"output\") / \"words_by_book\"\n",
    "WORDS_BY_BOOK_DIR.mkdir(parents=True, exist_ok=True)\n",
    "\n",
    "for book, sentences in corpus.items():\n",
    "    flattened_words = [word for sentence in sentences for word in sentence[\"words\"]]\n",
    "    word_counts = Counter(flattened_words)\n",
    "    with open(WORDS_BY_BOOK_DIR / f\"{book}.tsv\", \"w\") as f:\n",
    "        for word, count in word_counts.most_common():\n",
    "            f.write(f\"{word}\\t{count}\\n\")"
   ]
  },
  {
   "cell_type": "code",
   "execution_count": 14,
   "metadata": {},
   "outputs": [],
   "source": [
    "from utils.tokenize import is_word\n",
    "\n",
    "lemmas_by_book = {}\n",
    "for book, sentences in corpus.items():\n",
    "    lemmas_by_book[book] = [\n",
    "        lemma[0]\n",
    "        for sentence in sentences\n",
    "        for lemma in sentence[\"lemmas\"]\n",
    "        if is_word(lemma[0])\n",
    "        if lemma\n",
    "    ]\n",
    "\n",
    "combined_lemmas = [\n",
    "    lemma for lemmas in lemmas_by_book.values() for lemma in lemmas\n",
    "]\n",
    "\n",
    "combined_lemmas_hokkaido_traditional = [\n",
    "    lemma for book, lemmas in lemmas_by_book.items() for lemma in lemmas\n",
    "    if book not in SAKHALIN_BOOKS and book not in MODERN_WORDS\n",
    "]\n",
    "\n",
    "with open(\"output/ainu_lemmas_all.tsv\", \"w\") as f:\n",
    "    for lemma, count in Counter(combined_lemmas).most_common():\n",
    "        f.write(f\"{lemma}\\t{count}\\n\")\n",
    "\n",
    "with open(\"output/ainu_lemmas_hokkaido_traditional.tsv\", \"w\") as f:\n",
    "    for lemma, count in Counter(combined_lemmas_hokkaido_traditional).most_common():\n",
    "        f.write(f\"{lemma}\\t{count}\\n\")"
   ]
  }
 ],
 "metadata": {
  "kernelspec": {
   "display_name": ".venv",
   "language": "python",
   "name": "python3"
  },
  "language_info": {
   "codemirror_mode": {
    "name": "ipython",
    "version": 3
   },
   "file_extension": ".py",
   "mimetype": "text/x-python",
   "name": "python",
   "nbconvert_exporter": "python",
   "pygments_lexer": "ipython3",
   "version": "3.12.7"
  }
 },
 "nbformat": 4,
 "nbformat_minor": 2
}
