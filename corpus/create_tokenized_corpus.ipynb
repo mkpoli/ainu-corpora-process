{
 "cells": [
  {
   "cell_type": "code",
   "execution_count": 1,
   "metadata": {},
   "outputs": [],
   "source": [
    "# !huggingface-cli login"
   ]
  },
  {
   "cell_type": "code",
   "execution_count": 1,
   "metadata": {},
   "outputs": [],
   "source": [
    "from typing import cast\n",
    "import datasets\n",
    "\n",
    "dataset = cast(datasets.DatasetDict, datasets.load_dataset(\"aynumosir/ainu-corpora\"))"
   ]
  },
  {
   "cell_type": "code",
   "execution_count": 21,
   "metadata": {},
   "outputs": [
    {
     "data": {
      "text/plain": [
       "dict_keys(['アイヌ語鵡川方言日本語‐アイヌ語辞典', 'アイヌ語アーカイブ', 'アイヌタイムズ', '平取町アイヌ口承文芸', 'アイヌ語アーカイブ音声資料', 'AA研アイヌ語資料', '浅井タケ昔話全集I,II', '石狩川のアイヌ語（中級）', 'アイヌ語會話字典', 'アイヌ語口承文芸コーパス', '石狩川のアイヌ語（初級）', '十勝のアイヌ語（初級）', 'アイヌ語ラジオ講座テキスト', 'アイヌ民族文化センター研究紀要', 'アイヌ語音声資料', '十勝のアイヌ語（中級）', '沙流のアイヌ語（初級）', 'カラフトのアイヌ語（中級）', '美幌のアイヌ語（初級）', '鍋沢元蔵筆録ノート', 'アコㇿイタㇰ', '千徳太郎治のピウスツキ宛書簡', '沙流のアイヌ語（中級）', 'カムイユカㇻを聞いてアイヌ語を学ぶ', 'ニューエクスプレスプラス アイヌ語', '萱野茂の国会演説', 'アイヌ神謡集', '幌別のアイヌ語（初級）', '幌別のアイヌ語（中級）', 'ちとせのアイヌご（入門）', '千歳のアイヌ語（初級）', '静内のアイヌ語（初級）', '静内のアイヌ語（中級）', 'プラハ宣言', '美幌のアイヌ語（中級）', 'びほろのあいぬご（入門）', 'ほろべつのアイヌご（入門）', 'カラフトのアイヌ語（初級）', '千歳のアイヌ語（中級）', 'さるのアイヌご（入門）', 'しずないのアイヌご（入門）', 'いしかりがわのアイヌご（入門）', 'ウポポイ館内展示', 'ニューエクスプレス・スペシャル 日本語の隣人たち I+II', 'とかちのアイヌご（入門）', 'からふとのアイヌご（入門）', '第27回アイヌ語弁論大会', 'ピウスツキ記念碑'])"
      ]
     },
     "execution_count": 21,
     "metadata": {},
     "output_type": "execute_result"
    }
   ],
   "source": [
    "import json\n",
    "\n",
    "from collections import defaultdict\n",
    "from itertools import chain\n",
    "from typing import cast, TypedDict\n",
    "from utils.tokenize import tokenize\n",
    "\n",
    "\n",
    "class Text(TypedDict):\n",
    "    book: str\n",
    "    title: str\n",
    "    url: str\n",
    "    pronoun: str\n",
    "    author: str\n",
    "    dialect: str\n",
    "    text: str\n",
    "    translation: str\n",
    "    label: str\n",
    "\n",
    "\n",
    "\n",
    "class CorpusItem(TypedDict):\n",
    "    translation: str\n",
    "    sentence: str\n",
    "    words: list[str]\n",
    "    part_of_speech: list[str]\n",
    "\n",
    "sentences_by_book = defaultdict(list)\n",
    "\n",
    "with open(\"../dictionary/output/wiktionary_ainu_part_of_speech.json\", \"r\") as f:\n",
    "    part_of_speech = json.load(f)\n",
    "\n",
    "for text in chain(dataset[\"test\"], dataset[\"train\"]):\n",
    "    text = cast(Text, text)\n",
    "    words = tokenize(text[\"text\"])\n",
    "    sentences_by_book[text[\"book\"]].append(\n",
    "        {\n",
    "            \"translation\": text[\"translation\"],\n",
    "            \"sentence\": text[\"text\"],\n",
    "            \"words\": words,\n",
    "            \"part_of_speech\": [\n",
    "                part_of_speech.get(w, []) for w in words\n",
    "            ],\n",
    "        }\n",
    "    )\n",
    "\n",
    "sentences_by_book.keys()"
   ]
  },
  {
   "cell_type": "code",
   "execution_count": 23,
   "metadata": {},
   "outputs": [
    {
     "name": "stdout",
     "output_type": "stream",
     "text": [
      "174585\n"
     ]
    }
   ],
   "source": [
    "sentences = print(sum(len(v) for v in sentences_by_book.values()))"
   ]
  },
  {
   "cell_type": "code",
   "execution_count": 24,
   "metadata": {},
   "outputs": [
    {
     "name": "stdout",
     "output_type": "stream",
     "text": [
      "sentence:  ne hi or ta nispa utar ku=koramkor hi ene oka hi aynumosir un aynu utar ka koeturenno sisam mosir ta oka aynu ka ene ne yakka aynu néno aynuitak ani ukoytak pa wa ratci oka apunno oka kuni kosanniyo wa un=kore yan\n",
      "translation:  そこで、私が先生方にお願いしたいということは、北海道にいるアイヌたち、それと一緒に、各地にいるアイヌたちがどのようにしたらアイヌ民族らしくアイヌ語で会話を交わし、静かに豊かに暮らしていけるかを先生方に考えてほしいと私は思い、\n",
      "words:  ['ne', 'hi', 'or', 'ta', 'nispa', 'utar', 'ku=', 'koramkor', 'hi', 'ene', 'oka', 'hi', 'aynumosir', 'un', 'aynu', 'utar', 'ka', 'koeturenno', 'sisam', 'mosir', 'ta', 'oka', 'aynu', 'ka', 'ene', 'ne', 'yakka', 'aynu', 'n', 'no', 'aynuitak', 'ani', 'ukoytak', 'pa', 'wa', 'ratci', 'oka', 'apunno', 'oka', 'kuni', 'kosanniyo', 'wa', 'un=', 'kore', 'yan']\n",
      "part of speech:  [['pron', 'pronoun', 'verb', 'determiner', 'parti'], ['noun'], ['noun'], ['verb', 'parti'], ['noun'], ['noun'], ['prefix'], [], ['noun'], ['adv'], ['verb', 'pron', 'noun'], ['noun'], [], ['verb', 'parti'], ['noun'], ['noun'], ['parti', 'noun'], [], ['noun'], ['noun'], ['verb', 'parti'], ['verb', 'pron', 'noun'], ['noun'], ['parti', 'noun'], ['adv'], ['pron', 'pronoun', 'verb', 'determiner', 'parti'], ['parti'], ['noun'], ['suffix'], ['colloc', 'suffix'], [], ['verb', 'postpadv', 'parti', 'noun'], [], ['suffix', 'adv', 'verb', 'auxverb', 'root', 'noun'], ['parti'], [], ['verb', 'pron', 'noun'], ['adv'], ['verb', 'pron', 'noun'], ['noun'], [], ['parti'], ['prefix'], ['verb'], ['parti']]\n",
      "----------------------------------------------------------------------------------------------------\n",
      "sentence:  teeta anakne aynumosir mosir so ka ta aynu patek an hi ta anakne uwepeker koraci sinne yuk ne ciki sípe ne ciki nep pakno oka p ne kusu nep a=e rusuy nep a=konrusuy somo ki no aynu patek oka hi ne a korka ne usike un sísam ne manu p upas horutke ekannayukar ek pa ruwe ne.\n",
      "translation:  ずっと昔、アイヌ民族の静かな大地、北海道にアイヌ民族だけが暮らしていた時代、アイヌの昔話と全く同じに、シカであってもシャケであってもたくさんいたので、何を食べたいとも、何を欲しいとも思わず、アイヌ民族だけで暮らしていたが、そのところへ和人という違う民族が雪なだれのように移住してきたのであります。\n",
      "words:  ['teeta', 'anakne', 'aynumosir', 'mosir', 'so', 'ka', 'ta', 'aynu', 'patek', 'an', 'hi', 'ta', 'anakne', 'uwepeker', 'koraci', 'sinne', 'yuk', 'ne', 'ciki', 's', 'pe', 'ne', 'ciki', 'nep', 'pakno', 'oka', 'p', 'ne', 'kusu', 'nep', 'a=', 'e', 'rusuy', 'nep', 'a=', 'konrusuy', 'somo', 'ki', 'no', 'aynu', 'patek', 'oka', 'hi', 'ne', 'a', 'korka', 'ne', 'usike', 'un', 's', 'sam', 'ne', 'manu', 'p', 'upas', 'horutke', 'ekannayukar', 'ek', 'pa', 'ruwe', 'ne']\n",
      "part of speech:  [['noun'], ['parti'], [], ['noun'], ['parti', 'noun'], ['parti', 'noun'], ['verb', 'parti'], ['noun'], ['adv'], ['verb', 'root', 'parti'], ['noun'], ['verb', 'parti'], ['parti'], ['noun'], ['adv'], [], ['noun'], ['pron', 'pronoun', 'verb', 'determiner', 'parti'], ['parti'], [], ['noun'], ['pron', 'pronoun', 'verb', 'determiner', 'parti'], ['parti'], ['noun'], ['adv'], ['verb', 'pron', 'noun'], ['suffix'], ['pron', 'pronoun', 'verb', 'determiner', 'parti'], ['adv', 'parti'], ['noun'], ['verb', 'prefix'], ['verb', 'interj', 'root'], ['parti'], ['noun'], ['verb', 'prefix'], [], ['adv'], ['verb'], ['colloc', 'suffix'], ['noun'], ['adv'], ['verb', 'pron', 'noun'], ['noun'], ['pron', 'pronoun', 'verb', 'determiner', 'parti'], ['verb', 'auxverb'], ['parti'], ['pron', 'pronoun', 'verb', 'determiner', 'parti'], [], ['verb', 'parti'], [], ['noun'], ['pron', 'pronoun', 'verb', 'determiner', 'parti'], [], ['suffix'], ['noun'], [], [], ['verb'], ['suffix', 'adv', 'verb', 'auxverb', 'root', 'noun'], ['verb', 'noun'], ['pron', 'pronoun', 'verb', 'determiner', 'parti']]\n",
      "----------------------------------------------------------------------------------------------------\n",
      "sentence:  utcike kuni p raka sak pe ku=ne p ne kusu teetakur néno aynuitak ku=ye enitan pe somo ne korka tananto anakne sisammosir un nispa utar katkemat utar an uske ta aynuitak ene an pe ne hi ene a=ye p hi ci=koykokanu ku=ki rusuy kusu aynuitak itak pirka p k=eutukanke wa ku=ye hawe ne.\n",
      "translation:  意気地のない者、至らない者、私なので、昔のアイヌのようにアイヌの言葉を上手には言えないけれども、きょうのこの日は、日本国の国会議員の諸先生方がおられる所に、アイヌ語というものがどのようなものか、どのような言い方をするものかお聞き願いたいと私は考え、アイヌ語を私はここで言わせていただいたのであります。\n",
      "words:  ['utcike', 'kuni', 'p', 'raka', 'sak', 'pe', 'ku=', 'ne', 'p', 'ne', 'kusu', 'teetakur', 'n', 'no', 'aynuitak', 'ku=', 'ye', 'enitan', 'pe', 'somo', 'ne', 'korka', 'tananto', 'anakne', 'sisammosir', 'un', 'nispa', 'utar', 'katkemat', 'utar', 'an', 'uske', 'ta', 'aynuitak', 'ene', 'an', 'pe', 'ne', 'hi', 'ene', 'a=', 'ye', 'p', 'hi', 'ci=', 'koykokanu', 'ku=', 'ki', 'rusuy', 'kusu', 'aynuitak', 'itak', 'pirka', 'p', 'k=', 'eutukanke', 'wa', 'ku=', 'ye', 'hawe', 'ne']\n",
      "part of speech:  [[], ['noun'], ['suffix'], [], ['noun'], ['noun'], ['prefix'], ['pron', 'pronoun', 'verb', 'determiner', 'parti'], ['suffix'], ['pron', 'pronoun', 'verb', 'determiner', 'parti'], ['adv', 'parti'], [], ['suffix'], ['colloc', 'suffix'], [], ['prefix'], ['verb', 'noun'], [], ['noun'], ['adv'], ['pron', 'pronoun', 'verb', 'determiner', 'parti'], ['parti'], [], ['parti'], [], ['verb', 'parti'], ['noun'], ['noun'], ['noun'], ['noun'], ['verb', 'root', 'parti'], ['noun'], ['verb', 'parti'], [], ['adv'], ['verb', 'root', 'parti'], ['noun'], ['pron', 'pronoun', 'verb', 'determiner', 'parti'], ['noun'], ['adv'], ['verb', 'prefix'], ['verb', 'noun'], ['suffix'], ['noun'], ['verb', 'prefix'], [], ['prefix'], ['verb'], ['parti'], ['adv', 'parti'], [], ['verb', 'noun'], ['verb', 'adv'], ['suffix'], [], [], ['parti'], ['prefix'], ['verb', 'noun'], ['noun'], ['pron', 'pronoun', 'verb', 'determiner', 'parti']]\n",
      "----------------------------------------------------------------------------------------------------\n",
      "sentence:  ue[y]hopunpa\n",
      "translation:  一斉に湧き上がる。\n",
      "words:  ['ue[y]hopunpa']\n",
      "part of speech:  [[]]\n",
      "----------------------------------------------------------------------------------------------------\n",
      "sentence:  aynu nispa rayke kuni ramu kor ci... set kar wa\n",
      "translation:  人間の旦那を殺そうという気持ちを持って、巣を作って\n",
      "words:  ['aynu', 'nispa', 'rayke', 'kuni', 'ramu', 'kor', 'ci', 'set', 'kar', 'wa']\n",
      "part of speech:  [['noun'], ['noun'], ['verb'], ['noun'], ['verb', 'noun'], ['verb', 'parti'], ['verb'], [], ['verb'], ['parti']]\n",
      "----------------------------------------------------------------------------------------------------\n",
      "sentence:  utari inne\n",
      "translation:  人が多く\n",
      "words:  ['utari', 'inne']\n",
      "part of speech:  [['noun'], ['verb']]\n",
      "----------------------------------------------------------------------------------------------------\n",
      "sentence:  kanna suy ukopokor=an hi ta anakne pirka\n",
      "translation:  再び子を授かるときには良い\n",
      "words:  ['kanna', 'suy', 'ukopokor', '=an', 'hi', 'ta', 'anakne', 'pirka']\n",
      "part of speech:  [['adv', 'adnom'], ['adv'], [], ['verb', 'suffix'], ['noun'], ['verb', 'parti'], ['parti'], ['verb', 'adv']]\n",
      "----------------------------------------------------------------------------------------------------\n",
      "sentence:  sikiru kuni p a=ne pa ruwe ne na.\n",
      "translation:  神の国へ）向かうものであるからな。\n",
      "words:  ['sikiru', 'kuni', 'p', 'a=', 'ne', 'pa', 'ruwe', 'ne', 'na']\n",
      "part of speech:  [['verb'], ['noun'], ['suffix'], ['verb', 'prefix'], ['pron', 'pronoun', 'verb', 'determiner', 'parti'], ['suffix', 'adv', 'verb', 'auxverb', 'root', 'noun'], ['verb', 'noun'], ['pron', 'pronoun', 'verb', 'determiner', 'parti'], ['adv', 'interj', 'parti']]\n",
      "----------------------------------------------------------------------------------------------------\n",
      "sentence:  cikupeni inunpesauspe a=ne wa\n",
      "translation:  イヌネンジュの木の炉縁の作業台が私で\n",
      "words:  ['cikupeni', 'inunpesauspe', 'a=', 'ne', 'wa']\n",
      "part of speech:  [[], [], ['verb', 'prefix'], ['pron', 'pronoun', 'verb', 'determiner', 'parti'], ['parti']]\n",
      "----------------------------------------------------------------------------------------------------\n",
      "sentence:  E=sini ka somo ki no e=arikiki siri?\n",
      "translation:  あなたは休みもしないで働いていたのですか？\n",
      "words:  ['e=', 'sini', 'ka', 'somo', 'ki', 'no', 'e=', 'arikiki', 'siri?']\n",
      "part of speech:  [['prefix'], [], ['parti', 'noun'], ['adv'], ['verb'], ['colloc', 'suffix'], ['prefix'], ['verb'], []]\n",
      "----------------------------------------------------------------------------------------------------\n",
      "sentence:  Tane ci=ye kusu ne.\n",
      "translation:  今私たちが言います\n",
      "words:  ['tane', 'ci=', 'ye', 'kusu', 'ne']\n",
      "part of speech:  [['adv', 'noun'], ['verb', 'prefix'], ['verb', 'noun'], ['adv', 'parti'], ['pron', 'pronoun', 'verb', 'determiner', 'parti']]\n",
      "----------------------------------------------------------------------------------------------------\n",
      "sentence:  Pirka cise poronno roski wa oka.\n",
      "translation:  美しい家がたくさん建っています\n",
      "words:  ['pirka', 'cise', 'poronno', 'roski', 'wa', 'oka']\n",
      "part of speech:  [['verb', 'adv'], ['noun'], ['adv'], ['verb'], ['parti'], ['verb', 'pron', 'noun']]\n",
      "----------------------------------------------------------------------------------------------------\n"
     ]
    }
   ],
   "source": [
    "for sentence in (\n",
    "    sentences_by_book[\"萱野茂の国会演説\"][0:3]\n",
    "    + sentences_by_book[\"平取町アイヌ口承文芸\"][-3:]\n",
    "    + sentences_by_book[\"AA研アイヌ語資料\"][55 : 55 + 3]\n",
    "    + sentences_by_book[\"沙流のアイヌ語（中級）\"][10:13]\n",
    "):\n",
    "    print(\"sentence: \", sentence[\"sentence\"])\n",
    "    print(\"translation: \", sentence[\"translation\"])\n",
    "    print(\"words: \", sentence[\"words\"])\n",
    "    print(\"part of speech: \", sentence[\"part_of_speech\"])\n",
    "    print(\"-\" * 100)"
   ]
  },
  {
   "cell_type": "code",
   "execution_count": 25,
   "metadata": {},
   "outputs": [],
   "source": [
    "import pickle\n",
    "\n",
    "with open(\"output/annotated_translated_tokenized_corpus_by_book.pkl\", \"wb\") as f:\n",
    "    pickle.dump(sentences_by_book, f)"
   ]
  }
 ],
 "metadata": {
  "kernelspec": {
   "display_name": ".venv",
   "language": "python",
   "name": "python3"
  },
  "language_info": {
   "codemirror_mode": {
    "name": "ipython",
    "version": 3
   },
   "file_extension": ".py",
   "mimetype": "text/x-python",
   "name": "python",
   "nbconvert_exporter": "python",
   "pygments_lexer": "ipython3",
   "version": "3.13.0"
  }
 },
 "nbformat": 4,
 "nbformat_minor": 2
}
