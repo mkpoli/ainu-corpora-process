{
 "cells": [
  {
   "cell_type": "code",
   "execution_count": 1,
   "metadata": {},
   "outputs": [],
   "source": [
    "# !huggingface-cli login"
   ]
  },
  {
   "cell_type": "code",
   "execution_count": 2,
   "metadata": {},
   "outputs": [],
   "source": [
    "import datasets\n",
    "\n",
    "dataset = datasets.load_dataset(\"aynumosir/ainu-corpora\")"
   ]
  },
  {
   "cell_type": "code",
   "execution_count": 9,
   "metadata": {},
   "outputs": [
    {
     "data": {
      "text/plain": [
       "dict_keys(['アイヌ語アーカイブ', 'アイヌ語鵡川方言日本語‐アイヌ語辞典', 'アイヌ語會話字典', '平取町アイヌ口承文芸', 'アイヌ語音声資料', '鍋沢元蔵筆録ノート', 'AA研アイヌ語資料', 'アイヌ語アーカイブ音声資料', 'アイヌタイムズ', 'アイヌ語口承文芸コーパス', '浅井タケ昔話全集I,II', '千歳のアイヌ語（初級）', 'アイヌ神謡集', '幌別のアイヌ語（初級）', 'アイヌ民族文化センター研究紀要', '美幌のアイヌ語（中級）', '千歳のアイヌ語（中級）', 'ニューエクスプレスプラス アイヌ語', '沙流のアイヌ語（中級）', 'ウポポイ館内展示', '十勝のアイヌ語（初級）', '石狩川のアイヌ語（中級）', '十勝のアイヌ語（中級）', 'カムイユカㇻを聞いてアイヌ語を学ぶ', 'アコㇿイタㇰ', '第27回アイヌ語弁論大会', '沙流のアイヌ語（初級）', 'いしかりがわのアイヌご（入門）', 'カラフトのアイヌ語（中級）', 'とかちのアイヌご（入門）', '美幌のアイヌ語（初級）', '静内のアイヌ語（初級）', '幌別のアイヌ語（中級）', '石狩川のアイヌ語（初級）', 'びほろのあいぬご（入門）', '静内のアイヌ語（中級）', 'カラフトのアイヌ語（初級）', 'ちとせのアイヌご（入門）', 'プラハ宣言', '千徳太郎治のピウスツキ宛書簡', 'からふとのアイヌご（入門）', 'ほろべつのアイヌご（入門）', 'さるのアイヌご（入門）', 'しずないのアイヌご（入門）', '萱野茂の国会演説'])"
      ]
     },
     "execution_count": 9,
     "metadata": {},
     "output_type": "execute_result"
    }
   ],
   "source": [
    "from utils.tokenize import tokenize\n",
    "\n",
    "import json\n",
    "from collections import defaultdict\n",
    "\n",
    "with open(\"../dictionary/output/wiktionary_ainu_part_of_speech.json\", \"r\") as f:\n",
    "    part_of_speech = json.load(f)\n",
    "\n",
    "translation_pair_by_book = defaultdict(list)\n",
    "\n",
    "for text in dataset[\"train\"]:\n",
    "    words = tokenize(text[\"text\"])\n",
    "    translation_pair_by_book[text[\"book\"]].append(\n",
    "        {\n",
    "            \"translation\": text[\"translation\"],\n",
    "            \"sentence\": text[\"text\"],\n",
    "            \"words\": words,\n",
    "            \"part_of_speech\": [\n",
    "                part_of_speech.get(w, []) for w in words\n",
    "            ],\n",
    "        }\n",
    "    )\n",
    "    # translation_pair_by_book[text[\"book\"]][\"translation\"] = text[\"translation\"]\n",
    "    # translation_pair_by_book[text[\"book\"]][\"sentence\"] = text[\"text\"]\n",
    "    # translation_pair_by_book[text[\"book\"]][\"words\"] = tokenize(text[\"text\"])\n",
    "\n",
    "translation_pair_by_book.keys()"
   ]
  },
  {
   "cell_type": "code",
   "execution_count": 10,
   "metadata": {},
   "outputs": [
    {
     "name": "stdout",
     "output_type": "stream",
     "text": [
      "sentence:  eepakita káni anakne aynumosir sisirmuka niptani kotan koapamaka 萱野茂 ku=ne ruwe ne.\n",
      "translation:  私は、アイヌの国、北海道沙流川のほとり、二風谷に生をうけた萱野茂というアイヌです。\n",
      "words:  ['eepakita', 'k', 'ni', 'anakne', 'aynumosir', 'sisirmuka', 'niptani', 'kotan', 'koapamaka', 'ku=', 'ne', 'ruwe', 'ne']\n",
      "part of speech:  [[], [], ['noun'], ['parti'], [], [], [], ['noun'], ['noun'], [], ['verb', 'determiner', 'pron', 'parti', 'pronoun'], ['verb', 'noun'], ['verb', 'determiner', 'pron', 'parti', 'pronoun']]\n",
      "----------------------------------------------------------------------------------------------------\n",
      "sentence:  heru kuwanno ne a korka aynuitak ku=ye aynuitak ene an kuni ci=koykokanu hi ramossi wa no ku=yairayke naa. \n",
      "translation:  ごく簡単にであったけれども、アイヌ語という違う言葉がどのようなものかをお聞きいただけたことに、アイヌ民族の一人として心から感謝するものであります。ありがとうございました。\n",
      "words:  ['heru', 'kuwanno', 'ne', 'a', 'korka', 'aynuitak', 'ku=', 'ye', 'aynuitak', 'ene', 'an', 'kuni', 'ci=', 'koykokanu', 'hi', 'ramossi', 'wa', 'no', 'ku=', 'yairayke', 'naa']\n",
      "part of speech:  [[], [], ['verb', 'determiner', 'pron', 'parti', 'pronoun'], ['verb', 'auxverb'], ['parti'], [], [], ['verb', 'noun'], [], ['adv'], ['parti', 'verb', 'root'], ['noun'], [], [], ['noun'], [], ['parti'], ['colloc', 'suffix'], [], [], []]\n",
      "----------------------------------------------------------------------------------------------------\n",
      "sentence:  itak puri ka somo ne korka sísammosir mosir so ka wa ci=numke nispa ci=numke katkemat utaperari wa oka uske ta kuninenewa aynuitak ani ku=itak ruwe ne wa ne yakun ramossi wano ku=yairayke p ne ruwe tapan na.\n",
      "translation:  言葉のあやではありませんが、日本の国土、国土の上から選び抜かれてこられた紳士の皆様、淑女の皆様が肩を接しておられる中で、成り行きに従いアイヌ語でしゃべらせてもらえることに心から感謝を申し上げるものであります。\n",
      "words:  ['itak', 'puri', 'ka', 'somo', 'ne', 'korka', 's', 'sammosir', 'mosir', 'so', 'ka', 'wa', 'ci=', 'numke', 'nispa', 'ci=', 'numke', 'katkemat', 'utaperari', 'wa', 'oka', 'uske', 'ta', 'kuninenewa', 'aynuitak', 'ani', 'ku=', 'itak', 'ruwe', 'ne', 'wa', 'ne', 'yakun', 'ramossi', 'wano', 'ku=', 'yairayke', 'p', 'ne', 'ruwe', 'tapan', 'na']\n",
      "part of speech:  [['verb', 'noun'], ['noun'], ['parti', 'noun'], ['adv'], ['verb', 'determiner', 'pron', 'parti', 'pronoun'], ['parti'], [], [], ['noun'], ['parti', 'noun'], ['parti', 'noun'], ['parti'], [], [], ['noun'], [], [], ['noun'], [], ['parti'], ['verb', 'pron', 'noun'], ['noun'], ['parti', 'verb'], [], [], ['postpadv', 'verb', 'parti', 'noun'], [], ['verb', 'noun'], ['verb', 'noun'], ['verb', 'determiner', 'pron', 'parti', 'pronoun'], ['parti'], ['verb', 'determiner', 'pron', 'parti', 'pronoun'], ['parti'], [], ['parti'], [], [], ['suffix'], ['verb', 'determiner', 'pron', 'parti', 'pronoun'], ['verb', 'noun'], ['adnom'], ['parti', 'adv', 'interj']]\n",
      "----------------------------------------------------------------------------------------------------\n",
      "sentence:  u suptomorke\n",
      "translation:  幹の真ん中より\n",
      "words:  ['u', 'suptomorke']\n",
      "part of speech:  [[], []]\n",
      "----------------------------------------------------------------------------------------------------\n",
      "sentence:  si ahunporu\n",
      "translation:  大きな洞窟が\n",
      "words:  ['si', 'ahunporu']\n",
      "part of speech:  [['root', 'noun'], ['noun']]\n",
      "----------------------------------------------------------------------------------------------------\n",
      "sentence:  nooaauu　eawnarura\n",
      "translation:  取って来て\n",
      "words:  ['nooaauu', 'eawnarura']\n",
      "part of speech:  [[], []]\n",
      "----------------------------------------------------------------------------------------------------\n",
      "sentence:  hoyupu=an wa ek=an ayne\n",
      "translation:  私は走って来てとうとう\n",
      "words:  ['hoyupu', '=an', 'wa', 'ek=', 'an', 'ayne']\n",
      "part of speech:  [['verb'], [], ['parti'], [], ['parti', 'verb', 'root'], ['adv']]\n",
      "----------------------------------------------------------------------------------------------------\n",
      "sentence:  an=an hi somo he an sekor yaykosiramsuypa=an kor\n",
      "translation:  いるのではないか、と私は考えをめぐらして、\n",
      "words:  ['an=', 'an', 'hi', 'somo', 'he', 'an', 'sekor', 'yaykosiramsuypa', '=an', 'kor']\n",
      "part of speech:  [[], ['parti', 'verb', 'root'], ['noun'], ['adv'], ['parti'], ['parti', 'verb', 'root'], ['parti'], [], [], ['parti', 'verb']]\n",
      "----------------------------------------------------------------------------------------------------\n",
      "sentence:  nupuri kor kamuy si pase kamuy eepakke a=ne wa an=an ruwe ne a p, yaykoeramewnin=an hine［122］\n",
      "translation:  山に住むカムイで、とても尊いカムイの後継ぎとして私は暮らしていたのだが、私は油断していて、\n",
      "words:  ['nupuri', 'kor', 'kamuy', 'si', 'pase', 'kamuy', 'eepakke', 'a=', 'ne', 'wa', 'an=', 'an', 'ruwe', 'ne', 'a', 'p', 'yaykoeramewnin', '=an', 'hine', '122']\n",
      "part of speech:  [['noun'], ['parti', 'verb'], ['noun'], ['root', 'noun'], ['verb'], ['noun'], ['noun'], [], ['verb', 'determiner', 'pron', 'parti', 'pronoun'], ['parti'], [], ['parti', 'verb', 'root'], ['verb', 'noun'], ['verb', 'determiner', 'pron', 'parti', 'pronoun'], ['verb', 'auxverb'], ['suffix'], [], [], ['parti', 'conj'], []]\n",
      "----------------------------------------------------------------------------------------------------\n",
      "sentence:  Tane ci=ye kusu ne.\n",
      "translation:  今私たちが言います\n",
      "words:  ['tane', 'ci=', 'ye', 'kusu', 'ne']\n",
      "part of speech:  [['adv', 'noun'], [], ['verb', 'noun'], ['parti', 'adv'], ['verb', 'determiner', 'pron', 'parti', 'pronoun']]\n",
      "----------------------------------------------------------------------------------------------------\n",
      "sentence:  Numan hikoki ani Tokyo wa Sapporo un k=ek.\n",
      "translation:  昨日飛行機で私は東京から札幌へ来ました\n",
      "words:  ['numan', 'hikoki', 'ani', 'tokyo', 'wa', 'sapporo', 'un', 'k=', 'ek']\n",
      "part of speech:  [['noun'], [], ['postpadv', 'verb', 'parti', 'noun'], [], ['parti'], [], ['parti', 'verb'], [], ['verb']]\n",
      "----------------------------------------------------------------------------------------------------\n",
      "sentence:  Kotan or un arpa ru inan ru ne?\n",
      "translation:  村へ行く道はどの道ですか？\n",
      "words:  ['kotan', 'or', 'un', 'arpa', 'ru', 'inan', 'ru', 'ne?']\n",
      "part of speech:  [['noun'], ['noun'], ['parti', 'verb'], ['verb'], ['noun'], ['adnom'], ['noun'], []]\n",
      "----------------------------------------------------------------------------------------------------\n"
     ]
    }
   ],
   "source": [
    "for sentence in (\n",
    "    translation_pair_by_book[\"萱野茂の国会演説\"][0:3]\n",
    "    + translation_pair_by_book[\"平取町アイヌ口承文芸\"][-3:]\n",
    "    + translation_pair_by_book[\"AA研アイヌ語資料\"][55 : 55 + 3]\n",
    "    + translation_pair_by_book[\"沙流のアイヌ語（中級）\"][10:13]\n",
    "):\n",
    "    print(\"sentence: \", sentence[\"sentence\"])\n",
    "    print(\"translation: \", sentence[\"translation\"])\n",
    "    print(\"words: \", sentence[\"words\"])\n",
    "    print(\"part of speech: \", sentence[\"part_of_speech\"])\n",
    "    print(\"-\" * 100)"
   ]
  },
  {
   "cell_type": "code",
   "execution_count": 11,
   "metadata": {},
   "outputs": [],
   "source": [
    "import pickle\n",
    "\n",
    "with open(\"output/annotated_translated_tokenized_corpus_by_book.pkl\", \"wb\") as f:\n",
    "    pickle.dump(translation_pair_by_book, f)"
   ]
  }
 ],
 "metadata": {
  "kernelspec": {
   "display_name": ".venv",
   "language": "python",
   "name": "python3"
  },
  "language_info": {
   "codemirror_mode": {
    "name": "ipython",
    "version": 3
   },
   "file_extension": ".py",
   "mimetype": "text/x-python",
   "name": "python",
   "nbconvert_exporter": "python",
   "pygments_lexer": "ipython3",
   "version": "3.13.0"
  }
 },
 "nbformat": 4,
 "nbformat_minor": 2
}
