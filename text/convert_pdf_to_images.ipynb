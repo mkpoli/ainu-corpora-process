{
 "cells": [
  {
   "cell_type": "markdown",
   "metadata": {},
   "source": [
    "# OCR用にPDFを画像化"
   ]
  },
  {
   "cell_type": "code",
   "execution_count": 1,
   "metadata": {},
   "outputs": [],
   "source": [
    "from pathlib import Path\n",
    "import pdf2image\n",
    "\n",
    "OUTPUT_PATH = Path(\"output\")\n",
    "# open pdf and convert to pngs into a folder\n",
    "for pdf_file in Path('.').glob('*.pdf'):\n",
    "    images = pdf2image.convert_from_path(pdf_file)\n",
    "    for i, image in enumerate(images):\n",
    "        path = Path(OUTPUT_PATH / pdf_file.stem / f\"{i}.png\")\n",
    "        path.parent.mkdir(parents=True, exist_ok=True)\n",
    "        image.save(path)\n",
    "    print(f\"Converted {pdf_file} to pngs\")"
   ]
  }
 ],
 "metadata": {
  "kernelspec": {
   "display_name": ".venv",
   "language": "python",
   "name": "python3"
  },
  "language_info": {
   "codemirror_mode": {
    "name": "ipython",
    "version": 3
   },
   "file_extension": ".py",
   "mimetype": "text/x-python",
   "name": "python",
   "nbconvert_exporter": "python",
   "pygments_lexer": "ipython3",
   "version": "3.13.0"
  }
 },
 "nbformat": 4,
 "nbformat_minor": 2
}
