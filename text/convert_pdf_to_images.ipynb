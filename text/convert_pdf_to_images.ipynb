{
 "cells": [
  {
   "cell_type": "markdown",
   "metadata": {},
   "source": [
    "# OCR用にPDFを画像化"
   ]
  },
  {
   "cell_type": "code",
   "execution_count": 1,
   "metadata": {},
   "outputs": [
    {
     "name": "stdout",
     "output_type": "stream",
     "text": [
      "Converted sem1608.pdf to pngs\n"
     ]
    }
   ],
   "source": [
    "from pathlib import Path\n",
    "import pdf2image\n",
    "\n",
    "OUTPUT_PATH = Path(\"output\")\n",
    "# open pdf and convert to pngs into a folder\n",
    "for pdf_file in Path('.').glob('*.pdf'):\n",
    "    images = pdf2image.convert_from_path(pdf_file)\n",
    "    for i, image in enumerate(images):\n",
    "        path = Path(OUTPUT_PATH / pdf_file.stem / f\"{i}.png\")\n",
    "        path.parent.mkdir(parents=True, exist_ok=True)\n",
    "        image.save(path)\n",
    "    print(f\"Converted {pdf_file} to pngs\")"
   ]
  },
  {
   "cell_type": "markdown",
   "metadata": {},
   "source": [
    "## 画像を裁断\n"
   ]
  },
  {
   "cell_type": "code",
   "execution_count": 4,
   "metadata": {},
   "outputs": [],
   "source": [
    "import json\n",
    "from PIL import Image\n",
    "\n",
    "CROP_SRC_PATH = Path(\"crop\")\n",
    "\n",
    "for crop_path in CROP_SRC_PATH.glob(\"*.json\"):\n",
    "    with open(crop_path, \"r\") as file:\n",
    "        crop_data = json.load(file)\n",
    "\n",
    "    image_dir = Path(\"output\") / crop_path.stem\n",
    "\n",
    "    cropped_image_dir = Path(\"output\") / crop_path.stem / \"cropped\"\n",
    "    for file in cropped_image_dir.glob(\"**/*\"):\n",
    "        if file.is_file():\n",
    "            file.unlink()\n",
    "    cropped_image_dir.mkdir(parents=True, exist_ok=True)\n",
    "\n",
    "    pages = sorted(image_dir.glob(\"*.png\"))\n",
    "\n",
    "    for page in pages:\n",
    "        image = Image.open(page)\n",
    "        image_width, image_height = image.size\n",
    "        page_id = int(page.stem)\n",
    "        for i, crop in enumerate(crop_data[\"crops\"]):\n",
    "            page_from = int(crop.get(\"page_from\", 0))\n",
    "            page_to = int(crop.get(\"page_to\", len(pages)))\n",
    "\n",
    "            if page_from > page_id:\n",
    "                break\n",
    "\n",
    "            if page_to < page_id:\n",
    "                continue\n",
    "\n",
    "            crop_dir = cropped_image_dir / f\"{i}\"\n",
    "            crop_dir.mkdir(parents=True, exist_ok=True)\n",
    "\n",
    "            cropped_image = image.crop((crop[\"x\"] * image_width, crop[\"y\"] * image_height, (crop[\"x\"] + crop[\"width\"]) * image_width, (crop[\"y\"] + crop[\"height\"]) * image_height))\n",
    "            cropped_image.save(crop_dir / f\"{page_id}.png\")\n"
   ]
  }
 ],
 "metadata": {
  "kernelspec": {
   "display_name": ".venv",
   "language": "python",
   "name": "python3"
  },
  "language_info": {
   "codemirror_mode": {
    "name": "ipython",
    "version": 3
   },
   "file_extension": ".py",
   "mimetype": "text/x-python",
   "name": "python",
   "nbconvert_exporter": "python",
   "pygments_lexer": "ipython3",
   "version": "3.12.7"
  }
 },
 "nbformat": 4,
 "nbformat_minor": 2
}
