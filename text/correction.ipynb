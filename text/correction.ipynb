{
 "cells": [
  {
   "cell_type": "code",
   "execution_count": 3,
   "metadata": {},
   "outputs": [
    {
     "name": "stdout",
     "output_type": "stream",
     "text": [
      "  シラウォイ\n",
      "- ク\n",
      "+ タ\n",
      "- エヘカトゥ\n",
      "?     ^\n",
      "\n",
      "+ エヘカト゚\n",
      "?     ^\n",
      "\n",
      "  ルウェ\n",
      "+ タ\n",
      "  アン\n",
      "['シラウォイ', 'ク', 'エヘカトゥ', 'ルウェ', 'アン']\n",
      "['シラウォイ', 'タ', 'エヘカト゚', 'ルウェ', 'タ', 'アン']\n"
     ]
    }
   ],
   "source": [
    "import regex as re\n",
    "import difflib\n",
    "\n",
    "from ainconv import latn2kana\n",
    "\n",
    "# 脱字\n",
    "\n",
    "# kana = \"エポンレ エンヌレ ヤン．\"\n",
    "# latn = \"e=ponre moto en=nure yan.\"\n",
    "\n",
    "kana = \"シラウォイ ク エヘカトゥ ルウェ アン? \"\n",
    "latn = \"sirawoy ta e=hekatu ruwe ta an? \"\n",
    "# 白老生まれですか\n",
    "\n",
    "\n",
    "latn2kana(latn)\n",
    "# remove punctuations\n",
    "\n",
    "\n",
    "def show_diff(list1, list2):\n",
    "    d = difflib.Differ()\n",
    "    diff = list(d.compare(list1, list2))\n",
    "    return \"\\n\".join(diff)\n",
    "\n",
    "\n",
    "kana_item_pattern = re.compile(r\"(\\p{scx=Kana}+)\")\n",
    "\n",
    "kana_words = kana_item_pattern.findall(kana)\n",
    "latn_words_kana = kana_item_pattern.findall(latn2kana(latn))\n",
    "\n",
    "print(show_diff(kana_words, latn_words_kana))\n",
    "\n",
    "# re.findall(r\"(\\p{scx=Kana}+)\", latn2kana(latn))\n",
    "print(kana_words)\n",
    "print(latn_words_kana)\n",
    "\n",
    "\n",
    "# kana_words = k\n",
    "\n",
    "# # Check if the kana is correct word by word by splitting the sentence\n",
    "# kana_words = latn2kana(latn).split()\n",
    "# # ['エポンレ', 'エンヌレ', 'ヤン．']\n",
    "# import difflib\n",
    "\n",
    "# for kana_word, latn_word in zip(kaz"
   ]
  },
  {
   "cell_type": "code",
   "execution_count": 2,
   "metadata": {},
   "outputs": [
    {
     "name": "stdout",
     "output_type": "stream",
     "text": [
      "  apple\n",
      "+ mango\n",
      "+ juice\n",
      "  banana\n",
      "- juice\n"
     ]
    }
   ],
   "source": [
    "# Example usage:\n",
    "list1 = [\"apple\", \"banana\", \"juice\"]\n",
    "list2 = [\"apple\", \"mango\", \"juice\", \"banana\"]\n",
    "\n",
    "result = show_diff(list1, list2)\n",
    "print(result)"
   ]
  }
 ],
 "metadata": {
  "kernelspec": {
   "display_name": ".venv",
   "language": "python",
   "name": "python3"
  },
  "language_info": {
   "codemirror_mode": {
    "name": "ipython",
    "version": 3
   },
   "file_extension": ".py",
   "mimetype": "text/x-python",
   "name": "python",
   "nbconvert_exporter": "python",
   "pygments_lexer": "ipython3",
   "version": "3.12.7"
  }
 },
 "nbformat": 4,
 "nbformat_minor": 2
}
