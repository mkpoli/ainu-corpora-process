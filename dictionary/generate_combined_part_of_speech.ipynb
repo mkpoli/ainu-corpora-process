{
  "cells": [
    {
      "cell_type": "markdown",
      "metadata": {},
      "source": [
        "# Generate combined part of speech data"
      ]
    },
    {
      "cell_type": "code",
      "execution_count": 1,
      "metadata": {},
      "outputs": [],
      "source": [
        "from pathlib import Path\n",
        "import json\n",
        "from typing import TypedDict\n",
        "\n",
        "OUTPUT_DIR = Path(\"output\")\n",
        "INPUT_DIR = Path(\"input\")\n",
        "\n",
        "# Expand more pos data, from wiktionary by ain-verb template and from Tamurax"
      ]
    },
    {
      "cell_type": "markdown",
      "metadata": {},
      "source": [
        "## Load data"
      ]
    },
    {
      "cell_type": "markdown",
      "metadata": {},
      "source": [
        "### Load Wiktionary POS data"
      ]
    },
    {
      "cell_type": "code",
      "execution_count": 2,
      "metadata": {},
      "outputs": [
        {
          "name": "stdout",
          "output_type": "stream",
          "text": [
            "noun: 1415\n",
            "verb: 612\n",
            "adv: 81\n",
            "parti: 40\n",
            "num: 34\n",
            "suffix: 27\n",
            "prefix: 26\n",
            "pron: 22\n",
            "interj: 22\n",
            "auxverb: 17\n",
            "root: 13\n",
            "conj: 11\n",
            "adnom: 8\n",
            "pronoun: 2\n",
            "postpadv: 2\n",
            "colloc: 2\n",
            "determiner: 1\n",
            "rel: 1\n",
            "Wiktionary entries: 2229\n",
            "wan\t['num']\n",
            "tu\t['num']\n",
            "rak\t['verb']\n",
            "ci\t['verb']\n",
            "mi\t['verb']\n",
            "on\t['verb']\n",
            "ona\t['noun']\n",
            "o\t['verb']\n",
            "ay\t['noun']\n",
            "oro\t['noun']\n",
            "he\t['parti']\n",
            "i\t['prefix']\n"
          ]
        }
      ],
      "source": [
        "from collections import Counter\n",
        "\n",
        "# Load Wiktionary POS data\n",
        "with open(OUTPUT_DIR / \"wiktionary_ainu_part_of_speech.json\", \"r\") as f:\n",
        "    wiktionary_pos = json.load(f)\n",
        "\n",
        "# TODO: Relfect transitivity\n",
        "\n",
        "# noun: 1415\n",
        "# verb: 612\n",
        "# adv: 81\n",
        "# parti: 40\n",
        "# num: 34\n",
        "# suffix: 27\n",
        "# prefix: 26\n",
        "# pron: 22\n",
        "# interj: 22\n",
        "# auxverb: 17\n",
        "# root: 13\n",
        "# conj: 11\n",
        "# adnom: 8\n",
        "# pronoun: 2\n",
        "# postpadv: 2\n",
        "# colloc: 2\n",
        "# determiner: 1\n",
        "# rel: 1\n",
        "\n",
        "WIKTIONARY_XPOS_MAP = {\n",
        "    \"noun\": \"n\",\n",
        "    \"verb\": \"v\",\n",
        "    \"conj\": \"cconj\",\n",
        "    \"pron\": \"pron\",\n",
        "    \"adv\": \"adv\",\n",
        "    \"parti\": \"parti\",\n",
        "    \"num\": \"num\",\n",
        "    \"suffix\": \"sfx\",\n",
        "    \"prefix\": \"pfx\",\n",
        "    \"pron\": \"pron\",\n",
        "    \"interj\": \"intj\",\n",
        "    \"auxverb\": \"auxv\",\n",
        "    \"root\": \"root\",\n",
        "    \"adnom\": \"adn\",\n",
        "    \"postpadv\": \"postp\",\n",
        "    \"colloc\": \"colloc\",\n",
        "    \"determiner\": \"adn\",\n",
        "    \"rel\": \"rel\",\n",
        "\n",
        "}\n",
        "\n",
        "c = Counter()\n",
        "for word, pos in wiktionary_pos.items():\n",
        "    for p in pos:\n",
        "        c[p] += 1\n",
        "\n",
        "for pos, count in c.most_common():\n",
        "    print(f\"{pos}: {count}\")\n",
        "\n",
        "print(\"Wiktionary entries:\", len(wiktionary_pos))\n",
        "for i, (lemma, pos) in enumerate(wiktionary_pos.items()):\n",
        "    print(f\"{lemma}\\t{pos}\")\n",
        "    if i > 10:\n",
        "        break\n",
        "\n",
        "# word -> list of pos\n",
        "mapped_wiktionary_pos: dict[str, list[str]] = {\n",
        "    word: [WIKTIONARY_XPOS_MAP[pos] if pos in WIKTIONARY_XPOS_MAP else pos for pos in pos_list]\n",
        "    for word, pos_list in wiktionary_pos.items()\n",
        "}\n"
      ]
    },
    {
      "cell_type": "markdown",
      "metadata": {},
      "source": [
        "### Load FF Ainu POS data"
      ]
    },
    {
      "cell_type": "code",
      "execution_count": 3,
      "metadata": {},
      "outputs": [
        {
          "name": "stdout",
          "output_type": "stream",
          "text": [
            "FF Saru entries: 975\n",
            "ア\t人接\n",
            "ア\t自\n",
            "アアン\t助動\n",
            "アイヌ\t名\n",
            "アイヌイタク\t名\n",
            "アイヌフラ\t名\n",
            "アイネ\t接助\n",
            "アエプ\t名\n",
            "アオイペプ\t名\n",
            "アオカ\t代名\n",
            "アキヒ\t名\n",
            "アク\t名\n"
          ]
        }
      ],
      "source": [
        "# Load FF Ainu POS data\n",
        "with open(OUTPUT_DIR / \"ff-ainu-saru-terms.json\", \"r\") as f:\n",
        "    ff_saru_terms = json.load(f)\n",
        "\n",
        "print(\"FF Saru entries:\", len(ff_saru_terms))\n",
        "for i, entry in enumerate(ff_saru_terms):\n",
        "    print(f\"{entry['kana']}\\t{entry['pos']}\")\n",
        "    if i > 10:\n",
        "        break"
      ]
    },
    {
      "cell_type": "markdown",
      "metadata": {},
      "source": [
        "## Load manual POS data"
      ]
    },
    {
      "cell_type": "code",
      "execution_count": 4,
      "metadata": {},
      "outputs": [
        {
          "name": "stdout",
          "output_type": "stream",
          "text": [
            "Manual: 2\n",
            "k=\t['pers']\n",
            "c=\t['pers']\n"
          ]
        }
      ],
      "source": [
        "with open(INPUT_DIR / \"manual_gloss.json\", \"r\") as f:\n",
        "    manual_glosses = {k: v[\"poses\"] for k, v in json.load(f).items()}\n",
        "\n",
        "print(\"Manual:\", len(manual_glosses))\n",
        "for i, (lemma, pos) in enumerate(manual_glosses.items()):\n",
        "    print(f\"{lemma}\\t{pos}\")\n",
        "    if i > 10:\n",
        "        break"
      ]
    },
    {
      "cell_type": "markdown",
      "metadata": {},
      "source": [
        "## Combine POS data"
      ]
    },
    {
      "cell_type": "code",
      "execution_count": 5,
      "metadata": {},
      "outputs": [
        {
          "name": "stdout",
          "output_type": "stream",
          "text": [
            "Combined entries: 3186\n",
            "wan\t['num']\n",
            "tu\t['num']\n",
            "rak\t['v']\n",
            "ci\t['v']\n",
            "mi\t['v']\n",
            "on\t['v']\n",
            "ona\t['n']\n",
            "o\t['v']\n",
            "ay\t['n']\n",
            "oro\t['n']\n",
            "he\t['parti']\n",
            "i\t['pfx']\n"
          ]
        }
      ],
      "source": [
        "# Map FF Ainu POS tags to Wiktionary format\n",
        "# | UPOS                | XPOS   | JAPANESE |\n",
        "# | ------------------- | ------ | -------- |\n",
        "# | VERB                | vi     | 自動詞   |\n",
        "# | VERB                | vt     | 他動詞   |\n",
        "# | VERB                | vd     | 複他動詞 |\n",
        "# | VERB                | vc     | 完全動詞 |\n",
        "# | VERB                | v      | 動詞     |\n",
        "# | AUX                 | auxv   | 助動詞   |\n",
        "# | AUX                 | cop    | 繋辞     |\n",
        "# | NOUN                | n      | 名詞     |\n",
        "# | NOUN                | nl     | 位置名詞 |\n",
        "# | NOUN                | nmlz   | 形式名詞 |\n",
        "# | PRON                | pron   | 代名詞   |\n",
        "# | PROPN               | propn  | 固有名詞 |\n",
        "# | DET                 | adn    | 連体詞   |\n",
        "# | ADV                 | adv    | 副詞     |\n",
        "# | CCONJ / SCONJ / ADV | cconj  | 接続詞   |\n",
        "# | POST                | post   | 助詞     |\n",
        "# | PART                | sfp    | 終助詞   |\n",
        "# | PART                | pers   | 人称接辞 |\n",
        "# | INTJ                | intj   | 間投詞   |\n",
        "# | SCONJ               | sconj  | 接続助詞 |\n",
        "# | SCONJ               | padv   | 後置副詞 |\n",
        "# | -                   | sfx    | 接尾辞   |\n",
        "# | -                   | pfx    | 接頭辞   |\n",
        "# | -                   | root   | 語根     |\n",
        "# | ADP                 | advp   | 副助詞   |\n",
        "# | ADP                 | postp  | 格助詞   |\n",
        "# | ADP                 | parti  | 助詞     |\n",
        "# | PRON / DET / NOUN   | int    | 疑問詞   |\n",
        "# | NUM                 | num    | 数詞     |\n",
        "# | PUNCT               | punct  | 記号     |\n",
        "# | -                   | colloc | 連語     |\n",
        "# | -                   | idiom  | 慣用句   |\n",
        "\n",
        "\n",
        "POS_MAP = {\n",
        "    \"名\": \"n\",\n",
        "    \"自\": \"vi\", \n",
        "    \"他\": \"vt\",\n",
        "    \"複他\": \"vd\",\n",
        "    \"完\": \"vc\",\n",
        "    \"助動\": \"auxv\",\n",
        "    \"繋辞\": \"cop\",\n",
        "    \"副\": \"adv\",\n",
        "    \"後副\": \"padv\",\n",
        "    \"連体\": \"adn\",\n",
        "    \"間投\": \"intj\",\n",
        "    \"形名\": \"nmlz\",\n",
        "    \"代名\": \"pron\",\n",
        "    \"位名\": \"nl\",\n",
        "    \"格助\": \"postp\",\n",
        "    \"副助\": \"advp\",\n",
        "    \"終助\": \"sfp\",\n",
        "    \"接助\": \"sconj\",\n",
        "    \"人接\": \"pers\",\n",
        "    \"接頭\": \"pfx\",\n",
        "    \"接尾\": \"sfx\",\n",
        "    \"位名＋格助\": \"colloc\",\n",
        "    \"名＋格助\": \"colloc\",\n",
        "    \"動\": \"verb\"\n",
        "}\n",
        "\n",
        "# Combine POS data\n",
        "combined_pos = {}\n",
        "\n",
        "# Add Wiktionary entries\n",
        "for lemma, pos_list in mapped_wiktionary_pos.items():\n",
        "    combined_pos[lemma] = pos_list\n",
        "\n",
        "# Add FF Saru entries\n",
        "for entry in ff_saru_terms:\n",
        "    if entry[\"kana\"] in combined_pos and combined_pos[entry[\"kana\"]]:\n",
        "        continue\n",
        "\n",
        "    mapped_poses = []\n",
        "    for pos in entry[\"pos\"].split(\"／\"):\n",
        "        mapped_pos = POS_MAP.get(pos)\n",
        "        if mapped_pos:\n",
        "            mapped_poses.append(mapped_pos)\n",
        "        else:\n",
        "            print(f\"No mapping found for {entry['kana']} with POS {entry['pos']}\")\n",
        "\n",
        "    combined_pos[entry[\"kana\"]] = mapped_poses\n",
        "\n",
        "print(\"Combined entries:\", len(combined_pos))\n",
        "for i, (lemma, pos) in enumerate(combined_pos.items()):\n",
        "    print(f\"{lemma}\\t{pos}\")\n",
        "    if i > 10:\n",
        "        break"
      ]
    },
    {
      "cell_type": "code",
      "execution_count": 6,
      "metadata": {},
      "outputs": [],
      "source": [
        "# Save combined POS data\n",
        "with open(OUTPUT_DIR / \"combined_part_of_speech.json\", \"w\") as f:\n",
        "    json.dump(combined_pos, f, ensure_ascii=False, indent=2)\n",
        "\n",
        "with open(\"../utils/src/utils/data/combined_part_of_speech.json\", \"w\") as f:\n",
        "    json.dump(combined_pos, f, ensure_ascii=False, indent=2)\n"
      ]
    },
    {
      "cell_type": "code",
      "execution_count": 7,
      "metadata": {},
      "outputs": [
        {
          "name": "stdout",
          "output_type": "stream",
          "text": [
            "n: 1840\n",
            "v: 612\n",
            "vi: 183\n",
            "adv: 133\n",
            "vt: 123\n",
            "parti: 40\n",
            "num: 34\n",
            "pron: 34\n",
            "adn: 31\n",
            "auxv: 30\n",
            "intj: 29\n",
            "nl: 29\n",
            "pfx: 28\n",
            "sfx: 27\n",
            "sconj: 19\n",
            "advp: 14\n",
            "root: 13\n",
            "padv: 12\n",
            "cconj: 11\n",
            "vd: 10\n",
            "pers: 9\n",
            "postp: 7\n",
            "vc: 7\n",
            "sfp: 6\n",
            "colloc: 5\n",
            "nmlz: 5\n",
            "pronoun: 2\n",
            "rel: 1\n",
            "verb: 1\n"
          ]
        }
      ],
      "source": [
        "import json\n",
        "from collections import Counter\n",
        "with open(OUTPUT_DIR / \"combined_part_of_speech.json\", \"r\") as f:\n",
        "    combined_pos = json.load(f)\n",
        "\n",
        "c = Counter()\n",
        "for word, poses in combined_pos.items():\n",
        "    for pos in poses:\n",
        "        c[pos] += 1\n",
        "\n",
        "for word, count in c.most_common():\n",
        "    print(f\"{word}: {count}\")\n"
      ]
    }
  ],
  "metadata": {
    "kernelspec": {
      "display_name": ".venv",
      "language": "python",
      "name": "python3"
    },
    "language_info": {
      "codemirror_mode": {
        "name": "ipython",
        "version": 3
      },
      "file_extension": ".py",
      "mimetype": "text/x-python",
      "name": "python",
      "nbconvert_exporter": "python",
      "pygments_lexer": "ipython3",
      "version": "3.12.7"
    }
  },
  "nbformat": 4,
  "nbformat_minor": 2
}
