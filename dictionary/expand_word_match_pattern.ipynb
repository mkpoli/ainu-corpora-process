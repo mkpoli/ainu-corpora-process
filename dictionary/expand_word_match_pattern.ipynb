{
 "cells": [
  {
   "cell_type": "code",
   "execution_count": 1,
   "metadata": {},
   "outputs": [
    {
     "name": "stdout",
     "output_type": "stream",
     "text": [
      "['kemo', 'kem', 'komo', 'kom']\n"
     ]
    }
   ],
   "source": [
    "import regex as re\n",
    "\n",
    "\n",
    "def expand_combinations(input_str):\n",
    "    def expand(segment):\n",
    "        # Match the first set of braces\n",
    "        match = re.search(r\"\\{([^}]+)\\}\", segment)\n",
    "        if not match:\n",
    "            # No braces left, return as is\n",
    "            return [segment]\n",
    "\n",
    "        # Extract the options inside the braces\n",
    "        options = match.group(1).split(\",\")\n",
    "        options = [\n",
    "            option if option != \"∅\" else \"\" for option in options\n",
    "        ]  # Handle empty string for ∅\n",
    "        prefix = segment[: match.start()]  # Everything before the braces\n",
    "        suffix = segment[match.end() :]  # Everything after the braces\n",
    "\n",
    "        # Generate combinations\n",
    "        results = []\n",
    "        for option in options:\n",
    "            results.extend(expand(prefix + option + suffix))\n",
    "        return results\n",
    "\n",
    "    return expand(input_str)\n",
    "\n",
    "\n",
    "# Example usage\n",
    "expanded = expand_combinations(\"k{e,o}m{o,∅}\")\n",
    "print(expanded)"
   ]
  },
  {
   "cell_type": "code",
   "execution_count": 2,
   "metadata": {},
   "outputs": [
    {
     "name": "stdout",
     "output_type": "stream",
     "text": [
      "kemoros\n",
      "https://www.google.com/search?q=%E3%82%A2%E3%82%A4%E3%83%8C%E8%AA%9E+%22kemoros%22\n",
      "kemorosu\n",
      "https://www.google.com/search?q=%E3%82%A2%E3%82%A4%E3%83%8C%E8%AA%9E+%22kemorosu%22\n",
      "kemorosi\n",
      "https://www.google.com/search?q=%E3%82%A2%E3%82%A4%E3%83%8C%E8%AA%9E+%22kemorosi%22\n",
      "kemorus\n",
      "https://www.google.com/search?q=%E3%82%A2%E3%82%A4%E3%83%8C%E8%AA%9E+%22kemorus%22\n",
      "kemorusu\n",
      "https://www.google.com/search?q=%E3%82%A2%E3%82%A4%E3%83%8C%E8%AA%9E+%22kemorusu%22\n",
      "kemorusi\n",
      "https://www.google.com/search?q=%E3%82%A2%E3%82%A4%E3%83%8C%E8%AA%9E+%22kemorusi%22\n",
      "kemuros\n",
      "https://www.google.com/search?q=%E3%82%A2%E3%82%A4%E3%83%8C%E8%AA%9E+%22kemuros%22\n",
      "kemurosu\n",
      "https://www.google.com/search?q=%E3%82%A2%E3%82%A4%E3%83%8C%E8%AA%9E+%22kemurosu%22\n",
      "kemurosi\n",
      "https://www.google.com/search?q=%E3%82%A2%E3%82%A4%E3%83%8C%E8%AA%9E+%22kemurosi%22\n",
      "kemurus\n",
      "https://www.google.com/search?q=%E3%82%A2%E3%82%A4%E3%83%8C%E8%AA%9E+%22kemurus%22\n",
      "kemurusu\n",
      "https://www.google.com/search?q=%E3%82%A2%E3%82%A4%E3%83%8C%E8%AA%9E+%22kemurusu%22\n",
      "kemurusi\n",
      "https://www.google.com/search?q=%E3%82%A2%E3%82%A4%E3%83%8C%E8%AA%9E+%22kemurusi%22\n",
      "kimoros\n",
      "https://www.google.com/search?q=%E3%82%A2%E3%82%A4%E3%83%8C%E8%AA%9E+%22kimoros%22\n",
      "kimorosu\n",
      "https://www.google.com/search?q=%E3%82%A2%E3%82%A4%E3%83%8C%E8%AA%9E+%22kimorosu%22\n",
      "kimorosi\n",
      "https://www.google.com/search?q=%E3%82%A2%E3%82%A4%E3%83%8C%E8%AA%9E+%22kimorosi%22\n",
      "kimorus\n",
      "https://www.google.com/search?q=%E3%82%A2%E3%82%A4%E3%83%8C%E8%AA%9E+%22kimorus%22\n",
      "kimorusu\n",
      "https://www.google.com/search?q=%E3%82%A2%E3%82%A4%E3%83%8C%E8%AA%9E+%22kimorusu%22\n",
      "kimorusi\n",
      "https://www.google.com/search?q=%E3%82%A2%E3%82%A4%E3%83%8C%E8%AA%9E+%22kimorusi%22\n",
      "kimuros\n",
      "https://www.google.com/search?q=%E3%82%A2%E3%82%A4%E3%83%8C%E8%AA%9E+%22kimuros%22\n",
      "kimurosu\n",
      "https://www.google.com/search?q=%E3%82%A2%E3%82%A4%E3%83%8C%E8%AA%9E+%22kimurosu%22\n",
      "kimurosi\n",
      "https://www.google.com/search?q=%E3%82%A2%E3%82%A4%E3%83%8C%E8%AA%9E+%22kimurosi%22\n",
      "kimurus\n",
      "https://www.google.com/search?q=%E3%82%A2%E3%82%A4%E3%83%8C%E8%AA%9E+%22kimurus%22\n",
      "kimurusu\n",
      "https://www.google.com/search?q=%E3%82%A2%E3%82%A4%E3%83%8C%E8%AA%9E+%22kimurusu%22\n",
      "kimurusi\n",
      "https://www.google.com/search?q=%E3%82%A2%E3%82%A4%E3%83%8C%E8%AA%9E+%22kimurusi%22\n"
     ]
    }
   ],
   "source": [
    "c = \"k{e,i}m{o,u}r{o,u}s{∅,u,i}\"\n",
    "\n",
    "for c in expand_combinations(c):\n",
    "    print(c)\n",
    "\n",
    "    print(\n",
    "        f\"https://www.google.com/search?q=%E3%82%A2%E3%82%A4%E3%83%8C%E8%AA%9E+%22{c}%22\"\n",
    "    )\n"
   ]
  }
 ],
 "metadata": {
  "kernelspec": {
   "display_name": ".venv",
   "language": "python",
   "name": "python3"
  },
  "language_info": {
   "codemirror_mode": {
    "name": "ipython",
    "version": 3
   },
   "file_extension": ".py",
   "mimetype": "text/x-python",
   "name": "python",
   "nbconvert_exporter": "python",
   "pygments_lexer": "ipython3",
   "version": "3.13.0"
  }
 },
 "nbformat": 4,
 "nbformat_minor": 2
}
