{
 "cells": [
  {
   "cell_type": "markdown",
   "metadata": {},
   "source": [
    "# アイヌ語鵡川方言 日本語-アイヌ語辞典\n",
    "\n",
    "片山・中川裕\n",
    "\n",
    "https://www.gshpa.chiba-u.jp/cas/Ainu-archives/index.html\n"
   ]
  },
  {
   "cell_type": "markdown",
   "metadata": {},
   "source": [
    "## 音声ダウンロード"
   ]
  },
  {
   "cell_type": "code",
   "execution_count": 4,
   "metadata": {},
   "outputs": [
    {
     "name": "stdout",
     "output_type": "stream",
     "text": [
      "The dotenv extension is already loaded. To reload it, use:\n",
      "  %reload_ext dotenv\n"
     ]
    }
   ],
   "source": [
    "%load_ext dotenv\n",
    "%dotenv"
   ]
  },
  {
   "cell_type": "code",
   "execution_count": 6,
   "metadata": {},
   "outputs": [
    {
     "name": "stdout",
     "output_type": "stream",
     "text": [
      "/mnt/l/mukawa\n"
     ]
    }
   ],
   "source": [
    "import os \n",
    "from pathlib import Path\n",
    "\n",
    "DOWNLOAD_PATH = os.getenv(\"DOWNLOAD_PATH\") or \"./downloaded\"\n",
    "print(DOWNLOAD_PATH)\n",
    "if not os.path.exists(DOWNLOAD_PATH):\n",
    "    os.makedirs(DOWNLOAD_PATH)\n"
   ]
  },
  {
   "cell_type": "code",
   "execution_count": 7,
   "metadata": {},
   "outputs": [
    {
     "data": {
      "application/vnd.jupyter.widget-view+json": {
       "model_id": "62945585ff1a4a0b95d86a31d98181f2",
       "version_major": 2,
       "version_minor": 0
      },
      "text/plain": [
       "  0%|          | 0/6273 [00:00<?, ?it/s]"
      ]
     },
     "metadata": {},
     "output_type": "display_data"
    }
   ],
   "source": [
    "import requests\n",
    "from urllib.parse import unquote\n",
    "\n",
    "from tqdm.notebook import tqdm\n",
    "import time\n",
    "from pathlib import Path\n",
    "\n",
    "with open(\"mukawa_audio.txt\", \"r\") as f:\n",
    "    urls = f.read().splitlines()\n",
    "\n",
    "\n",
    "for url in tqdm(urls):\n",
    "    filename = unquote(url.split('/')[-1])\n",
    "    filepath = Path(f\"/mnt/l/mukawa/{filename}\")\n",
    "    if filepath.exists():\n",
    "        continue\n",
    "    r = requests.get(url)\n",
    "    # decode url escaped characters\n",
    "    with open(filepath, \"wb\") as f:\n",
    "        f.write(r.content)\n",
    "    time.sleep(1)"
   ]
  }
 ],
 "metadata": {
  "kernelspec": {
   "display_name": ".venv",
   "language": "python",
   "name": "python3"
  },
  "language_info": {
   "codemirror_mode": {
    "name": "ipython",
    "version": 3
   },
   "file_extension": ".py",
   "mimetype": "text/x-python",
   "name": "python",
   "nbconvert_exporter": "python",
   "pygments_lexer": "ipython3",
   "version": "3.13.0"
  }
 },
 "nbformat": 4,
 "nbformat_minor": 2
}
