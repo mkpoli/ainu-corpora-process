{
 "cells": [
  {
   "cell_type": "markdown",
   "metadata": {},
   "source": [
    "# Extract vocabulary from アイヌ語電子辞書"
   ]
  },
  {
   "cell_type": "code",
   "execution_count": 1,
   "metadata": {},
   "outputs": [],
   "source": [
    "from pathlib import Path\n",
    "OUTPUT_DIR = Path(\"../output\")"
   ]
  },
  {
   "cell_type": "code",
   "execution_count": 2,
   "metadata": {},
   "outputs": [],
   "source": [
    "# import requests\n",
    "\n",
    "# URL = \"http://tommy1949.world.coocan.jp/aynudictionary.htm\"\n",
    "\n",
    "# response = requests.get(URL)\n",
    "# response.encoding = response.apparent_encoding\n",
    "\n",
    "\n",
    "# with open(OUTPUT_DIR / \"tommy1949_aynudictionary.html\", \"w\") as f:\n",
    "#     f.write(response.text)\n"
   ]
  },
  {
   "cell_type": "code",
   "execution_count": 16,
   "metadata": {},
   "outputs": [],
   "source": [
    "from typing import TypedDict\n",
    "from parsel import Selector\n",
    "\n",
    "class Entry(TypedDict):\n",
    "    id: str\n",
    "    lemma: str\n",
    "    etymology: str\n",
    "    explanation: str\n",
    "\n",
    "with open(OUTPUT_DIR / \"tommy1949_aynudictionary.html\", \"r\") as f:\n",
    "    sel = Selector(f.read())\n",
    "\n",
    "\n",
    "extracted_rows = []\n",
    "\n",
    "for tr in sel.xpath('//div[@align=\"left\"]/table/tbody/tr'):\n",
    "    item: Entry = {\n",
    "        \"id\": (tr.xpath(\"./td[1]/text()\").get() or '').strip(),\n",
    "        \"lemma\": (tr.xpath(\"./td[2]/text()\").get() or '').strip(),\n",
    "        \"etymology\": (tr.xpath(\"./td[3]/text()\").get() or '').strip(),\n",
    "        \"explanation\": (tr.xpath(\"./td[4]/text()\").get() or '').strip(),\n",
    "    }\n",
    "    extracted_rows.append(item)"
   ]
  },
  {
   "cell_type": "code",
   "execution_count": 19,
   "metadata": {},
   "outputs": [
    {
     "name": "stdout",
     "output_type": "stream",
     "text": [
      "{'id': '1', 'lemma': '=an', 'etymology': '人称接辞（自動詞に）', 'explanation': '①\\u3000（話相手を含めて）私たちが・は\\u3000◆Annoski pakno uenewsar=an rusuy.(夜更けまで私たちはお話していたい。）'}\n",
      "{'id': '2', 'lemma': '=an', 'etymology': '人称接辞（自動詞に）', 'explanation': '②\\u3000（一般的な）人は、人が'}\n",
      "{'id': '3', 'lemma': '=an', 'etymology': '人称接辞（自動詞に）', 'explanation': '③\\u3000（引用文の中の話題の人を示す人称）その人が\\u3000◆Ku=yupo \"A=sapa arak wa hopuni=an ka eaykap,\" sekor hawean.(兄さんが「頭が痛くて起きられない」と言った。'}\n",
      "{'id': '4', 'lemma': '=an', 'etymology': '人称接辞（自動詞に）', 'explanation': '④\\u3000（敬意を表したい人を示す人称・特に女性から男性へ）あなた様が\\u3000◆ Soyenpa=an ciki, ponkanpi a=hok yak pirka.（あなた様がお出掛けなら、ハガキを（あなた様が）買って来て下さると嬉しいわ）'}\n",
      "{'id': '5', 'lemma': '=as', 'etymology': '人称接辞（自動詞に）', 'explanation': '話し相手を含まない私たち（＝私ども）\\u3000◆ Totto, kamuy ci=nukar kusu, pet or un paye=as ruwe.（母さん、僕たち熊を見るために（僕たち）川へ行ったんだ。）'}\n",
      "{'id': '6', 'lemma': 'a', 'etymology': '', 'explanation': '②\\u3000煮物の汁が多い\\u3000→川の水が多いのはporo ◆poro wakka （洪水）'}\n",
      "{'id': '7', 'lemma': 'a', 'etymology': '形成接頭辞', 'explanation': '③\\u3000名詞を作るときの接頭辞\\u3000◆aep\\u3000＜人が・食べる・もの＞で「食べ物」となる。'}\n",
      "{'id': '8', 'lemma': 'a', 'etymology': '', 'explanation': '④\\u3000[過去表現]\\u3000(以前・過去に）～した、（～で）あった\\u3000◆Cise or ta an a ruwe?（家に居たって事？）\\u3000◆uenewsar rusuy a korka\\u3000(お話ししたかったけれど）\\u3000◆ku=mataki ne a p (私の妹であったもの=死んだ妹）'}\n",
      "{'id': '9', 'lemma': 'a', 'etymology': '', 'explanation': '⑤\\u3000[感嘆表現]\\u3000～したなあ！\\u3000～だなあ！◆Sonno an a !（本当にそうだねえ！）'}\n",
      "{'id': '10', 'lemma': 'a', 'etymology': '', 'explanation': '⑥\\u3000[yaの代替]\\u3000～なのか！\\u3000（子音の後にyaが来るとｙ音が欠けるためaになる）'}\n",
      "{'id': '11', 'lemma': '-a', 'etymology': '①\\u3000他動詞形成', 'explanation': '◆mak(開放）→maka(～を開ける）'}\n",
      "{'id': '12', 'lemma': '-a', 'etymology': '②\\u3000の所属形（短形）語尾', 'explanation': '◆\\u3000｢耳」の概念形 kisar → kisara 所属形「（～の）耳」'}\n",
      "{'id': '13', 'lemma': 'a （pl.rok )', 'etymology': '', 'explanation': '①\\u3000座る\\u3000１．(一人が）座っている\\u3000２．（寝ないで）起きている'}\n",
      "{'id': '14', 'lemma': '-a\\u3000（複数 -rok )', 'etymology': '接尾辞', 'explanation': '過去に話題にしたことを表す\\u3000◆\\u3000ne (その）→\\u3000nea （「例の」＝さっき話題にしたその/もうその事実は完了して「座している」その）'}\n",
      "{'id': '15', 'lemma': 'a p', 'etymology': '', 'explanation': '[残念表現]\\u3000～したものの\\u3000～したのだが\\u3000～\\u3000だったが ◆Ku=arpa rusuy pe ne a p.（私は行きたかったのに、、、。）'}\n",
      "{'id': '16', 'lemma': 'a=', 'etymology': '人称接辞（他動詞に）', 'explanation': '①\\u3000１．一般的に人は～する\\u3000２．ここの皆で～する\\u3000◆Cep a=supa wa a=e ro!（魚を皆で煮て食べよう！）'}\n",
      "{'id': '17', 'lemma': 'a=', 'etymology': '人称接辞（他動詞に）', 'explanation': '②\\u3000（引用文の中の話題の人を示す人称）その人が\\u3000◆Ku=yupo \"A=sapa arak wa hopuni=an ka eaykap,\" sekor hawean.(兄さんが「頭が痛くて起きられない」と言った。'}\n",
      "{'id': '18', 'lemma': 'a=', 'etymology': '人称接辞（他動詞に）', 'explanation': '③\\u3000（敬意を表したい人を示す人称・特に女性から男性へ）あなた様が\\u3000◆ Soyenpa=an ciki, ponkanpi a=hok yak pirka.（あなた様がお出掛けなら、ハガキを（あなた様が）買って来て下さると嬉しいわ）'}\n",
      "{'id': '19', 'lemma': 'a=ahupkarpo', 'etymology': 'a=ahupkar-po', 'explanation': '貰い子'}\n",
      "{'id': '20', 'lemma': 'a=aniuske', 'etymology': 'a=ani-uske', 'explanation': '取っ手'}\n",
      "{'id': '21', 'lemma': 'a=apte (aapte)', 'etymology': 'a=apte', 'explanation': '心配だ\\u3000もうダメだろう ◆Tanto yaynumiwen huci ku=hotanukar wa k=ek korka earkinne aapte noyne.（今日、病気の祖母を見舞ってきたが、大変心配な病状だ）'}\n",
      "{'id': '22', 'lemma': 'a=aremko', 'etymology': 'a=aremko', 'explanation': '人生半ばで死ぬ'}\n",
      "{'id': '23', 'lemma': 'a=arnorayke', 'etymology': 'a=ar-no-rayke', 'explanation': '完全に殺された'}\n",
      "{'id': '24', 'lemma': 'a=arustekka', 'etymology': 'a=ar-us-tek-ka', 'explanation': '死に絶える'}\n",
      "{'id': '25', 'lemma': 'a=aynukor', 'etymology': 'a=aynu-kor', 'explanation': '大事にされる\\u3000尊敬すべき人'}\n",
      "{'id': '26', 'lemma': 'a=aynukorkur', 'etymology': 'a=aynu-kor-kur', 'explanation': '大切にされるべき人'}\n",
      "{'id': '27', 'lemma': 'a=catcari', 'etymology': 'a=cat-cari', 'explanation': '散らかされる'}\n",
      "{'id': '28', 'lemma': 'a=eanasappe', 'etymology': 'a=e-anasap-pe', 'explanation': '乱暴者'}\n",
      "{'id': '29', 'lemma': 'a=earmuye', 'etymology': 'a=ear-muye', 'explanation': 'ひと結びの'}\n",
      "{'id': '30', 'lemma': 'a=easipamam', 'etymology': 'a=e-asip-amam', 'explanation': '死人の枕辺へ供える一膳飯'}\n"
     ]
    }
   ],
   "source": [
    "for row in extracted_rows[:30]:\n",
    "    print(row)\n"
   ]
  },
  {
   "cell_type": "code",
   "execution_count": 21,
   "metadata": {},
   "outputs": [],
   "source": [
    "import csv\n",
    "with open(OUTPUT_DIR / \"tommy1949_aynudictionary.tsv\", \"w\") as f:\n",
    "    writer = csv.DictWriter(f, fieldnames=extracted_rows[0].keys(), delimiter=\"\\t\")\n",
    "    writer.writeheader()\n",
    "    writer.writerows(extracted_rows)\n"
   ]
  }
 ],
 "metadata": {
  "kernelspec": {
   "display_name": ".venv",
   "language": "python",
   "name": "python3"
  },
  "language_info": {
   "codemirror_mode": {
    "name": "ipython",
    "version": 3
   },
   "file_extension": ".py",
   "mimetype": "text/x-python",
   "name": "python",
   "nbconvert_exporter": "python",
   "pygments_lexer": "ipython3",
   "version": "3.12.7"
  }
 },
 "nbformat": 4,
 "nbformat_minor": 2
}
