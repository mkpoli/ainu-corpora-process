{
    "cells": [
        {
            "cell_type": "markdown",
            "metadata": {},
            "source": [
                "# 国立アイヌ民族博物館アイヌ語アーカイブ"
            ]
        },
        {
            "cell_type": "code",
            "execution_count": 16,
            "metadata": {},
            "outputs": [],
            "source": [
                "from pathlib import Path\n",
                "OUTPUT_SRC_DIR = Path('../output/src/ainu-archive')\n",
                "if not OUTPUT_SRC_DIR.exists():\n",
                "    OUTPUT_SRC_DIR.mkdir(parents=True)\n",
                "OUTPUT_DIR = Path('../output/ainu-archive')\n",
                "if not OUTPUT_DIR.exists():\n",
                "    OUTPUT_DIR.mkdir(parents=True)"
            ]
        },
        {
            "cell_type": "markdown",
            "metadata": {},
            "source": [
                "## Download the html files"
            ]
        },
        {
            "cell_type": "code",
            "execution_count": 17,
            "metadata": {},
            "outputs": [],
            "source": [
                "# import requests\n",
                "# for query in ['-', 'a', 'i', 'u', 'e', 'o']:\n",
                "#     DIGITAL_ARCHIVE_URL = f\"https://nam.aynu.org/dic?word={query}\"\n",
                "#     print(DIGITAL_ARCHIVE_URL)\n",
                "#     response = requests.get(DIGITAL_ARCHIVE_URL)\n",
                "#     response.raise_for_status()\n",
                "#     with open(OUTPUT_SRC_DIR / f'{query}.html', 'w') as f:\n",
                "#         f.write(response.text)"
            ]
        },
        {
            "cell_type": "markdown",
            "metadata": {},
            "source": [
                "## Sanitize the html files\n"
            ]
        },
        {
            "cell_type": "code",
            "execution_count": 18,
            "metadata": {},
            "outputs": [],
            "source": [
                "# import regex as re\n",
                "\n",
                "# from tqdm.notebook import tqdm\n",
                "\n",
                "# dd_regex = re.compile(r\"(?s)(?<=<dd>)(.*?)(?=</dd>)\")\n",
                "\n",
                "# # Pattern for valid tags\n",
                "# valid_tag_pattern = re.compile(\n",
                "#     r\"&lt;(/?[a-zA-Z][a-zA-Z0-9:-]*\"\n",
                "#     r'(?:\\s+[a-zA-Z0-9:-]+(?:\\s*=\\s*(?:\"[^\"]*\"|\\'[^\\']*\\'|[^>\\s]+))?)*'\n",
                "#     r\"\\s*/?)&gt;\"\n",
                "# )\n",
                "\n",
                "# if not (OUTPUT_DIR / \"sanitized\").exists():\n",
                "#     (OUTPUT_DIR / \"sanitized\").mkdir(parents=True)\n",
                "\n",
                "# def escape_all_angle_brackets_in_dd(html):\n",
                "#     def replacer(match):\n",
                "#         dd_content = match.group(1)\n",
                "#         return dd_content.replace(\"<\", \"&lt;\").replace(\">\", \"&gt;\")\n",
                "\n",
                "#     return dd_regex.sub(replacer, html)\n",
                "\n",
                "\n",
                "# def unescape_valid_tags_in_dd(html):\n",
                "#     def unescape_tags(m):\n",
                "#         return f\"<{m.group(1)}>\"\n",
                "\n",
                "#     def dd_replacer(m):\n",
                "#         dd_content = m.group(1)\n",
                "#         # Replace &lt;validTag&gt; with <validTag>\n",
                "#         dd_content_fixed = valid_tag_pattern.sub(unescape_tags, dd_content)\n",
                "#         return dd_content_fixed\n",
                "\n",
                "#     return dd_regex.sub(dd_replacer, html)\n",
                "\n",
                "\n",
                "# def sanitize_dd_content(html):\n",
                "#     # 1) Escape everything inside <dd>\n",
                "#     step1 = escape_all_angle_brackets_in_dd(html)\n",
                "#     # 2) Then unescape valid HTML tags inside <dd>\n",
                "#     step2 = unescape_valid_tags_in_dd(step1)\n",
                "#     return step2\n",
                "\n",
                "\n",
                "# for file in tqdm(list(OUTPUT_SRC_DIR.glob(\"*.html\"))):\n",
                "#     with open(file, \"r\") as f:\n",
                "#         html = f.read()\n",
                "\n",
                "#         html = sanitize_dd_content(html)\n",
                "#         with open(OUTPUT_DIR / 'sanitized' / file.with_suffix(\".sanitized.html\").name, \"w\") as f:\n",
                "#             f.write(html)"
            ]
        },
        {
            "cell_type": "code",
            "execution_count": 19,
            "metadata": {},
            "outputs": [
                {
                    "data": {
                        "application/vnd.jupyter.widget-view+json": {
                            "model_id": "31bc8744b5f745f085e78906192b6781",
                            "version_major": 2,
                            "version_minor": 0
                        },
                        "text/plain": [
                            "  0%|          | 0/6 [00:00<?, ?it/s]"
                        ]
                    },
                    "metadata": {},
                    "output_type": "display_data"
                },
                {
                    "name": "stdout",
                    "output_type": "stream",
                    "text": [
                        "Total entries in ../output/ainu-archive/sanitized/o.sanitized.html: 15885\n"
                    ]
                },
                {
                    "data": {
                        "application/vnd.jupyter.widget-view+json": {
                            "model_id": "af2264cc0afc4a9982aec8ee86d9846b",
                            "version_major": 2,
                            "version_minor": 0
                        },
                        "text/plain": [
                            "  0%|          | 0/15885 [00:00<?, ?it/s]"
                        ]
                    },
                    "metadata": {},
                    "output_type": "display_data"
                },
                {
                    "name": "stdout",
                    "output_type": "stream",
                    "text": [
                        "Total entries in ../output/ainu-archive/sanitized/u.sanitized.html: 14903\n"
                    ]
                },
                {
                    "data": {
                        "application/vnd.jupyter.widget-view+json": {
                            "model_id": "a4cea1829bb64091884ecdacfec79ebf",
                            "version_major": 2,
                            "version_minor": 0
                        },
                        "text/plain": [
                            "  0%|          | 0/14903 [00:00<?, ?it/s]"
                        ]
                    },
                    "metadata": {},
                    "output_type": "display_data"
                },
                {
                    "name": "stdout",
                    "output_type": "stream",
                    "text": [
                        "Total entries in ../output/ainu-archive/sanitized/i.sanitized.html: 16814\n"
                    ]
                },
                {
                    "data": {
                        "application/vnd.jupyter.widget-view+json": {
                            "model_id": "394d7430d58c4f14930010b6bbeea476",
                            "version_major": 2,
                            "version_minor": 0
                        },
                        "text/plain": [
                            "  0%|          | 0/16814 [00:00<?, ?it/s]"
                        ]
                    },
                    "metadata": {},
                    "output_type": "display_data"
                },
                {
                    "name": "stdout",
                    "output_type": "stream",
                    "text": [
                        "Total entries in ../output/ainu-archive/sanitized/e.sanitized.html: 17800\n"
                    ]
                },
                {
                    "data": {
                        "application/vnd.jupyter.widget-view+json": {
                            "model_id": "dbd6ade97d314f07902d9ab8c245c779",
                            "version_major": 2,
                            "version_minor": 0
                        },
                        "text/plain": [
                            "  0%|          | 0/17800 [00:00<?, ?it/s]"
                        ]
                    },
                    "metadata": {},
                    "output_type": "display_data"
                },
                {
                    "name": "stdout",
                    "output_type": "stream",
                    "text": [
                        "Total entries in ../output/ainu-archive/sanitized/-.sanitized.html: 19047\n"
                    ]
                },
                {
                    "data": {
                        "application/vnd.jupyter.widget-view+json": {
                            "model_id": "f5d1103bdeae4cfc9f5c0a96499698b3",
                            "version_major": 2,
                            "version_minor": 0
                        },
                        "text/plain": [
                            "  0%|          | 0/19047 [00:00<?, ?it/s]"
                        ]
                    },
                    "metadata": {},
                    "output_type": "display_data"
                }
            ],
            "source": [
                "import parsel\n",
                "import regex as re\n",
                "from tqdm.notebook import tqdm\n",
                "from html import unescape\n",
                "\n",
                "columns = ['lemma', 'def', 'pron', 'tag']\n",
                "dictionary = set()\n",
                "\n",
                "for file in tqdm(list((OUTPUT_DIR / 'sanitized').glob('*.sanitized.html'))):\n",
                "    with open(file, 'r') as f:\n",
                "        file_tag = file.stem\n",
                "        \n",
                "        # remove unnecessary spaces\n",
                "        html = f.read().replace('\\n', '')\n",
                "        html = re.sub(r'\\s+', ' ', html)\n",
                "        \n",
                "        selector = parsel.Selector(html)\n",
                "        dl = selector.css('dl')\n",
                "        if not dl:\n",
                "            raise Exception(f'No dl element found in {file}')\n",
                "            \n",
                "        dts = dl.css('dt')\n",
                "        dds = dl.css('dd')\n",
                "        print(f'Total entries in {file}: {len(dts)}')\n",
                "        \n",
                "        for dt, dd in tqdm(list(zip(dts, dds))):\n",
                "            # Extract the key and sound URL from the dt element\n",
                "            lemma = (dt.xpath('string()').get() or '').strip()\n",
                "            if dt.css('sup'):\n",
                "                lemma = re.sub(r'\\s*\\d+\\s*$', '', lemma)\n",
                "            \n",
                "            if lemma.startswith('‘') or lemma.startswith('“'):\n",
                "                lemma = lemma.strip('‘“”’')\n",
                "                \n",
                "            sound_a = dt.css('a.sound')\n",
                "            sound_url = sound_a.attrib['data-sound-url'] if sound_a else None\n",
                "            \n",
                "            # Extract the value from the dd element\n",
                "            value = (dd.xpath('string()').get() or '').strip()\n",
                "\n",
                "            value = re.sub(r'<span class=\"hl\">', '', value)\n",
                "            value = re.sub(r'</span>', '', value)\n",
                "\n",
                "            value = unescape(value)\n",
                "            \n",
                "            dictionary.add((lemma, value, sound_url))\n",
                "\n",
                "print(\"Total entries in all:\", len(dictionary))\n"
            ]
        },
        {
            "cell_type": "code",
            "execution_count": 3,
            "metadata": {},
            "outputs": [
                {
                    "name": "stdout",
                    "output_type": "stream",
                    "text": [
                        "('wa', 'ワ 【接助】…して(二つの動詞句をつないで一まとまりのことがらとしてまとめる働きをする。 具体的には､ 次のようないろいろな場合に使われる)。 ①(一つのもの/ことについて二つ以上の説明や叙述をする場合にその二つの動詞句をつなぐ｡) upakno oka wa sattek kusu oka wa ウパｸノ オカ ワ サッテｸ クス オカ ワ 同じぐらいの大きさでやせこけていて｡(Ｓ会話) Kusur un oruspe ne wa teeta oruspe ne wa a=ewkoysoytak kor síran pe tasi an nek! クスルン オルｼペ ネ ワ テエタ オルｼペ ネ ワ アエウコイソイタｸ コﾛ シラン ペ タシ アン ネｸ! (これは)釧路の話で昔の話で､ 私たちはそれについて話し合っているのですよ｡(Ｓ会話) sunke ka eaykap wa anpe patek ye rusuy pe スンケ カ エアイカﾌﾟ ワ アンペ パテｸ イェ ルスイ ペ うそをつくことができなくて本当のことばかり言うもの｡(Ｓ会話) ②(前の動詞句が後の動詞句の表す出来事の方法や意図などを説明する｡) ku=hoyupu wa k=ek クホユプ ワ ケｸ (私は)走って来た。 hosippa wa paye ホシッパ ワ パイェ (彼らは)もどって行った。 ③(前の動詞句の出来事が終わってから後の動詞句の出来事が起こることを言う｡)…して。 otcike huraye wa pirpa オッチケ フライェ ワ ピﾘパ お膳を洗ってふきなさい｡(Ｗ) núman k=ek wa tanto suy ukoytak=an hawe ne ヌマン ケｸ ワ タント スイ ウコイタｸアン ハウェ ネ 私は昨日来て､ 今日また(姉と私と)二人で会話をするのです｡(Ｓ会話) ne to or ta cip hene a=kar wa oro ta a=anú wa ネ ト オッタ チﾌﾟ ヘネ アカﾗ ワ オロ タ アアヌ ワ その湖に舟でもつくってそこに置いて｡(Ｓ会話) ④(前の出来事が後の出来事の原因か理由になっている｡)…して。 k=úkao oyra wa rurikan クカオ オイラ ワ ルリカン (私は洗濯物を)しまい忘れて少し湿った｡(Ｗ) mosma kur or ta wenpe an wa oro ta ka ku=yorot モｼマ クロッタ ウェンペ アン マ オロ タ カ クヨロッ 他の人の家に不幸があって私はそこにも行って来た｡(Ｓ会話) (原因や理由の説明だということをはっきり述べるには kusu クス､ pe ne kusu ぺ ネ クス､ wa kusu ワ クス､ hi kusu ヒ クス などが用いられる｡) ⑤(補助動詞表現で) wa an …ワ アン。 (1)(すでに)…している。 mokor wa an モコﾛ ワ アン 眠っている(すでに寝ついていることを言う。 mokor kor an モコﾛ コラン は寝つきつつあること､ つまり眠りかかっていることを言う)｡(Ｗ) (2)…してある。 a=suwé wa an アスウェ ワ アン 煮てある､ (ごはんが)たいてある｡(Ｗ) wa anu ワ アヌ (あらかじめ)…しておく。 ku=ye wa k=ánu クイェ ワ カヌ 私は言っておく。 wa isam ワ イサﾑ …して(なくなって)しまう。 e wa isam エ ワ イサﾑ 食べてしまう。 wa oka ワ オカ (wa an ワ アン の複数)(二人/二つ以上が) (1)(すでに)…している。 móno rok wa oka モノ ロｸ ワ オカ (彼らは)座っている。 (2)…してある。 a=kar wa oka アカﾗ ワ オカ たくさんつくってある。 wa okere ワ オケレ (1)予定の行動をすっかり…してしまう(完了する)､ …し終わる。 ray wa okerpa ライ ワ オケﾚパ 皆死んでしまう｡(ＫＫ掛け合い歌) (2)とても/極めて…(である)。 wen wa okere pon cise ウェン マ オケレ ポン チセ とても悪い(粗末な)小さい家｡(Ｓ) ⑥[熟語・慣用句など] ne wa an ネ ワ アン [連体][単]/ne wa oka ネ ワ オカ [複] 今言っているこの/その､ 今/さっき言ったその/あの(☞ne wa an ネ ワ アン､ ネ ワ オカ)。 wa kusu ワ クス …したから､ …だから。 k=úni ta ku=mokor wa k=an yakun e=mismu kuni ku=ramu wa kusu k=ek ruwe un クニ タ クモコﾛ ワ カン ヤクン エミｼム クニ クラム ワ クス ケｸ ルウェ ウン 私がうちで眠っていたらあなたがさびしいだろうと思ったから来たんだよ｡(Ｓ) ☆参考 wa ワ と似た文脈で híne ヒネ も使われる。 どちらも使える場合も多いが､ 日常会話では wa ワ のほうが多く使われ､ 昔話などの語りの中では híne ヒネ のほうが多く使われる。 日常会話の中でも､ ③のように､ 相前後して起こる事柄を述べる場合には､ híne ヒネ もよく使われる。 その場合でも､ 前の出来事を述べてからそれと同じ重さで次の出来事を述べるのに､ 言い換えれば二つの事柄をただ順番に述べていくのには híne ヒネ が多く使われるのに対して､ 二つの出来事を一まとまりの事柄としてまとめるのには wa ワ が多く使われる。 また､ wa ワ はほとんどの場合動詞句の後に置かれるが､ híne ヒネ は前に動詞句のない文頭にも置かれる。 ☞híne ヒネ ☆参考 二つの別々の事柄が同時に起こることを表すには､ wa ワ ではなく kor コﾛ が使われる。 ☞kor コﾛ ｟テープ｠ （出典：田村、方言：沙流）', None)\n",
                        "('an', 'アン 【自動】[単](複は oka オカ) ①ある､ いる､ 存在する､ 滞在する､ 住む､ 起こる。 kotan noski ta poro cise an コタン ノｼキ タ ポロ チセ アン 村のまん中に大きな家がある。 sine pa an wa arpa シネ パ アン ワ アﾗパ (彼は)一年滞在して(帰って)行った。 sáha an サハ アン (彼には)姉がいる。 an pe アン ペ 本当のこと。 an koraci アン コラチ ありのままに。 an kus/kusu(keray(po)) アン クｼ/クス (ケライ(ポ)) …のおかげで。 an pakno アン パｸノ あるだけ。 maratto an マラット アン 熊送り(の宴)が催される。 niskur an ニｼクﾙ アン くもる､ くもっている。 nu(we) an ヌ(ウェ) アン (獲物が)たくさんとれる。 katu(hu) an カトゥ(フ) アン (へんな)かっこうだ。 ②生まれる。 hekaci an na ヘカチ アン ナ 男の子が生まれたよ｡(Ｗ) an hi wano アニ ワノ 生まれたときから｡(Ｓ) ③(時を表す語の後に置かれて)(朝､ 翌日､ いつ) になる。 kunneywa an クンネイワ アン 朝になる。 ciwnici an チウニチ アン 12時になる｡(Ｗ) isimne an イシﾑネ アン 翌日になる。 …an kor …アン コﾛ …になると､ …毎に。 kunneywa an kor, tokap an kor, onuman an kor クンネイワ アン コﾛ､ トカﾌﾟ アン コﾛ､ オヌマン アン コﾛ 毎朝､ 毎昼､ 毎晩｡(Ｓ会話) kesto an kor ケｼト アン コﾛ 毎日毎日。 hempara an kor ヘンパラ アン コﾛ いつになったら｡(Ｗ即興詩) oka(ke) an オカ(ケ) アン 終わる。 ④(格助詞 ne ネ の後に置かれて)…になる。 síporo cikap ne an シポロ チカﾌﾟ ネ アン (彼は)巨大な鳥になった｡(Ｗ神謡語り) ⑤(動詞句+接続助詞の後に置かれて) anki an アンキ アン もう少しで…しそうである。 pekor an ペコﾛ アン …したようである。 ápekor an アペコﾛ アン まるで…したかのようである。 híne an ヒネ アン …して(しまって) いる､ してある。 wa an ワ アン …してある/…している｡(☞⑧) kane an …カネ アン …して(いる状態で)ある。 kor an コﾛ アン …しつつある。 kotom an コトﾑ アン …するようである。 noyne an ノイネ アン …する(した)らしい。 ⑥(副詞や副詞句の後に置かれてこれを動詞句とする｡) mosmano an モｼマノ アン だまって(かまわないで)いる。 sonno an a! ソンノ アナ! 本当だねえ。 easir an a! エアシラナ! 全くねえ。 néno (kane) an ネノ (カネ) アン …に(よく)似ている。 pak(no) an パｸ(ノ) アン …くらい(の大きさ/量)である。 sekor an セコﾛ アン/セコラン … という(ような)。 sekor réhe an セコン レヘ アン …という名前である。 sekor ku=rehe an セコﾛ クレヘ アン 私は…という名前です。 ⑦(熟語) sine an ta シネ アン タ (＝sineanta) ある時。 sine an pa ta シネ アン パ タ ある年に。 sine an to ta シネ アン ト タ ある日(に)。 ne wa an… ネ ワ アン… (今ここで話題にしている)この…。 ⑧[補助動詞] wa an/híne an ワ アン/ヒネ アン …して(し終わって)いる､ …してある。 ek wa an エｸ ワ アン (彼はもう)来ている｡(Ｗ会話､ 民話) a=suwé wa an アスウェ ワ アン (ごはんが)炊いてある｡(Ｗ) e=hokuhu an wa an ruwe? エホクフ アン マ アン ルウェ? あなたの夫はいてあるのかい＝ご主人いるかい(いま在宅しているか)? (Ｗ)(方言で｢いてあったかい?｣と言う言い方がある。 同じことを e=hokuhu an ruwe/isam ruwe? エホクフ アン ルウェ/イサﾑ ルウェ? 《あなたの夫はいるのかい/いないのかい?》と言うことも可能だが､ an wa an ruwe アン マ アン ルウェ と言うほうが好まれる。 一方､ 夫を持っているかいないか(独身か)をたずねるときは an ruwe/isam ruwe アン ルウェ/イサﾑ ルウェ のほうを使い､ an wa an ruwe アン マ アン ルウェ とは言わない｡) ☆参考 [否定のつくり方]否定辞 somo ソモ による否定は通常つくられず否定動詞 isam イサﾑ が使われる。 ☞isam イサﾑ {E: ①to be; exist; stay; live; happen. ②to be born. ③to become (in reference to time). ④to become… ⑤… ⑥… ⑦…} ｟テープ｠ （出典：田村、方言：沙流）', None)\n",
                        "('kus(u)', \"クス/クｼ 【接続/後副】①(動詞句の後で) …するために､ …したから｡ mosma kur kor kusu é=iki hi ka somo ne モシマ クﾙ コﾛ クス エイキ ヒ カ ソモ ネ ほかの人が持つためにあなたはするのではない。 kemaha nam kusu suy soyne rusuy ケマハ ナﾑ クス スイ ソイネ ルスイ 足が冷たくなるのにまた外へ出たがる。 ②(名詞句の後で) …のために､ …のゆえに､ そのために。 mosma kur kusu ne kunak ku=ramu モｼマ クﾙ クス ネ クナｸ クラム ほかの人のためだと私は思った。 ekouwepekennu kus ek エコウウェペケンヌ クｼ エｸ 彼はあなたの話を聞きに来た｡(Ｓ) ③(kus クｼ にならず､ 常に kusu クス の形で)(関係詞的用法)そのために…する/したところの…(…する/した目的)。 kusu e=arpa p epitta e=eraman ka somo ki no hńta kusu túnas e=hosipi hawe an? クス エアﾗパﾌﾟ エピッタ エエラマン カ ソモ キ ノ フンタ クス トゥナｼ エホシピ ハウェ アン? そのためにおまえが行った事を(行った目的である勉強を)すっかりおぼえないで､ なぜ早く帰って来たのか。 ④熟語 hi kusu ヒ クス (だ)から､ そのために。 c=e ka etoranne hi kusu arorkisne kanpi níkor cómare hine… チェ カ エトランネ ヒ クス アロﾛキｼネ カンピ ニコﾛ チョマレ ヒネ…. 食べたくなかったからそっと紙にくるんで…｡(Ｓ) hemanta kus(u)/hńta kus(u) ヘマンタ/フンタ クス/クｼ なぜ。 mak an kus(u) マカン クス/クｼ どういうわけで。 mak an pe kus(u) マカン ペ クス/クｼ どういうわけで。 makanak ne kus(u) マカナｸ ネ クス/クｼ どういうわけで。 wa kus(u) ワ クス/クｼ …したから､ だからこそ。 pe ne kus(u) ペ ネ クス/クｼ/p ne kus(u) プ ネ クス/クｼ …する/したものだから､ …する/したので。 k=eywankep ka isam, a=konere p ne kusu ケイワンケﾌﾟ カ イサﾑ､ アコネレﾌﾟ ネ クス 私が使うのがない､ 粉々にされたものだから｡(Ｓ) hike kusu/ayke kusu ヒケ クス/アイケ クス …する/したからといって､ …したとしても。 keray(po) kus(u) ケライ(ポ) クス/クｼ …したおかげで。 kus(u) keray(po) …クス/クｼ ケライ(ポ) (動詞の後に置かれて)…したおかげで。 e=an kus(u) keray(po) エアン クス/クｼ ケライ(ポ) あなたのおかげで。 ne kus(u) koraci ネ クス/クｼ コラチ まるで…そっくりに。 kamuy ne kus koraci an onne kur カムイ ネ クｼ コラチ アン オンネ クﾙ まるで神のような老人｡(ＫＣ民話) 使役 + kusu ye クス イェ …するように言う(間接命令)。 i=ahupte kus(u) ye イアフﾌﾟテ クス/クｼ イェ (引用文で)彼は私たちに入りなさいと言う｡(ＮＫ民話) en=ere en=ere kus ye エネレ エネレ クｼ イェ 私に食べなさい食べなさいと言う｡(Ｓ) hunakke kusu フナッケ クス ☞hunakkekusu フナッケクス。 hinakke kusu ヒナッケ クス ☞hinakkekusu ヒナッケクス。 kusu an クス アン[単]/kusu oka クス オカ[複] とても…。 sattek kusu oka サッテｸ クス オカ (二つ以上が)とてもやせこけている｡(Ｓ会話) kus(u) ne クス/クｼ ネ (未来の表現) …する(ことになっている)､ …しようとしている､ …します。 ☞kusu ne クス ネ ☆発音 早く話すとき強調しないときはしばしば語末の母音 u が落ちて kus クｼ と発音される。 {E: ①in order to…; because one did… ②for…; because… ③that's why for that.} ｟テープ｠ （出典：田村、方言：沙流）\", None)\n",
                        "('kuni', 'クニ 【形名】[kun-(h)i …するべき/予定/はずである・こと] ①(動詞に終わる文(節)の後に置かれてこれを名詞句にする｡) …するで(あろう)ということ､ できる(ような)こと､ …する(べき)こと。 tap a=ye kuni tónonsukus ne humi as タﾌﾟ アイェ クニ トノンスクｼ ネ フミ アｼ これを言うのが真昼の凪(なぎ)だなあ。 ene…kuni エネ…クニ このように…するであろうこと＝次のように…するであろう/することになっている。 ene ne kuni エネ ネ クニ こう(次のように)なるでしょう。 ene an kuni エネ アン クニ このような(次のような)ことが起こるでしょう。 (注 すでに起こったことであれば､ kuni クニ の代わりに hi ヒ が使われるところである｡) ②[名詞化引用](次に｢言う｣｢思う｣｢考える｣｢相談する｣｢言いつける｣等々を意味する他動詞が来て､ kuni クニ で名詞化された文をその目的語とする間接引用文となる｡) kuni ramu クニ ラム …すると思う。 e=mismu kuni ku=ramu エミｼム クニ クラム あなたがさびしいだろうと私は思った｡(Ｓ) kuni ye クニ イェ …すると言う。 opitta nisatta hunak un paye kuni ye kor oka オピッタ ニサッタ フナクン パイェ クニ イェ コﾛオカ みんなで明日どこかへ行くという話をしている｡(Ｓ) a=saha i=nukar kuni a=ekímatek kusu アサハ イヌカﾗ クニ アエキマテｸ クス 私は姉に見られるのではないかと気が気ではないので｡(Ｗ民話) poro a=yupí a=saha a=ewtannere kuni a=ewkoramkor híne ポロ アユピ アサハ アエウタンネレ クニ アエウコラﾑコﾛ ヒネ 私たちは大きい兄と姉とを結婚させようと相談して｡(ＮＫ民話) akihi a=ne kuni eraman kuni a=sitóma アキヒ アネ クニ エラマン クニ アシトマ 私が彼の弟だということを彼が知るのが(＝彼に知られるのが)私は恐ろしかった｡(Ｓ民話) pirka aynu ne／e=an kuni／e=takar kusu／ne na ピﾘカ アイヌ ネ／エアン クニ／エタカﾗ クス／ネ ナ あなたは立派な人になることを夢に見るのだよ｡(ＮＫｙ子守歌) ③(動詞句の後に続かず､ 文頭に置かれて､ その前に言われた内容全体を受ける場合もある｡)そうする(であろう)ということ。 “…néno yaynu hani!” “e pirka ruwe un, kuni ku=ramu kor k=ek pe ne kusu ｢…ネノ ヤイヌ ハニ!｣｢エー､ ピﾘカ ルウェ ウン､ クニ クラム コﾛ ケｸ ペ ネ クス｣…｢そう思いなさいよ｡｣｢ええ､ いいよ。 私はそう思いながら来たのだから…｡｣/ ☆参考 間接引用の kuni クニ は kunak クナｸ と言い換えられる場合もある。 しかし､ kunak クナｸ の後に来る他動詞は､ ほとんどの場合 ramu ラム《…(ということ)を思う》または ye イェ《…(ということ)を言う》に限られている。 一方､ kuni クニ の後には ramu ラム､ ye イェ のほか､ eraman エラマン《…を知る》､ epakasnu エパカｼヌ《…を教える》､ sitoma シトマ《…を恐れる》､ ekaspaotte エカｼパオッテ《…を命じる》､ ewkoramkor エウコラﾑコﾛ《…を相談する》､ eese エエセ《…を承諾する》､ kar カﾗ《…をする》､ ki キ《…をする》､ takar タカﾗ《…を夢見る》等々いろいろな他動詞が来る。 さらに間接引用文をつくる以外に､ ne ネ《である》が後に続いて､ 《…する予定/はず/つもり…である》というような使い方もある。 一方､ すでに起こったこと､ 確認ずみのことに関して言うには kuni クニ ではなく yak ヤｸ が用いられる。 ☞kunak クナｸ､ yak ヤｸ､ sekor セコﾛ ｟テープ｠ （出典：田村、方言：沙流）', None)\n",
                        "('ruwe', \"ルウェ 【形名】[< ru-e 跡・(所属語尾)](名詞化辞として､ 確かなこと､ 確認ずみのことだというニュアンスを含む名詞句をつくる｡) ①(動詞句に終わる節の後に置かれてこれを名詞化する｡)…する/した/している/であること､ …したあと､ …した結果､ …したの。 taa a=en=kore ruwe nukar, hápo タア アエンコレ ルウェ ヌカﾗ､ ハポ ほら私がもらったのごらん､ かあさん｡(Ｓ) ruwe ne ルウェ ネ …する/したのだ/です。 ruwe? ルウェ? …する/したの(ですか)? …なの(ですか)? ruwe! ルウェ! …したなあ! …だなあ! ruwe an! ルウェ アン! …したなあ!…だなあ! ruwe an? ルウェ アン? …する/した(のです)か? …する/したの? (多くの場合､ 疑問詞を持つ疑問文に用いられる)。 ruwe he an? ルウェ ヘ アン? …する/したのか? …する/したの? (疑問詞のない､ 当否を問う疑問文で。 ruwe? ルウェ? だけでも疑問文になるが､ he an ヘ アン をつけるともっと強い疑問になる｡) e=eraman ruwe he an? エエラマン ルウェ ヘ アン? いったい君はわかっているのかい(わかっていないんじゃないか)。 eci=mokór wa eci=oká ruwe he an? エチモコﾛ ワ エチオカ ルウェ ヘ アン? いったいあなたたちは眠っているのか(しっかりしなきゃだめじゃないか)｡(Ｓ独話) ruwe somo he an? ルウェ ソモ ヘ アン? …する/したのではないか。 ruwe tapan ルウェ タパン …する/したのであります､ …する/…したのでございます。 ruwe un ルウェ ウン (返事として)ええ､ …する/したのだよ､ そうですよ。 kuni ku=ramu kor k=ek ruwe un クニ クラム コﾛ ケｸ ルウェ ウン ええ､ (私は)そう思いながら来たのよ｡(Ｓ会話) ②(文頭に置かれ､ その前に言われたことがらを受けてその全体を名詞化する｡) ruwe ene an hi ルウェ エネ アニ そのことはつまりこういうことだ。 ③(動詞に終わっている文の後ばかりとは限らない。 前の文と統語関係が切れている場合もある｡) ruwe un ルウェ ウン (肯定の返事として間投詞のように) そうする/したのだよ､ そうだよ。 “…a=ye hawe tapan na” “e, ruwe un“ ｢アイェ ハウェ タパン ナ｣｢エー､ ルウェ ウン｣ ｢…ということを私は言いましたよ｡｣｢ええ､ そのとおりです｡｣ (Ｗ-Ｓ会話) ☆参考 後に -he ヘ はつかない(ruwehe とはならない)。 ☆参考 場合によって ru ル の形が使われる。 ☞ru ル ☆参考 同様の機能を持つ形式名詞が数個あり､ それぞれ用法が違う。 hawe ハウェ(話された言葉および声に関することに用いられる)､ humi フミ(音や感覚､ 感じに関することに用いられる。 ただし視覚以外)､ siri シリ(目の前に見えている様子に関することに用いられる)。 {E: to do; did; in the process of doing; the out come, result of having done…; did… (to be placed in front of a sentence or phrase to make what was previously said into a noun form; it doesn't necessarily always come after a verb ending.)} ｟テープ｠ （出典：田村、方言：沙流）\", None)\n",
                        "('mak', 'マｸ 【疑副】どう。 mak hawean マｸ ハウェアン どう言う､ 何と言う。 híne mak hawean? ヒネ マｸ ハウェアン? そしたら(彼は)なんて言ったの? (Ｓ) (注 ｢何と言う｣は hńta/hemanta フンタ/ヘマンタ《何》を使わず､ mak マｸ を使って言う｡) mak iki マｸ イキ どうする､ 何をする､ どのように過ごす。 a=irwaki mak iki kor an? アイﾘワキ マｸ イキ コﾛ アン? 私たちの兄弟(兄または弟)はどうしている(達者か)? (兄弟姉妹の間の会話) (Ｓ) (注 ｢何をする｣も mak マｸ を使って mak iki マｸ イキ と言う。 これは､ 何をするか/しているか全然わからない場合に､ どのように時を過ごしているかを問う言い方である。 hńta/hemanta フンタ/ヘマンタ《何》を使って hńta kar フンタ カﾗ というのは､ 何かをつくる/つくっているとか､ 何かをする/しているとかがわかっていて､ 具体的に何をするか/しているかを問う言い方である｡) mak ye マｸ イェ (それを)どう言う。 (次の慣用表現で)mak a=ye hawe? マカイェ ハウェ? (直訳すると)私たちは/一般に人は(それを)どう言うの＝どう言いようもない､ しかたがない。 mak ku=ye hawe? マｸ クイェ ハウェ? (直訳すると)私は(それを)どう言うの＝どう言いようもない､ しかたがない。 ene kú=irara wa kú=iki p ne kus a=en=koyki ayke kusu mak ku=ye hawe? エネ クイララ ワ クイキﾌﾟ ネ クｼ アエンコイキ アイケ クス マｸ クイェ ハウェ 私はあんなに言うことをきかなかったんだから叱られてもしかたがない。 mak un a=ye hawe? マｸ ウン アイェ ハウェ? いつまで言っていてもしょうがない､ それ以上言うことができないからこのままにしておこう。 mak un a=ye ya マｸ ウン アイェ ヤ/マクン アイェ ヤ 何と言っても。 mak an マｸ アン/マカン どのようである､ どんな。 mak an yakka pirka wa マｸ アン ヤッカ ピﾘカ ワ どうでもいい｡(Ｓ) mak an uske ta a=eywanke kor pirka p an? マｸ アン ウｼケ タ アエイワンケ コﾛ ピﾘカﾌﾟ アン? どんなときに使えばいいの? (Ｓ) mak e=réhe an? マｸ エレヘ アン?/e=rehe mak an? エレヘ マｸ アン? あなたの名前はなんというのですか。 mak ataye an? マｸ アタイェ アン? 値段はいくらですか。 mak ani マカニ どうして､ どのようにして。 eci=ránmokka hawe ne p mak ani e=ruska p he an? エチランモッカ ハウェ ネﾌﾟ マカニ エルｼカﾌﾟ ヘ アン? (私はあなたを)からかっただけなのに(あなたは)どうして怒るの? … hike mak? ヒケ マｸ? …してはどうですか(提案) (Ｓ) ☆参考 mak マｸ は makanak マカナｸ と同義だが､ より簡単に(軽く)言う言い方。 沙流川筋では下流でも中流でも使うが､ 千歳の白沢ナベさんによれば千歳では使わず､ 軽く言うときでも makanak マカナｸ を使う。 ☞makanak マカナｸ {E: how; how…} ｟テープ｠ （出典：田村、方言：沙流）', None)\n",
                        "('ka', 'カ 【副助】(予想以上､ 追加､ 意外を表す｡) ①…も､ …までも。 eani ka un=tura エアニ カ ウントゥラ あなたも私たちと一緒に行こう｡(Ｓ) tup ka uk トゥﾌﾟ カ ウｸ 二つも/二つとも取った｡(Ｓ) ②(二回以上重ねて)…も…も､ …と…､ (動詞句のあとで)…したり…したり(日本語の｢…も…も｣よりもむしろ｢…と…｣に当たる場合もある)。 okkayo ka menoko ka porono oka オッカヨ カ メノコ カ ポロンノ オカ 男も女もたくさんいる｡(Ｓ) cáca ka an rupnemat ka an チャチャ カ アン ルﾌﾟネマッ カ アン じいさまとばあさまがいた。 ku=koytak ka en=koytak ka ki クコイタｸ カ エンコイタｸ カ キ 私が彼に話したり､ 彼が私に話したりした｡(Ｗ会話) ③(否定表現の中で)(1)…も…しない。 ponno ka ポンノ カ 少しも(…しない)。 sinep ka シネﾌﾟ カ 一つも(…しない)。 sinen ka isam シネン カ イサﾑ 一人もいない。 nen ka isam ネン カ イサﾑ だれもいない。 nep ka ku=sak ネﾌﾟ カ クサｸ 私は何も持っていない。 (2)(名詞句､ 副詞句､ 動詞句の後､ 否定辞 somo ソモ の前に置かれて) ka somo ne カ ソモ ネ …ではない。 seta ka somo ne セタ カ ソモ ネ 犬ではない｡(Ｗ) ka somo ki カ ソモ キ (動詞句の後で)…しもしない､ …したりなんかしない､ 全然 …しない(否定の返事で｢いいえ､ …しない｣に似たニュアンスでも使われる)。 ponno ka e ka somo ki ポンノ カ エ カ ソモ キ 少しも食べない｡(Ｓ) néun ka hawean ka somo ki ネウン カ ハウェアン カ ソモ キ (彼は)何も言わない。 ape ruy ka somo ki, méan na, ape pirka kor ka hopuni アペ ルイ カ ソモ キ､ メアン ナ､ アペ ピﾘカ コﾛ カ ホプニ 火が燃えていなくて寒いから火が良く燃えてきてから起きなさい(後の ka カ は日本語には訳せないが予想外(相手が予想していないと思われることがら)を示す)｡(Ｓ) ④[慣用句]pokas ka un …a p ポカｼ カ ウン…アﾌﾟ あんなに…だったのに。 easir ka エアシﾘ カ (強調するとき easiriː ka エアシリー カ)それはそれはもう本当に。 hike ka ヒケ カ …のに､ …しても､ …にもかかわらず。 pakno ka パｸノ カ これだけ(で十分です)､ もういい。 sonno ka ソンノ カ やっぱり本当に､ 思ったとおり､ 聞いていたとおり。 somo ka ソモ カ まさか…しない。 ☆発音 ①②③では､ 強調するとき直前の音節(つまり前の語の最後の音節)を高く上げる。 日常会話ではこのアクセントが多く聞かれる。 ☆参考 ｢も｣と訳せる場合は hem ヘﾑ と置き換えられることもあるが､ hem ヘﾑ は単に｢ＡもＢも｣とか｢…もまた｣とかを表し､ ka カ は予想以上のことや予想されていなかった新しい情報であることを示す。 {E: too; also.} ｟テープ｠ （出典：田村、方言：沙流）', None)\n",
                        "('uwepeker', 'ウウェペケﾚ 【自動/名】[u-w-e-peker 互い・(挿入音)・で/と一緒に・明るくなる] ①[自動]民話(昔話)を語る。 k=úwepeker ciki nu yan クウェペケッ チキ ヌ ヤン 民話を語るから(昔話をしてあげるから)聞きなさい｡(Ｓ独話) ②[名]民話(昔話)。 uwepeker ye ウウェペケﾚ イェ 民話を語る。 pirka uwepeker ku=ye kusu ne na ピﾘカ ウウェペケﾚ クイェ クス ネ ナ よい(すてきな/美しい)お話をしてあげるからね｡(Ｓ独話) ☆参考 昔話の中に､ 素性や先祖の話､ 歴史的な出来事など､ 子孫に教え伝える話と､ ただ楽しみのために話したり聞いたりする話とある。 前者を upaskuma ウパｼクマ と言い､ これを《言い伝え》と訳す。 後者を uwepeker ウウェペケﾚ と言い､ これを《民話》と訳す。 アイヌ民話 uwepeker ウウェペケﾚ には二種類あり､ 一つは日本民話にもよくあるようないわゆる｢隣の爺型｣の昔話､ もう一つは一人の人が自分の身に起こったことを語るという｢身の上話型｣の物語である。 ｢隣の爺型｣の昔話では､ 川下男と川上男､ うちの貧乏和人と隣の貧乏和人などの対(つい)が登場し､ 一人が成功して裕福になったのをもう一人が見てまねをして失敗し､ 死んでしまう。 だから人まねをしてはいけないという教訓が最後につく。 通常３人称で語られ､ 長さは数分から十数分程度である。 ｢身の上話型｣の物語では､ 主人公の自己紹介に始まり､ 自分の身に起こった出来事を次々に語っていく。 多くの場合､ 最後に｢…と､ どこそこの村おさが(村おさの妻が/立派な奥様が､ 等々)言いながら亡くなりました､ とさ｣というような結語がつく。 主人公の話したことを語り手が引用するという形で語られるので､ ｢私｣と訳される人称は引用文の自称の形､ すなわち不定人称形である。 長さも数十分から長いのになると１時間以上かかる場合もある。 どちらの型のものもアイヌ語では同じく uwepeker ウウェペケﾚ と呼ばれるので､ 日本語訳でも同じ｢民話｣という語に訳しておく。 これら二種類の型の民話のほかに､ 内容から見ると upaskuma ウパｼクマ《言い伝え》だと思われる話が uwepeker ウウェペケﾚ として語られることもある。 昔の先祖のことを子孫に伝えるために語るのではなく､ 単に昔話として語るからであろう。 また､ 人間の話である｢民話｣に対して神の話｢神話｣はどうかというと､ アイヌ神話は原則として節をつけて歌われるものであった。 これの多くは｢神謡｣(kamuyyukar カムイユカﾗ または menokoyukar メノコユカﾗ)と呼ばれる。 ところが昔神謡として歌われたものが散文で語られ､ それが uwepekere ウウェペケﾚ として伝えられる､ というようなことも最近は起こっている。 このように伝承のジャンル名もいまは昔とはだいぶ変わってきている。 ☞upaskuma ウパｼクマ､ kamuyyukar カムイユカﾗ､ menokoyukar メノコユカﾗ yukar ユカﾗ､ oyna オイナ {E: ①to tell a folktale. ②a folktale.} ｟テープ｠ （出典：田村、方言：沙流）', None)\n",
                        "('iki', 'イキ 【自動】[i-ki ものごとを・する] ①する､ ふるまう､ 行なう。 iki ayne イキ アイネ (苦心して/がんばりつづけて)ようやく。 …siri iki … シリ イキ …している様子である。 ene iki hi エネ イキ ヒ どうするかということ､ しかた。 ene iki hi ka isam エネ イキ ヒ カ イサﾑ どうしようもない。 ②(名詞として使われて)行い。 ene an iki patek kipa エネアニキ パテｸ キパ そのような行いばかりする｡(Ｓ会話) … péka iki …ペカ イキ …を歩く､ …を旅する。 ihokusi péka ikuusi péka é=iki ayne e=ek ruwe somo ne ya? イホクシ ペカ イクウシ ペカ エイキ アイネ エエｸ ルウェ ソモ ネ ヤ? マーケットや飲み屋をあなた歩いてきたのではないのか｡(Ｓ) ③[熟語]… hawe iki wa/…humi iki wa …ハウェ イキ ワ/…フミ イキ ワ (あきれた言い方の一つで､ 反語的に用いられる｡)こともあろうに…なんていうことを言ってる､ こともあろうに…なんてことをして音をたてている､ よくも…言う/…音を出すもんだね。 kasusne hawe iki wa! カスｼネ ハウェ イキ ワ! まあ､ たいしたことを言ってきた(＝ひどい話だなあ)(kasusne カスｼネ は《大したことはない》) (☞wa ワ 3)。 pe/p iki ペ/ﾌﾟ イキ …している(いぶかって言う言い方)。 hńta kohehewpa wa nukar pe iki? フンタ コヘヘウパ ワ ヌカﾗ ペ イキ? 何をのぞいて見てるんだろう。 hńta ewkopinupinu p ikipa? フンタ エウコピヌピヌﾌﾟ イキパ? 何をコソコソ話し合っているんだろう｡(Ｓ) ④[雅](韻文の中で､ また会話でも美文調で話すとき､ ときおり ne ネ《である》の代わりに使われる。 用例では korka/korkayki コﾛカ/コﾛカイキ《けれども》､ yakka/yakkayki ヤッカ/ヤッカイキ《…しても》の前に置かれている。 ne ネ を使った表現とは多少ニュアンスが違う｡) onne p iki korka オンネﾌﾟ イキ コﾛカ 年老いた者ではあるけれど｡(onne p ne korka オンネﾌﾟ ネ コﾛカ 年老いた者だけれど｡) (Ｗ神謡語り) pon cikisani／pon menoko／iki korkayki／kamuy moyremat ポン チキサニ／ポン メノコ／イキ コﾛカイキ／カムイ モイレマッ [雅]小さいハルニレの若い女性ではあるが､ まるで女神様のように…｡(Ｓユーカラ) iki yakkayki イキ ヤッカイキ [雅]…も。 inan henpara／iki yakkayki イナン ヘンパラ／イキ ヤッカイキ [雅]いつどんなときでも｡(Ｓユーカラ) {E: ①to do; conduct; behaviour (v.). ②conduct, behaviour, action (n.). ③… ④… } ｟テープ｠ （出典：田村、方言：沙流）', None)\n",
                        "('ki', 'キ 【他動】①…をする。 iteki cápe haw ki hani! イテキ チャペ ハウ キ ハニ! 猫の声をするなよ｡(Ｓ民話) ②(動詞を名詞として使い､ その後にこの ki キ をおいて)…をする。 ruyka poro opus ki wa an na iyaykipte na, yayitupareno arpa ルイカ ポロ オプｼ キ ワ アン ナ イヤイキﾌﾟテ ナ､ ヤイトゥパレノ アﾗパ 橋が大きな穴あきをしている(＝橋に大きな穴があいている)からあぶないから気をつけて行きなさい。 pon sikepo ki kane wa ek ポン シケポ キ カネ ワ エｸ 彼は小さい荷物背負いをして(＝小さい荷物を背負って)来た。 pirka usapki e=ki kusu ne na ピﾘカ ウサﾌﾟキ エキ クス ネ ナ (あなたは)よい働きをする(＝よく働く)のですよ。 ③(動詞の後に hi ヒ《こと》を置き､ その後にこの ki キ を置いて) hi ki rusuy ヒ キ ルスイ…してもらいたい､ …してほしい。 ci túnas hi ku=ki rusuy チ トゥナｼ ヒ クキ ルスイ 私は(イモなどが)早く煮えてほしい。 ④(代動詞として､ つまり本動詞のあとに副詞(連用語)や名詞(主語・目的語)が補われたり､ また副助詞がついたりした場合に､ そのあとに ki キ を置くことによって再び全体が動詞句として機能する､ つまり文を終止したり次に助動詞や接続助詞等々が続いたりすることができる｡)…する。 Kusur ta patek nuwe an ranma ki p ne yak a=ye クスﾙ タ パテｸ ヌウェ アン ランマ キﾌﾟ ネ ヤカイェ 釧路でばかりいつも(それが)たくさん取れるのだそうだ｡(Ｓ会話) a=kopásrota a=ukókikkikpa a=onáha ka a=unúhu ka ki アコパｼロタ アウコキッキｸパ アオナハ カ アウヌフ カ キ 私は父も母もののしったりボカボカなぐったりした｡(Ｓ民話) a=mipa p a=huráypa póka somo ki p ne kusu アミパﾌﾟ アフライパ ポカ ソモ キﾌﾟ ネ クス 私は着るものを洗いさえしなかったので｡(Ｗ民話) ⑤(韻文で､ 韻律を整えるために､ 音節数の足りない行の動詞のあとに置かれる。 文法機能上は､ 他のいろいろな他動詞(easkay エアｼカイ､ eaykap エアイカﾌﾟ など)の助動詞的用法と同じになる｡) ⑥ ki humi pirka キ フミ ピﾘカ 安心する､ 気持ちがいい。 nep póka k=ére wa ku=ki humi pirka ネﾌﾟ ポカ ケレ ワ クキ フミ ピﾘカ (私は)彼に少しでも食べさせて安心した｡(Ｓ) {E: ①to do… ②… ③… ④… ⑤… ⑥…} ｟テープ｠ （出典：田村、方言：沙流）', None)\n"
                    ]
                }
            ],
            "source": [
                "for i in sorted(dictionary, key=lambda x: len(x[1]), reverse=True)[:10]:\n",
                "    print(i)\n"
            ]
        },
        {
            "cell_type": "code",
            "execution_count": 4,
            "metadata": {},
            "outputs": [
                {
                    "name": "stdout",
                    "output_type": "stream",
                    "text": [
                        "('', 'フナｸ タ エパｸ/フナｸ タ エパッカ/フナｸ タ エパーカ 【慣用句】ちょうどいいあんばいに(…してよかった｡) hunak ta epak e=ek wa ku=mismu ka somo ki フナｸ タ エパｸ エエｸ ワ クミｼム カ ソモ キ いいあんばいに来てくれたので私はさびしくない｡(Ｓ) hunak ta epak ka e=pa p an un フナｸ タ エパｸ カ エパﾌﾟ アヌン いいあんばいにあなたが見つけたね(他の人だったら見つけても拾ってくれないだろうが)｡(Ｓ) hunak ta epaː ka somo kú=itura wa ene kú=iki hi an sekor ku=raman, poro k=éyayomusu フナｸ タ エパー カ ソモ クイトゥラ ワ エネ クイキ ヒ アン セコﾛ クラマン､ ポロ ケヤヨムス (ついていってこんなに何度もトイレに起きたら他の人も眠れないし自分も気の毒に思うところだった､ ) いいあんばいについて行かないでこうしているのだと思ったらほんとに行かないでよかったなあと思った｡(Ｓ) {E: fortunately.} （出典：田村、方言：沙流）', None)\n",
                        "('', '『エムン』 §278 オカヒジキ (3) 植物誌(E、p.380)には、なお、『エムン』(北見アイヌ名)ともある。e-mun“食う・草”の義か。 （出典：知里植物編、方言：）', None)\n",
                        "('', '『ヲイエンキキナ』 §278 オカヒジキ (1) 概報(G、p.33)に、Oienki-kina『ヲイエンキキナ』とある。明らかに「あイ・エンケ・キナ」áy-enke-kina“とげ・するどい・草”の誤写である。それが、植物誌(E、p.380)にもそのまま再録され、辞書もその誤りをそのまま踏襲している。 （出典：知里植物編、方言：）', None)\n",
                        "('', '『トーカリ』 §470 マリモ 毬藻 (1) コタン生物記(p.77)に『トーカリ』とある。これは「と・カリﾌﾟ」tó-karip“沼の・球”ということである。to(沼)、kari(回る)、p(もの)。 （出典：知里植物編、方言：）', None)\n",
                        "('', '『エバー』 §054 キムラタケ オニク (2) 『エバー』 ｟B、E、F｠ （出典：知里植物編、方言：）', None)\n",
                        "('', '『ポンチカノヤ』 §274 エゾノハマアカザ (2) 植物誌(E、p.378)に、『ポンチカノヤ』とあり、辞書にもそれを取って、Ponchika-noya(S)とある。正しくは、póncikah-noyaで、pón-cikah“小・鳥”、noya“もみ草、ヨモギの葉”、すなわち“小鳥ヨモギ”の義である。noyaとあるからには葉を言ったのであろう。 （出典：知里植物編、方言：）', None)\n",
                        "('', '『阿寒国立公園トアイヌノ伝説』 §470 マリモ 毬藻 (2) 山本多助『阿寒国立公園とアイヌの伝説』(p.15)には『トウラサンペ』とある。たぶん「と・ラサンペ」tó-rasampeと書くべきものであろう。toは沼だが、rasampeは未詳。 （出典：知里植物編、方言：）', None)\n",
                        "('', '『ハル』 §342 クロユリ 黒百合 (8) 『ハル』[haru(食糧)] ｟藻汐草――厚岸｠ （出典：知里植物編、方言：）', None)\n",
                        "('', '『チカップリヤキナ』 §274 エゾノハマアカザ (1) 概報(G、p.33)に、Chikap-riyakina『チカップリヤキナ』、とあり、植物誌(E、p.378)に、『チカップリヤキナ』(樺太アイヌ名)とある。樺太アイヌ語だとすると、cikáh-riyakina、と普通には発音されたであろう。cikáh(<cikap)は“鳥”、riyá-kinaは“越年する・草”“冬でも葉の枯れぬ草”。kinaとあるからには“茎葉”を指す。のであろう。辞書には、Chikap-riya-kina(S)、とある。 （出典：知里植物編、方言：）', None)\n",
                        "('', '『アラコイニ』 §415 アカエゾマツ やちしんこ (3) 『アラコイニ』 ｟E、G樺太｠ （出典：知里植物編、方言：）', None)\n",
                        "('', '『ハル』 §338 オオウバユリ エゾウバユリ (6) 『ハル』[haru 食糧] ｟千島｠ （出典：知里植物編、方言：）', None)\n",
                        "('', '『ヲタクナエエンキキナ』 §278 オカヒジキ (2) 植物誌(E、p.380)には、ほかに、『ヲタクナエエンキキナ』(樺太アイヌ名)と出ている。これは明らかに「オたクナイェンケキナ」otákun-ayenkekinaで、otakun<ota(砂浜)-ka(の上)-un(にある)、ayenkekina<ay(とげ)enke(とがっている)kina(草)、の義である。 （出典：知里植物編、方言：）', None)\n",
                        "('', '『オコチニー』 §318 デロ ドロノキ (7) 『オコチニー』 ｟樺太――E、p.431｠ （出典：知里植物編、方言：）', None)\n"
                    ]
                }
            ],
            "source": [
                "for i in dictionary:\n",
                "    if not i[0]:\n",
                "        print(i)"
            ]
        },
        {
            "cell_type": "code",
            "execution_count": 5,
            "metadata": {},
            "outputs": [],
            "source": [
                "import csv\n",
                "import unicodedata\n",
                "with open(OUTPUT_DIR / 'dictionary.tsv', 'w', newline='') as f:\n",
                "    writer = csv.writer(f, delimiter='\\t')\n",
                "    writer.writerow(['lemma', 'definition', 'sound_url'])\n",
                "    for (lemma, definition, sound_url) in sorted(dictionary, key=lambda x: unicodedata.normalize('NFKC', x[0]).lower()):\n",
                "        if lemma == '':\n",
                "            continue\n",
                "\n",
                "        writer.writerow((lemma, definition, sound_url))"
            ]
        },
        {
            "cell_type": "code",
            "execution_count": 6,
            "metadata": {},
            "outputs": [],
            "source": [
                "for i in dictionary:\n",
                "    if not re.search(r'（出典：.*?、方言：.*?）$', i[1]):\n",
                "        print(i)"
            ]
        },
        {
            "cell_type": "code",
            "execution_count": 7,
            "metadata": {},
            "outputs": [],
            "source": [
                "# import pandas as pd\n",
                "# import regex as re\n",
                "# df = pd.read_csv(OUTPUT_DIR / \"dictionary.tsv\", sep='\\t').dropna(subset=[\"lemma\"])\n",
                "# # df[df['def'].apply(lambda x: re.search(r'^[\\p{Katakana}\\-]', x) is None)].to_csv('./result.csv')\n",
                "# df[\n",
                "#     df[\"definition\"].apply(lambda x: re.search(r\"（出典：.*?、方言：.*?）$\", x) is None)\n",
                "# ].to_csv(OUTPUT_DIR / \"dictionary_categorized.tsv\", sep=\"\\t\", index=False)"
            ]
        },
        {
            "cell_type": "code",
            "execution_count": 80,
            "metadata": {},
            "outputs": [],
            "source": [
                "# count all words in the dictionary in pos column   \n",
                "# df['pos'].value_counts()\n",
                "\n",
                "# for i in dictionary:\n",
                "#     if re.search(r'（出典：.*?、方言：.*?）$', i[1]):\n",
                "#         print(i)\n"
            ]
        },
        {
            "cell_type": "markdown",
            "metadata": {},
            "source": [
                "### Clean up the dictionary"
            ]
        },
        {
            "cell_type": "code",
            "execution_count": 8,
            "metadata": {},
            "outputs": [],
            "source": [
                "import pandas as pd\n",
                "from pathlib import Path\n",
                "\n",
                "df_archive = (\n",
                "    pd.read_csv(OUTPUT_DIR / \"dictionary.tsv\", sep='\\t')\n",
                "    .dropna(subset=[\"lemma\"])\n",
                "    .drop_duplicates(subset=[\"lemma\", \"definition\"])\n",
                "    .reset_index(drop=True)\n",
                ")\n",
                "\n",
                "HALF_WIDTH_KANA_2_SMALL_KANA = {\n",
                "    \"ｸ\": \"ㇰ\",\n",
                "    \"ｼ\": \"ㇱ\",\n",
                "    \"ｽ\": \"ㇲ\",\n",
                "    \"ﾄ\": \"ㇳ\",\n",
                "    \"ﾇ\": \"ㇴ\",\n",
                "    \"ﾊ\": \"ㇵ\",\n",
                "    \"ﾋ\": \"ㇶ\",\n",
                "    \"ﾌﾟ\": \"ㇷ゚\",\n",
                "    \"ﾌ\": \"ㇷ\",\n",
                "    \"ﾍ\": \"ㇸ\",\n",
                "    \"ﾎ\": \"ㇹ\",\n",
                "    \"ﾑ\": \"ㇺ\",\n",
                "    \"ﾗ\": \"ㇻ\",\n",
                "    \"ﾘ\": \"ㇼ\",\n",
                "    \"ﾙ\": \"ㇽ\",\n",
                "    \"ﾚ\": \"ㇾ\",\n",
                "    \"ﾛ\": \"ㇿ\",\n",
                "}\n",
                "\n",
                "\n",
                "# Replace half-width katakana with small katakana\n",
                "df_archive[\"definition\"] = df_archive[\"definition\"].apply(\n",
                "    lambda x: re.sub(\n",
                "        rf'({\"|\".join(HALF_WIDTH_KANA_2_SMALL_KANA.keys())})',\n",
                "        lambda m: HALF_WIDTH_KANA_2_SMALL_KANA[m.group(1)],\n",
                "        x,\n",
                "    )\n",
                ")"
            ]
        },
        {
            "cell_type": "code",
            "execution_count": 9,
            "metadata": {},
            "outputs": [],
            "source": [
                "df_archive[[\"lemma\", \"definition\"]].to_csv(\n",
                "    OUTPUT_DIR / \"cleaned-dictionary.tsv\", sep=\"\\t\", index=False\n",
                ")"
            ]
        },
        {
            "cell_type": "code",
            "execution_count": 10,
            "metadata": {},
            "outputs": [
                {
                    "name": "stdout",
                    "output_type": "stream",
                    "text": [
                        "25646\n"
                    ]
                },
                {
                    "data": {
                        "text/html": [
                            "<div>\n",
                            "<style scoped>\n",
                            "    .dataframe tbody tr th:only-of-type {\n",
                            "        vertical-align: middle;\n",
                            "    }\n",
                            "\n",
                            "    .dataframe tbody tr th {\n",
                            "        vertical-align: top;\n",
                            "    }\n",
                            "\n",
                            "    .dataframe thead th {\n",
                            "        text-align: right;\n",
                            "    }\n",
                            "</style>\n",
                            "<table border=\"1\" class=\"dataframe\">\n",
                            "  <thead>\n",
                            "    <tr style=\"text-align: right;\">\n",
                            "      <th></th>\n",
                            "      <th>lemma</th>\n",
                            "      <th>definition</th>\n",
                            "    </tr>\n",
                            "  </thead>\n",
                            "  <tbody>\n",
                            "    <tr>\n",
                            "      <th>0</th>\n",
                            "      <td>#NAME?</td>\n",
                            "      <td>ターラ 【tara】〜に，モイレターラ＝遅くに．ラッチターラ＝静かに． （出典：萱野、方言：沙流）</td>\n",
                            "    </tr>\n",
                            "    <tr>\n",
                            "      <th>1</th>\n",
                            "      <td>#NAME?</td>\n",
                            "      <td>アㇱ 【=as】私，私たち〔人称接辞〕． （出典：萱野、方言：沙流）</td>\n",
                            "    </tr>\n",
                            "    <tr>\n",
                            "      <th>2</th>\n",
                            "      <td>#NAME?</td>\n",
                            "      <td>アン 【=an】私，私たち〔人称接辞〕． （出典：萱野、方言：沙流）</td>\n",
                            "    </tr>\n",
                            "    <tr>\n",
                            "      <th>3</th>\n",
                            "      <td>(a-)ekonramu-sitne</td>\n",
                            "      <td>エコンラムシッネ §245．きぜつする（気絶する）；気が遠くなる；気を失う；人事不省になる(13)うつらうつらする[気を失ってから我に返る直前の半意識の状態にある](a-)ekonramu-sitne〔e-kón-ra-mu-šit-ne エこンラム･シッネ〕[a-(我)、e(それについて)、kon(&lt;kor 持っている)、ramu(その心･心臓〔が〕)、sit(糸などのもつれた玉)、ne(のようになる)]｟ホロベツ,サル―ユ研Ⅱ, pp.466〜467｠ （出典：知里人間編I、方言：）</td>\n",
                            "    </tr>\n",
                            "    <tr>\n",
                            "      <th>4</th>\n",
                            "      <td>(a-)ekonramu-tanak-tanak</td>\n",
                            "      <td>エコンラムタナㇰタナㇰ §245．きぜつする（気絶する）；気が遠くなる；気を失う；人事不省になる(12)うつらうつらする[気を失ってから我に返ろうとする前の半意識の状態、ゆめうつつの状態にある](a-)ekonramu-tanak-tanak〔エこンラム･たナㇰタナㇰ〕[a-(我)、e(それについて)、kon(&lt;kor もっている、自分の)、ramu(その心〔が〕]、tanak-tanak(うつらうつらする)&gt;｟サル―ユ研Ⅱ、 p.599｠ （出典：知里人間編I、方言：）</td>\n",
                            "    </tr>\n",
                            "  </tbody>\n",
                            "</table>\n",
                            "</div>"
                        ],
                        "text/plain": [
                            "                      lemma  \\\n",
                            "0                    #NAME?   \n",
                            "1                    #NAME?   \n",
                            "2                    #NAME?   \n",
                            "3        (a-)ekonramu-sitne   \n",
                            "4  (a-)ekonramu-tanak-tanak   \n",
                            "\n",
                            "                                                                                                                                                                                                                                               definition  \n",
                            "0                                                                                                                                                                                                       ターラ 【tara】〜に，モイレターラ＝遅くに．ラッチターラ＝静かに． （出典：萱野、方言：沙流）  \n",
                            "1                                                                                                                                                                                                                      アㇱ 【=as】私，私たち〔人称接辞〕． （出典：萱野、方言：沙流）  \n",
                            "2                                                                                                                                                                                                                      アン 【=an】私，私たち〔人称接辞〕． （出典：萱野、方言：沙流）  \n",
                            "3  エコンラムシッネ §245．きぜつする（気絶する）；気が遠くなる；気を失う；人事不省になる(13)うつらうつらする[気を失ってから我に返る直前の半意識の状態にある](a-)ekonramu-sitne〔e-kón-ra-mu-šit-ne エこンラム･シッネ〕[a-(我)、e(それについて)、kon(<kor 持っている)、ramu(その心･心臓〔が〕)、sit(糸などのもつれた玉)、ne(のようになる)]｟ホロベツ,サル―ユ研Ⅱ, pp.466〜467｠ （出典：知里人間編I、方言：）  \n",
                            "4          エコンラムタナㇰタナㇰ §245．きぜつする（気絶する）；気が遠くなる；気を失う；人事不省になる(12)うつらうつらする[気を失ってから我に返ろうとする前の半意識の状態、ゆめうつつの状態にある](a-)ekonramu-tanak-tanak〔エこンラム･たナㇰタナㇰ〕[a-(我)、e(それについて)、kon(<kor もっている、自分の)、ramu(その心〔が〕]、tanak-tanak(うつらうつらする)>｟サル―ユ研Ⅱ、 p.599｠ （出典：知里人間編I、方言：）  "
                        ]
                    },
                    "execution_count": 10,
                    "metadata": {},
                    "output_type": "execute_result"
                }
            ],
            "source": [
                "import pandas as pd\n",
                "from pathlib import Path\n",
                "cleaned_dictionary = pd.read_csv(filepath_or_buffer=OUTPUT_DIR / 'cleaned-dictionary.tsv', sep='\\t')\n",
                "\n",
                "print(len(cleaned_dictionary))\n",
                "\n",
                "pd.set_option('display.max_colwidth',1000)\n",
                "cleaned_dictionary.head()"
            ]
        },
        {
            "cell_type": "code",
            "execution_count": 11,
            "metadata": {},
            "outputs": [
                {
                    "data": {
                        "text/html": [
                            "<div>\n",
                            "<style scoped>\n",
                            "    .dataframe tbody tr th:only-of-type {\n",
                            "        vertical-align: middle;\n",
                            "    }\n",
                            "\n",
                            "    .dataframe tbody tr th {\n",
                            "        vertical-align: top;\n",
                            "    }\n",
                            "\n",
                            "    .dataframe thead th {\n",
                            "        text-align: right;\n",
                            "    }\n",
                            "</style>\n",
                            "<table border=\"1\" class=\"dataframe\">\n",
                            "  <thead>\n",
                            "    <tr style=\"text-align: right;\">\n",
                            "      <th></th>\n",
                            "      <th>lemma</th>\n",
                            "      <th>definition</th>\n",
                            "    </tr>\n",
                            "  </thead>\n",
                            "  <tbody>\n",
                            "    <tr>\n",
                            "      <th>5</th>\n",
                            "      <td>-a</td>\n",
                            "      <td>ア 【接尾】[名詞の所属形形成](所属語尾とも呼ぶ。 母音 a ア + 子音に終る語幹のうちのあるものにつく。 この母音がついて所属形の｢短い形｣ができる。 さらにその後に ha ハ がついて(つまり語幹に -aha アハ がついて)所属形の｢長い形｣がつくられる。 本辞典では長短二つの形を合わせて…a(ha) のように表記してある｡) sar サㇻ [概]尾；sara(ha) サラ(ハ) [所]…の尾。</td>\n",
                            "    </tr>\n",
                            "    <tr>\n",
                            "      <th>6</th>\n",
                            "      <td>-aha</td>\n",
                            "      <td>アハ 【接尾】[名詞の所属形形成](｢所属語尾｣とも呼ぶ。 所属形の｢長い形｣をつくる｡) ☞-a ア</td>\n",
                            "    </tr>\n",
                            "    <tr>\n",
                            "      <th>7</th>\n",
                            "      <td>-ar</td>\n",
                            "      <td>アㇻ 【接尾】[不定使役形接尾辞](＝-yar ヤㇻ)(子音の後で y が落ちた形。 母音の後では -yar ヤㇻ の形が使われる｡) kar カㇻ …をつくる；karar カラㇻ …を人につくってもらう。</td>\n",
                            "    </tr>\n",
                            "    <tr>\n",
                            "      <th>8</th>\n",
                            "      <td>-asnu</td>\n",
                            "      <td>アㇱヌ 【接尾】(語根またはそれから派生した語基に接尾して､ 性質を表す自動詞(形容詞)をつくる｡)…が優れている。 kam カㇺ 肉；kamasnu カマㇱヌ 色白できれいな肌である。 tum トゥム 力；tumasnu トゥマㇱヌ 力が強い。 mon モン[語根]手；monasnu モナㇱヌ 手が早い､ 仕事がはかどる(monasap モナサㇷ゚ は《手がのろい､ 仕事がはかどらない》)｡</td>\n",
                            "    </tr>\n",
                            "    <tr>\n",
                            "      <th>9</th>\n",
                            "      <td>-atki</td>\n",
                            "      <td>アッキ 【接尾】(自動詞をつくる。 限られた決まった語にのみ現われる｡)tusus トゥスㇱ (擬態)；tususatki トゥスサッキ ガタガタふるえる。 sam サㇺ 横；samatki サマッキ 横向きになる。 sine シネ 一つの；sineatki シネアッキ 決まる。 sikari シカリ 丸い；sikannatki シカンナッキ 回る。</td>\n",
                            "    </tr>\n",
                            "    <tr>\n",
                            "      <th>...</th>\n",
                            "      <td>...</td>\n",
                            "      <td>...</td>\n",
                            "    </tr>\n",
                            "    <tr>\n",
                            "      <th>25641</th>\n",
                            "      <td>útek</td>\n",
                            "      <td>ウテㇰ 【他動】(人)を使いにやる､ (人)を(使い走りの仕事に)使う。 póho útek hawe ne ポホ ウテㇰ ハウェ ネ (その母親は)息子を使いにやったんだね｡(Ｓ会話) cútek ussiw チュテㇰ ウッシウ 使い走り(口上を持って他の人のところへ使いに行くなど)のための使用人。 {E: to use (someone) as a work helper} ｟テープ｠</td>\n",
                            "    </tr>\n",
                            "    <tr>\n",
                            "      <th>25642</th>\n",
                            "      <td>útur</td>\n",
                            "      <td>ウトゥㇽ 【位名】[概](所は útur(u)ke(he) ウトゥル/ウトゥㇽ/ウトゥルケ(ヘ)/ウトゥㇽケ(ヘ))…の下座､ 木尻座､ (家の中の)出入口に近い方､ 東窓から遠い方､ (家の外でも)西側。 ☆参考 utur ウトゥㇽ ｢間｣とは別の語である。 アクセントが違う。 cise útur kus チセ ウトゥㇽ クㇱ 家の西側を通る(cise útur péka kus チセ ウトゥㇽ ペカ クㇱ とも言う)｡(Ｓ) ☆参考 所属形 úturu ウトゥル の形は未出。 {E: the lower seat of (a house etc.); the western side of (a house etc.).} ｟テープ｠</td>\n",
                            "    </tr>\n",
                            "    <tr>\n",
                            "      <th>25643</th>\n",
                            "      <td>útur(u)ke(he)</td>\n",
                            "      <td>ウトゥㇽケ(ヘ)/ウトゥルケ(ヘ) 【位名】[所](概は útur ウトゥㇽ)[utur-u-ke …の下座・(所属語尾)・(よりはっきりさせる所属語尾)…の所] その下座(その西側/入口側)の所。 osisoun kamuy ekasi a wa an, úturuke ta kamuy ne noyne an húci a wa an オシソウン カムイ エカシ ア ワ アン､ ウトゥルケ タ カムイ ネ ノイネ アン フチ ア ワ アン 右座(いろりの北側､ 主人の席)に､ 神なる老人が座っていた､ その下座側(西側､ 入口側)に､ 神のような老女が座っていた｡(Ｗ神謡語り) ☆参考 úturu ウトゥル の形は未出。 {E: the lower seat of…} ｟テープ｠</td>\n",
                            "    </tr>\n",
                            "    <tr>\n",
                            "      <th>25644</th>\n",
                            "      <td>úturke</td>\n",
                            "      <td>ウトゥㇽケ 【位名】☞útur(u)ke(he) ウトゥㇽケ(ヘ)/ウトゥルケ(ヘ)</td>\n",
                            "    </tr>\n",
                            "    <tr>\n",
                            "      <th>25645</th>\n",
                            "      <td>úwa</td>\n",
                            "      <td>ウワ 【間投】知らない､ わからない。 ☞uwa ウワ 1</td>\n",
                            "    </tr>\n",
                            "  </tbody>\n",
                            "</table>\n",
                            "<p>9362 rows × 2 columns</p>\n",
                            "</div>"
                        ],
                        "text/plain": [
                            "               lemma  \\\n",
                            "5                 -a   \n",
                            "6               -aha   \n",
                            "7                -ar   \n",
                            "8              -asnu   \n",
                            "9              -atki   \n",
                            "...              ...   \n",
                            "25641           útek   \n",
                            "25642           útur   \n",
                            "25643  útur(u)ke(he)   \n",
                            "25644         úturke   \n",
                            "25645            úwa   \n",
                            "\n",
                            "                                                                                                                                                                                                                                                                                                                                                        definition  \n",
                            "5                                                                                                                                                    ア 【接尾】[名詞の所属形形成](所属語尾とも呼ぶ。 母音 a ア + 子音に終る語幹のうちのあるものにつく。 この母音がついて所属形の｢短い形｣ができる。 さらにその後に ha ハ がついて(つまり語幹に -aha アハ がついて)所属形の｢長い形｣がつくられる。 本辞典では長短二つの形を合わせて…a(ha) のように表記してある｡) sar サㇻ [概]尾；sara(ha) サラ(ハ) [所]…の尾。   \n",
                            "6                                                                                                                                                                                                                                                                                                             アハ 【接尾】[名詞の所属形形成](｢所属語尾｣とも呼ぶ。 所属形の｢長い形｣をつくる｡) ☞-a ア   \n",
                            "7                                                                                                                                                                                                                                                         アㇻ 【接尾】[不定使役形接尾辞](＝-yar ヤㇻ)(子音の後で y が落ちた形。 母音の後では -yar ヤㇻ の形が使われる｡) kar カㇻ …をつくる；karar カラㇻ …を人につくってもらう。   \n",
                            "8                                                                                                                                                          アㇱヌ 【接尾】(語根またはそれから派生した語基に接尾して､ 性質を表す自動詞(形容詞)をつくる｡)…が優れている。 kam カㇺ 肉；kamasnu カマㇱヌ 色白できれいな肌である。 tum トゥム 力；tumasnu トゥマㇱヌ 力が強い。 mon モン[語根]手；monasnu モナㇱヌ 手が早い､ 仕事がはかどる(monasap モナサㇷ゚ は《手がのろい､ 仕事がはかどらない》)｡   \n",
                            "9                                                                                                                                                                                アッキ 【接尾】(自動詞をつくる。 限られた決まった語にのみ現われる｡)tusus トゥスㇱ (擬態)；tususatki トゥスサッキ ガタガタふるえる。 sam サㇺ 横；samatki サマッキ 横向きになる。 sine シネ 一つの；sineatki シネアッキ 決まる。 sikari シカリ 丸い；sikannatki シカンナッキ 回る。   \n",
                            "...                                                                                                                                                                                                                                                                                                                                                            ...  \n",
                            "25641                                                                                                                                                        ウテㇰ 【他動】(人)を使いにやる､ (人)を(使い走りの仕事に)使う。 póho útek hawe ne ポホ ウテㇰ ハウェ ネ (その母親は)息子を使いにやったんだね｡(Ｓ会話) cútek ussiw チュテㇰ ウッシウ 使い走り(口上を持って他の人のところへ使いに行くなど)のための使用人。 {E: to use (someone) as a work helper} ｟テープ｠   \n",
                            "25642                         ウトゥㇽ 【位名】[概](所は útur(u)ke(he) ウトゥル/ウトゥㇽ/ウトゥルケ(ヘ)/ウトゥㇽケ(ヘ))…の下座､ 木尻座､ (家の中の)出入口に近い方､ 東窓から遠い方､ (家の外でも)西側。 ☆参考 utur ウトゥㇽ ｢間｣とは別の語である。 アクセントが違う。 cise útur kus チセ ウトゥㇽ クㇱ 家の西側を通る(cise útur péka kus チセ ウトゥㇽ ペカ クㇱ とも言う)｡(Ｓ) ☆参考 所属形 úturu ウトゥル の形は未出。 {E: the lower seat of (a house etc.); the western side of (a house etc.).} ｟テープ｠   \n",
                            "25643  ウトゥㇽケ(ヘ)/ウトゥルケ(ヘ) 【位名】[所](概は útur ウトゥㇽ)[utur-u-ke …の下座・(所属語尾)・(よりはっきりさせる所属語尾)…の所] その下座(その西側/入口側)の所。 osisoun kamuy ekasi a wa an, úturuke ta kamuy ne noyne an húci a wa an オシソウン カムイ エカシ ア ワ アン､ ウトゥルケ タ カムイ ネ ノイネ アン フチ ア ワ アン 右座(いろりの北側､ 主人の席)に､ 神なる老人が座っていた､ その下座側(西側､ 入口側)に､ 神のような老女が座っていた｡(Ｗ神謡語り) ☆参考 úturu ウトゥル の形は未出。 {E: the lower seat of…} ｟テープ｠   \n",
                            "25644                                                                                                                                                                                                                                                                                                                  ウトゥㇽケ 【位名】☞útur(u)ke(he) ウトゥㇽケ(ヘ)/ウトゥルケ(ヘ)   \n",
                            "25645                                                                                                                                                                                                                                                                                                                               ウワ 【間投】知らない､ わからない。 ☞uwa ウワ 1   \n",
                            "\n",
                            "[9362 rows x 2 columns]"
                        ]
                    },
                    "execution_count": 11,
                    "metadata": {},
                    "output_type": "execute_result"
                }
            ],
            "source": [
                "# Find all 田村's in the dictionary (ending with 田村)\n",
                "\n",
                "tamura_entries = cleaned_dictionary.loc[cleaned_dictionary['definition'].str.contains('（出典：田村、方言：沙流）')]\n",
                "\n",
                "# Remove the citation from the definition\n",
                "tamura_entries.loc[:, 'definition'] = tamura_entries['definition'].apply(lambda x: re.sub(r'（出典：田村、方言：沙流）', '', x))\n",
                "tamura_entries"
            ]
        },
        {
            "cell_type": "code",
            "execution_count": 12,
            "metadata": {},
            "outputs": [],
            "source": [
                "# Create a copy to avoid SettingWithCopyWarning\n",
                "tamura_entries_copy = tamura_entries.copy()\n",
                "\n",
                "# Extract transliteration and definition using .loc\n",
                "tamura_entries_copy.loc[:, 'translit'] = tamura_entries_copy['definition'].apply(\n",
                "    lambda x: re.match(r'(.*?)(【.*)', x).group(1) if re.match(r'(.*?)(【.*)', x) else re.match(r'(\\p{scx=Katakana}+)', x).group(1) if re.match(r'(\\p{scx=Katakana}+)', x) else None\n",
                ")\n",
                "\n",
                "tamura_entries_copy.loc[:, 'definition'] = tamura_entries_copy['definition'].apply(\n",
                "    lambda x: re.match(r'(.*?)(【.*)', x).group(2) if re.match(r'(.*?)(【.*)', x) else re.match(r'(\\p{scx=Katakana}+)', x).group(1) if re.match(r'(\\p{scx=Katakana}+)', x) else None\n",
                ")\n",
                "\n",
                "# Reassign to original variable with selected columns\n",
                "tamura_entries_parsed = tamura_entries_copy[['lemma', 'translit', 'definition']]"
            ]
        },
        {
            "cell_type": "code",
            "execution_count": 13,
            "metadata": {},
            "outputs": [],
            "source": [
                "tamura_entries_parsed.to_csv(OUTPUT_DIR / \"tamura-entries.tsv\", sep=\"\\t\", index=False)"
            ]
        },
        {
            "cell_type": "code",
            "execution_count": 14,
            "metadata": {},
            "outputs": [
                {
                    "data": {
                        "text/html": [
                            "<div>\n",
                            "<style scoped>\n",
                            "    .dataframe tbody tr th:only-of-type {\n",
                            "        vertical-align: middle;\n",
                            "    }\n",
                            "\n",
                            "    .dataframe tbody tr th {\n",
                            "        vertical-align: top;\n",
                            "    }\n",
                            "\n",
                            "    .dataframe thead th {\n",
                            "        text-align: right;\n",
                            "    }\n",
                            "</style>\n",
                            "<table border=\"1\" class=\"dataframe\">\n",
                            "  <thead>\n",
                            "    <tr style=\"text-align: right;\">\n",
                            "      <th></th>\n",
                            "      <th>lemma</th>\n",
                            "      <th>translit</th>\n",
                            "      <th>definition</th>\n",
                            "    </tr>\n",
                            "  </thead>\n",
                            "  <tbody>\n",
                            "    <tr>\n",
                            "      <th>0</th>\n",
                            "      <td>-a</td>\n",
                            "      <td>ア</td>\n",
                            "      <td>【接尾】[名詞の所属形形成](所属語尾とも呼ぶ。 母音 a ア + 子音に終る語幹のうちのあるものにつく。 この母音がついて所属形の｢短い形｣ができる。 さらにその後に ha ハ がついて(つまり語幹に -aha アハ がついて)所属形の｢長い形｣がつくられる。 本辞典では長短二つの形を合わせて…a(ha) のように表記してある｡) sar サㇻ [概]尾；sara(ha) サラ(ハ) [所]…の尾。</td>\n",
                            "    </tr>\n",
                            "    <tr>\n",
                            "      <th>1</th>\n",
                            "      <td>-aha</td>\n",
                            "      <td>アハ</td>\n",
                            "      <td>【接尾】[名詞の所属形形成](｢所属語尾｣とも呼ぶ。 所属形の｢長い形｣をつくる｡) ☞-a ア</td>\n",
                            "    </tr>\n",
                            "    <tr>\n",
                            "      <th>2</th>\n",
                            "      <td>-ar</td>\n",
                            "      <td>アㇻ</td>\n",
                            "      <td>【接尾】[不定使役形接尾辞](＝-yar ヤㇻ)(子音の後で y が落ちた形。 母音の後では -yar ヤㇻ の形が使われる｡) kar カㇻ …をつくる；karar カラㇻ …を人につくってもらう。</td>\n",
                            "    </tr>\n",
                            "    <tr>\n",
                            "      <th>3</th>\n",
                            "      <td>-asnu</td>\n",
                            "      <td>アㇱヌ</td>\n",
                            "      <td>【接尾】(語根またはそれから派生した語基に接尾して､ 性質を表す自動詞(形容詞)をつくる｡)…が優れている。 kam カㇺ 肉；kamasnu カマㇱヌ 色白できれいな肌である。 tum トゥム 力；tumasnu トゥマㇱヌ 力が強い。 mon モン[語根]手；monasnu モナㇱヌ 手が早い､ 仕事がはかどる(monasap モナサㇷ゚ は《手がのろい､ 仕事がはかどらない》)｡</td>\n",
                            "    </tr>\n",
                            "    <tr>\n",
                            "      <th>4</th>\n",
                            "      <td>-atki</td>\n",
                            "      <td>アッキ</td>\n",
                            "      <td>【接尾】(自動詞をつくる。 限られた決まった語にのみ現われる｡)tusus トゥスㇱ (擬態)；tususatki トゥスサッキ ガタガタふるえる。 sam サㇺ 横；samatki サマッキ 横向きになる。 sine シネ 一つの；sineatki シネアッキ 決まる。 sikari シカリ 丸い；sikannatki シカンナッキ 回る。</td>\n",
                            "    </tr>\n",
                            "    <tr>\n",
                            "      <th>...</th>\n",
                            "      <td>...</td>\n",
                            "      <td>...</td>\n",
                            "      <td>...</td>\n",
                            "    </tr>\n",
                            "    <tr>\n",
                            "      <th>9357</th>\n",
                            "      <td>útek</td>\n",
                            "      <td>ウテㇰ</td>\n",
                            "      <td>【他動】(人)を使いにやる､ (人)を(使い走りの仕事に)使う。 póho útek hawe ne ポホ ウテㇰ ハウェ ネ (その母親は)息子を使いにやったんだね｡(Ｓ会話) cútek ussiw チュテㇰ ウッシウ 使い走り(口上を持って他の人のところへ使いに行くなど)のための使用人。 {E: to use (someone) as a work helper} ｟テープ｠</td>\n",
                            "    </tr>\n",
                            "    <tr>\n",
                            "      <th>9358</th>\n",
                            "      <td>útur</td>\n",
                            "      <td>ウトゥㇽ</td>\n",
                            "      <td>【位名】[概](所は útur(u)ke(he) ウトゥル/ウトゥㇽ/ウトゥルケ(ヘ)/ウトゥㇽケ(ヘ))…の下座､ 木尻座､ (家の中の)出入口に近い方､ 東窓から遠い方､ (家の外でも)西側。 ☆参考 utur ウトゥㇽ ｢間｣とは別の語である。 アクセントが違う。 cise útur kus チセ ウトゥㇽ クㇱ 家の西側を通る(cise útur péka kus チセ ウトゥㇽ ペカ クㇱ とも言う)｡(Ｓ) ☆参考 所属形 úturu ウトゥル の形は未出。 {E: the lower seat of (a house etc.); the western side of (a house etc.).} ｟テープ｠</td>\n",
                            "    </tr>\n",
                            "    <tr>\n",
                            "      <th>9359</th>\n",
                            "      <td>útur(u)ke(he)</td>\n",
                            "      <td>ウトゥㇽケ(ヘ)/ウトゥルケ(ヘ)</td>\n",
                            "      <td>【位名】[所](概は útur ウトゥㇽ)[utur-u-ke …の下座・(所属語尾)・(よりはっきりさせる所属語尾)…の所] その下座(その西側/入口側)の所。 osisoun kamuy ekasi a wa an, úturuke ta kamuy ne noyne an húci a wa an オシソウン カムイ エカシ ア ワ アン､ ウトゥルケ タ カムイ ネ ノイネ アン フチ ア ワ アン 右座(いろりの北側､ 主人の席)に､ 神なる老人が座っていた､ その下座側(西側､ 入口側)に､ 神のような老女が座っていた｡(Ｗ神謡語り) ☆参考 úturu ウトゥル の形は未出。 {E: the lower seat of…} ｟テープ｠</td>\n",
                            "    </tr>\n",
                            "    <tr>\n",
                            "      <th>9360</th>\n",
                            "      <td>úturke</td>\n",
                            "      <td>ウトゥㇽケ</td>\n",
                            "      <td>【位名】☞útur(u)ke(he) ウトゥㇽケ(ヘ)/ウトゥルケ(ヘ)</td>\n",
                            "    </tr>\n",
                            "    <tr>\n",
                            "      <th>9361</th>\n",
                            "      <td>úwa</td>\n",
                            "      <td>ウワ</td>\n",
                            "      <td>【間投】知らない､ わからない。 ☞uwa ウワ 1</td>\n",
                            "    </tr>\n",
                            "  </tbody>\n",
                            "</table>\n",
                            "<p>9362 rows × 3 columns</p>\n",
                            "</div>"
                        ],
                        "text/plain": [
                            "              lemma            translit  \\\n",
                            "0                -a                  ア    \n",
                            "1              -aha                 アハ    \n",
                            "2               -ar                 アㇻ    \n",
                            "3             -asnu                アㇱヌ    \n",
                            "4             -atki                アッキ    \n",
                            "...             ...                 ...   \n",
                            "9357           útek                ウテㇰ    \n",
                            "9358           útur               ウトゥㇽ    \n",
                            "9359  útur(u)ke(he)  ウトゥㇽケ(ヘ)/ウトゥルケ(ヘ)    \n",
                            "9360         úturke              ウトゥㇽケ    \n",
                            "9361            úwa                 ウワ    \n",
                            "\n",
                            "                                                                                                                                                                                                                                                                                                                                     definition  \n",
                            "0                                                                                                                                   【接尾】[名詞の所属形形成](所属語尾とも呼ぶ。 母音 a ア + 子音に終る語幹のうちのあるものにつく。 この母音がついて所属形の｢短い形｣ができる。 さらにその後に ha ハ がついて(つまり語幹に -aha アハ がついて)所属形の｢長い形｣がつくられる。 本辞典では長短二つの形を合わせて…a(ha) のように表記してある｡) sar サㇻ [概]尾；sara(ha) サラ(ハ) [所]…の尾。   \n",
                            "1                                                                                                                                                                                                                                                                                             【接尾】[名詞の所属形形成](｢所属語尾｣とも呼ぶ。 所属形の｢長い形｣をつくる｡) ☞-a ア   \n",
                            "2                                                                                                                                                                                                                                         【接尾】[不定使役形接尾辞](＝-yar ヤㇻ)(子音の後で y が落ちた形。 母音の後では -yar ヤㇻ の形が使われる｡) kar カㇻ …をつくる；karar カラㇻ …を人につくってもらう。   \n",
                            "3                                                                                                                                           【接尾】(語根またはそれから派生した語基に接尾して､ 性質を表す自動詞(形容詞)をつくる｡)…が優れている。 kam カㇺ 肉；kamasnu カマㇱヌ 色白できれいな肌である。 tum トゥム 力；tumasnu トゥマㇱヌ 力が強い。 mon モン[語根]手；monasnu モナㇱヌ 手が早い､ 仕事がはかどる(monasap モナサㇷ゚ は《手がのろい､ 仕事がはかどらない》)｡   \n",
                            "4                                                                                                                                                                 【接尾】(自動詞をつくる。 限られた決まった語にのみ現われる｡)tusus トゥスㇱ (擬態)；tususatki トゥスサッキ ガタガタふるえる。 sam サㇺ 横；samatki サマッキ 横向きになる。 sine シネ 一つの；sineatki シネアッキ 決まる。 sikari シカリ 丸い；sikannatki シカンナッキ 回る。   \n",
                            "...                                                                                                                                                                                                                                                                                                                                         ...  \n",
                            "9357                                                                                                                                          【他動】(人)を使いにやる､ (人)を(使い走りの仕事に)使う。 póho útek hawe ne ポホ ウテㇰ ハウェ ネ (その母親は)息子を使いにやったんだね｡(Ｓ会話) cútek ussiw チュテㇰ ウッシウ 使い走り(口上を持って他の人のところへ使いに行くなど)のための使用人。 {E: to use (someone) as a work helper} ｟テープ｠   \n",
                            "9358            【位名】[概](所は útur(u)ke(he) ウトゥル/ウトゥㇽ/ウトゥルケ(ヘ)/ウトゥㇽケ(ヘ))…の下座､ 木尻座､ (家の中の)出入口に近い方､ 東窓から遠い方､ (家の外でも)西側。 ☆参考 utur ウトゥㇽ ｢間｣とは別の語である。 アクセントが違う。 cise útur kus チセ ウトゥㇽ クㇱ 家の西側を通る(cise útur péka kus チセ ウトゥㇽ ペカ クㇱ とも言う)｡(Ｓ) ☆参考 所属形 úturu ウトゥル の形は未出。 {E: the lower seat of (a house etc.); the western side of (a house etc.).} ｟テープ｠   \n",
                            "9359  【位名】[所](概は útur ウトゥㇽ)[utur-u-ke …の下座・(所属語尾)・(よりはっきりさせる所属語尾)…の所] その下座(その西側/入口側)の所。 osisoun kamuy ekasi a wa an, úturuke ta kamuy ne noyne an húci a wa an オシソウン カムイ エカシ ア ワ アン､ ウトゥルケ タ カムイ ネ ノイネ アン フチ ア ワ アン 右座(いろりの北側､ 主人の席)に､ 神なる老人が座っていた､ その下座側(西側､ 入口側)に､ 神のような老女が座っていた｡(Ｗ神謡語り) ☆参考 úturu ウトゥル の形は未出。 {E: the lower seat of…} ｟テープ｠   \n",
                            "9360                                                                                                                                                                                                                                                                                                      【位名】☞útur(u)ke(he) ウトゥㇽケ(ヘ)/ウトゥルケ(ヘ)   \n",
                            "9361                                                                                                                                                                                                                                                                                                                【間投】知らない､ わからない。 ☞uwa ウワ 1   \n",
                            "\n",
                            "[9362 rows x 3 columns]"
                        ]
                    },
                    "execution_count": 14,
                    "metadata": {},
                    "output_type": "execute_result"
                }
            ],
            "source": [
                "import pandas as pd\n",
                "tamura_entries_parsed = pd.read_csv(OUTPUT_DIR / \"tamura-entries.tsv\", sep=\"\\t\")\n",
                "tamura_entries_parsed"
            ]
        },
        {
            "cell_type": "code",
            "execution_count": 15,
            "metadata": {},
            "outputs": [
                {
                    "name": "stdout",
                    "output_type": "stream",
                    "text": [
                        "82\n"
                    ]
                }
            ],
            "source": [
                "from typing import TypedDict\n",
                "import regex as re\n",
                "class TamuraEntry(TypedDict):\n",
                "    lemma: str\n",
                "    pos: str\n",
                "    definition: str\n",
                "\n",
                "class ParsedTamuraEntry(TypedDict):\n",
                "    lemma: str\n",
                "    poses: list[str]\n",
                "    glosses: list[str]\n",
                "\n",
                "entries: list[ParsedTamuraEntry] = []\n",
                "\n",
                "for i, entry in enumerate(tamura_entries.to_dict(orient='records')):\n",
                "    pos = (match := re.search(r'【(?:< )?(.*?)】', entry['definition'])) and match.group(1)\n",
                "\n",
                "    if not pos:\n",
                "        # print(entry['definition'])\n",
                "        continue\n",
                "\n",
                "    if pos[0].isascii():\n",
                "        print(len(entry['definition']))\n",
                "        # print(entry['def'])\n",
                "        break\n",
                "\n",
                "    pos_map = {\n",
                "        \"接尾\": \"sfx\",\n",
                "        \"接頭\": \"pfx\",\n",
                "        \"副助詞\": \"advp\",\n",
                "        \"接続助詞\": \"sconj\",\n",
                "        \"疑問\": \"int\",\n",
                "        \"形式名詞\": \"nmlz\",\n",
                "        \"動詞\": \"v\",\n",
                "        \"自動\": \"vi\",\n",
                "        \"他動\": \"vt\",\n",
                "        \"複他動\": \"vd\",\n",
                "        \"完動\": \"vc\",\n",
                "        \"複他\": \"vd\",\n",
                "        \"名\": \"n\",\n",
                "        \"名詞\": \"n\",\n",
                "        \"連体詞\": \"adn\",\n",
                "        # \"形容詞\": \"adj\",\n",
                "        \"副詞\": \"adv\",\n",
                "        \"接続詞\": \"cconj\",\n",
                "        \"助詞\": \"post\",\n",
                "        \"助動\": \"auxv\",\n",
                "        \"副\": \"adv\",\n",
                "        \"終助\": \"sfp\",\n",
                "        \"接尾辞\": \"sfx\",\n",
                "        \"接頭辞\": \"pfx\",\n",
                "        \"間投\": \"intj\",\n",
                "        \"後置副詞\": \"padv\",\n",
                "        \"人接\": \"pers\",\n",
                "        \"繋辞\": \"cop\",\n",
                "        \"位名\": \"nl\",\n",
                "        # \"複数形\": \"pl\",\n",
                "        \"複数形\": \"v\",\n",
                "        \"副助\": \"advp\",\n",
                "        \"接助\": \"sconj\",\n",
                "        \"疑問詞\": \"int\",\n",
                "        \"形名\": \"nmlz\",\n",
                "        \"他動語幹\": \"root\",\n",
                "        \"自動語幹\": \"root\",\n",
                "        \"他動語根\": \"root\",\n",
                "        \"語構成要素\": \"root\",\n",
                "        \"語根\": \"root\",\n",
                "        \"名詞語根\": \"root\",\n",
                "        \"代名\": \"pron\",\n",
                "        \"連他動\": \"colloc\",\n",
                "        \"後副\": \"padv\",\n",
                "        # \"接\": \"conj\",\n",
                "        \"接\": \"cconj\",\n",
                "        \"連体\": \"adn\",\n",
                "        \"格助\": \"postp\",\n",
                "        \"助\": \"parti\",\n",
                "        \"分離他動\": \"vt\",\n",
                "        \"慣用句\": \"idiom\",\n",
                "        \"数名\": \"n\",\n",
                "    }\n",
                "\n",
                "    pos = re.sub(r\"\\(?[?？]\\)?\", \"\", pos)\n",
                "    poses = re.split(r\"[＋/+(]\", pos)\n",
                "    for pos in poses:\n",
                "        if pos not in pos_map:\n",
                "            print(pos)\n",
                "            continue\n",
                "\n",
                "    parsed_poses = [pos_map.get(pose, pose) for pose in poses]\n",
                "\n",
                "    definition = re.sub(r'【(.*?)】', '', entry['definition'])\n",
                "    definition = re.sub(r'（出典：.*?）', '', definition)\n",
                "    definition = re.sub(r'\\[.*?\\]', '', definition)\n",
                "    definition = re.sub(r'\\(.*\\)', '', definition)\n",
                "    definition = re.sub(r\"[☞☆].*\", \"\", definition)\n",
                "    definition = re.sub(r'\\{.*?\\}', '', definition)\n",
                "    definition = definition.replace(\"｟テープ｠\", \"\")\n",
                "\n",
                "    glosses = re.split(r\"[\\p{P}①②③④⑤⑥⑦⑧⑨⑩]\", definition)\n",
                "    glosses = [gloss.strip() for gloss in glosses if gloss.strip()]\n",
                "    glosses = [gloss for gloss in glosses if not gloss[0].isascii()]\n",
                "\n",
                "    entries.append({\n",
                "        \"lemma\": entry['lemma'],\n",
                "        \"poses\": parsed_poses,\n",
                "        \"glosses\": glosses\n",
                "    })"
            ]
        },
        {
            "cell_type": "code",
            "execution_count": 151,
            "metadata": {},
            "outputs": [],
            "source": [
                "import json\n",
                "with open(OUTPUT_DIR / \"tamura-entries-parsed.json\", \"w\") as f:\n",
                "    json.dump(entries, f, ensure_ascii=False)"
            ]
        }
    ],
    "metadata": {
        "kernelspec": {
            "display_name": "Python 3",
            "language": "python",
            "name": "python3"
        },
        "language_info": {
            "codemirror_mode": {
                "name": "ipython",
                "version": 3
            },
            "file_extension": ".py",
            "mimetype": "text/x-python",
            "name": "python",
            "nbconvert_exporter": "python",
            "pygments_lexer": "ipython3",
            "version": "3.12.7"
        },
        "orig_nbformat": 4
    },
    "nbformat": 4,
    "nbformat_minor": 2
}
